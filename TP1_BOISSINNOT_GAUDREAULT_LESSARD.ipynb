{
 "cells": [
  {
   "cell_type": "markdown",
   "metadata": {},
   "source": [
    "# TP1 \n",
    "\n",
    "## Question 1  \n",
    "### SOLVED ###\n",
    "La densité électronique, $n_e$, d'un milieu peut être calculée, selon la formule suivante: $$n_e=\\frac{N_{A}\\cdot Z \\cdot \\rho}{M},$$ où $N_A$ est le nombre d'Avogadro, $Z$ est le numéro atomique, $M$ est la masse molaire du milieu ($M = A \\cdot M_u$), $A$ est la masse atomique relative et $M_{u}$ la constante de masse molaire ($M_{u} = 1 g/cm^3$). \n",
    "\n",
    "Les propriétés des [milieux](https://www.physics.nist.gov/cgi-bin/Star/compos.pl?ap) et des [éléments](https://www.ptable.com) les composants sont obtenues à l'aide du site du NSIT et du site Ptable respectivement."
   ]
  },
  {
   "cell_type": "code",
   "execution_count": 1,
   "metadata": {},
   "outputs": [],
   "source": [
    "# Propriétés des milieux (eau et os) sous forme de dictionnaire \n",
    "\n",
    "import numpy as np\n",
    "\n",
    "                        # Densité [g/cm^3]\n",
    "eau_liq = {\"Densité\" : 1.00000E+00,\n",
    "                       # Mean Excitation Energy [MeV]\n",
    "           \"MEE\" : 75.000000E-06,\n",
    "                               # numéro atomique\n",
    "           \"Composition\" : np.array([[1, 8], \n",
    "                                     # proportion dans le milieu\n",
    "                                     [0.111894, 0.888106], \n",
    "                                     # masse molaire [g/mol] (source ptable.com)\n",
    "                                     [1.008, 15.999]])} \n",
    "\n",
    "\n",
    "\n",
    "                        # Densité [g/cm^3]\n",
    "os_compact = {\"Densité\" : 1.85000E+00, \n",
    "                      # Mean Excitation Energy [MeV]\n",
    "              \"MEE\" : 91.900000E-06,\n",
    "                                              # numéro atomique\n",
    "              \"Composition\" : np.array([[1, 6, 7, 8, 12, 15, 16, 20], \n",
    "                                                # proportion dans le milieu\n",
    "                                        [0.063984, 0.278000, 0.027000, 0.410016, 0.002000, 0.070000, 0.002000, 0.147000],\n",
    "                                                        # masse molaire [g/mol] (source ptable.com)\n",
    "                                        [1.008, 12.011, 14.007, 15.999, 24.305, 30.738, 32.065, 40.078]])} \n"
   ]
  },
  {
   "cell_type": "code",
   "execution_count": 2,
   "metadata": {},
   "outputs": [],
   "source": [
    "# fonction de la densité électronique selon les propriétés du milieu\n",
    "\n",
    "import scipy.constants as cst\n",
    "\n",
    "def n_e(num_ato, proportion, mass_mol, densité):\n",
    "    return cst.Avogadro * densité * np.sum(proportion * num_ato / mass_mol) "
   ]
  },
  {
   "cell_type": "code",
   "execution_count": 3,
   "metadata": {},
   "outputs": [
    {
     "name": "stdout",
     "output_type": "stream",
     "text": [
      "Valeur de la densité électronique selon la formule de Bethe \n",
      "   Eau liquide : 3.34E+23 [électrons/cm^3]\n",
      "   Os compact : 5.91E+23 [électrons/cm^3]\n"
     ]
    }
   ],
   "source": [
    "# n_e pour l'eau et un os compact\n",
    "\n",
    "eau_liq[\"n_e\"] = n_e(num_ato = eau_liq[\"Composition\"][0], proportion = eau_liq[\"Composition\"][1], \n",
    "                     mass_mol = eau_liq[\"Composition\"][2], densité = eau_liq[\"Densité\"])\n",
    "\n",
    "os_compact[\"n_e\"] = n_e(num_ato = os_compact[\"Composition\"][0], proportion = os_compact[\"Composition\"][1], \n",
    "                        mass_mol = os_compact[\"Composition\"][2], densité = os_compact[\"Densité\"])\n",
    "\n",
    "print(\"Valeur de la densité électronique selon la formule de Bethe \\n   Eau liquide : {:.2E} [électrons/cm^3]\\n   Os compact : {:.2E} [électrons/cm^3]\".format(eau_liq[\"n_e\"], os_compact[\"n_e\"]))"
   ]
  },
  {
   "cell_type": "markdown",
   "metadata": {},
   "source": [
    "Comme l'application de la protonthérapie produit des faisceaux de particules dans la gamme 70-250 MeV, soit des protons de plus de 3 MeV, il est possible d'obtenir le pouvoir d'arrêt collisionnel selon l'énergie d'un proton comme suit : \n",
    "\n",
    "$$S_{col}(T) = 2\\pi r_e^2 m_e c^2 n_e \\frac{1}{\\beta^2}\\left[\\ln\\left(\\frac{2m_e c^2 \\beta^2 \\gamma^2 T_e^{max}}{I^2}\\right)-2\\beta^2\\right],$$\n",
    "\n",
    "\n",
    "où $r_e$ est le rayon d'un électron classique, $m_e$ est la masse d'un électron, $c$ est la vitesse de la lumière, $T_e^{max}$ est l'énergie maximale transférable à un électron par le proton, $I$ est l'énergie moyenne d'excitation du matériau et $\\beta$ et $\\gamma$ sont les facteurs de Lorentz."
   ]
  },
  {
   "cell_type": "code",
   "execution_count": 4,
   "metadata": {},
   "outputs": [],
   "source": [
    "# Constantes des protons et électrons\n",
    "\n",
    "from numpy import sqrt, pi, log\n",
    "\n",
    "# rayon classique d'un électron [m]\n",
    "r_e = 2.8179403227E-13     \n",
    "\n",
    "# énergie de masse d'un électron/c^2 [MeV/(m/s)^2]\n",
    "m_e_c2 = 0.51099895000\n",
    "\n",
    "# énergie de masse d'un proton/c^2 [MeV/(m/s)^2]\n",
    "m_p_c2 = 938.27208816  \n",
    "\n",
    "\n",
    "# facteur de Lorentz selon l'énergie du proton\n",
    "\n",
    "def gamma(T):\n",
    "    return (T/(m_p_c2)) + 1\n",
    "\n",
    "def beta(T):\n",
    "    beta = sqrt((gamma(T)**2 - 1) / gamma(T)**2)\n",
    "    return beta\n",
    "\n",
    "# Décomposition de Te_max comme les équations (6) de la page 4 de l'énoncé\n",
    "\n",
    "a = 2 * m_e_c2\n",
    "b = 1 + (m_e_c2 / m_p_c2)**2\n",
    "d = 2*(m_e_c2 / m_p_c2)\n",
    "\n",
    "\n",
    "def Te_max(T):\n",
    "    return a*(gamma(T)**2 - 1) / (b + d * gamma(T))"
   ]
  },
  {
   "cell_type": "code",
   "execution_count": 5,
   "metadata": {},
   "outputs": [],
   "source": [
    "# fonction de l'arrêt collisionnel massive pour un proton de plus de 3 MeV\n",
    "# Pour faciliter la lecture, l'équation Scol est décomposée en variable t1 et t2\n",
    "\n",
    "\n",
    "def t1(T):\n",
    "    return 2 * pi * r_e**2 *m_e_c2 / (beta(T)**2)\n",
    "def t2(T):\n",
    "    return 2 * m_e_c2 * beta(T)**2 * gamma(T)**2\n",
    "\n",
    "# Scol varie selon le milieu (eau ou os), en n_e et I. Il varie aussi selon l'énergie du proton T\n",
    "\n",
    "def Scol(n_e, T, I):\n",
    "    return t1(T) * n_e * (log(t2(T)*Te_max(T) / I**2) - 2*beta(T)**2)\n"
   ]
  },
  {
   "cell_type": "code",
   "execution_count": 6,
   "metadata": {},
   "outputs": [],
   "source": [
    "# valeurs théorique de l'eau\n",
    "\n",
    "data_water_NSIT = np.loadtxt(\"Scol_water_NSIT.txt\",float)\n",
    "data_water_NSIT_x = data_water_NSIT[:,0]\n",
    "data_water_NSIT_y = data_water_NSIT[:,1]\n",
    "\n",
    "# valeurs théorique de l'os compact\n",
    "\n",
    "data_bone_NSIT = np.loadtxt(\"Scol_bone_NSIT.txt\",float)\n",
    "data_bone_NSIT_x = data_bone_NSIT[:,0]\n",
    "data_bone_NSIT_y = data_bone_NSIT[:,1]\n"
   ]
  },
  {
   "cell_type": "code",
   "execution_count": 7,
   "metadata": {},
   "outputs": [
    {
     "data": {
      "image/png": "[encoded data removed]",
      "text/plain": [
       "<Figure size 432x288 with 1 Axes>"
      ]
     },
     "metadata": {},
     "output_type": "display_data"
    },
    {
     "data": {
      "image/png": "[encoded data removed]",
      "text/plain": [
       "<Figure size 432x288 with 1 Axes>"
      ]
     },
     "metadata": {},
     "output_type": "display_data"
    }
   ],
   "source": [
    "# Présentation des courbes\n",
    "\n",
    "from numpy import linspace, loadtxt\n",
    "from math import exp\n",
    "import matplotlib.pylab as plt\n",
    "\n",
    "##### eau liquide #####\n",
    " \n",
    "\n",
    "xpoints_w = linspace(0.3, 10000, 1000)\n",
    "ypoints_w = []\n",
    "\n",
    "#Les propriétés sont reprises dans les dictionnaires du premier block.\n",
    "# les valeurs de la fonction Scol() sont divisées par la densité pour obtenir le pouvoir d'arrêt collisionnel\n",
    "\n",
    "for T in xpoints_w:\n",
    "    ypoints_w.append(Scol(eau_liq[\"n_e\"], T, eau_liq[\"MEE\"]) / eau_liq[\"Densité\"])\n",
    "\n",
    "plt.plot(data_water_NSIT[:,0], data_water_NSIT[:,1], \"k--\", label=\"Valeurs théoriques du NSIT\")\n",
    "plt.plot(xpoints_w, ypoints_w,\"b\", label=\"Valeurs numérique de l'eau liquide\")\n",
    "plt.xscale(\"log\")\n",
    "plt.yscale(\"log\")\n",
    "plt.xlabel(\"Énergie du proton [MeV]\")\n",
    "plt.ylabel(\"Pouvoir d'arrêt collsionnel [MeV cm^2/g]\")\n",
    "plt.legend()\n",
    "plt.show()\n",
    "\n",
    "\n",
    "##### os compact ######\n",
    "\n",
    "\n",
    "xpoints_b = linspace(0.3, 10000, 1000)\n",
    "ypoints_b = []\n",
    "\n",
    "for T in xpoints_b:\n",
    "    ypoints_b.append(Scol(os_compact[\"n_e\"], T, os_compact[\"MEE\"]) / os_compact[\"Densité\"])\n",
    "\n",
    "\n",
    "plt.plot(data_bone_NSIT[:,0], data_bone_NSIT[:,1], \"k--\", label=\"Valeurs théoriques du NSIT\")\n",
    "plt.plot(xpoints_b, ypoints_b,\"b\", label=\"Valeurs numérique d'un os compact\")\n",
    "plt.xscale(\"log\")\n",
    "plt.yscale(\"log\")\n",
    "plt.xlabel(\"Énergie du proton [MeV]\")\n",
    "plt.ylabel(\"Pouvoir d'arrêt collsionnel [MeV cm^2/g]\")\n",
    "plt.legend()\n",
    "plt.show()\n",
    "\n"
   ]
  },
  {
   "cell_type": "markdown",
   "metadata": {},
   "source": [
    "# Question 2\n",
    "### SOLVED ###\n",
    "L'homogénéité dimensionnelle peut être vérifiée lorsque de deux grandeurs s'expriment dans la même unité. On souhaite vérifier l'homogénéité de $R_{CSDA}$ qui est définie par l'équation suivante: $$R_{C S D A}=\\int_{0}^{T_{i}} \\frac{\\mathrm{dT}^{\\prime}}{\\frac{S_{c o l}}{\\rho}}.$$ Sachant que $R_{C S D A}$ représente la porté des protons dans un milieu, elle doit donc être exprimée en unité longueur. On souhaite donc que le côté gauche de l'équation soit réductible à une unité de longueur. L'énergie $T$ est exprimée en $[M L^2 T^{-2}]$, $S_{col}$, en $[M L T^{-2}]$ et finalement, $\\rho$, en $[M L^{-3}]$. En remplaçant dans l'équation, on obtient: $$\\frac{[M L^2 T^{-2}][M L^{-3}]}{[M L T^{-2}]} = \\left[\\frac{M}{L^2}\\right].$$ Le côté droit de l'équation n'est pas exprimé dans la même unité que le côté gauche, cela réfute l'homogénité dimensionnelle de $R_{CSDA}$."
   ]
  },
  {
   "cell_type": "markdown",
   "metadata": {},
   "source": [
    "# Question 3\n",
    "Le pouvoir d’arrêt total est bien approximé par le pouvoir d’arrêt collisionnel aux énergies de la protonthérapie. En effet, lorsqu'on compare les valeurs du pouvoir d'arrêt total du NSIT avec le pouvoir d'arrêt collisionnel de 70 à 250 MeV sur le graphique de la question 1 on voit rapidement que les deux courbes sont très près l'une de l'autre. De façon un peu plus quantitative il est possible d'utiliser l'erreur quadratique moyenne pour comparer les deux courbes:"
   ]
  },
  {
   "cell_type": "code",
   "execution_count": 8,
   "metadata": {},
   "outputs": [
    {
     "name": "stdout",
     "output_type": "stream",
     "text": [
      "L'erreur quadratique moyenne pour l'eau est: 0.18963548461816188\n",
      "L'erreur quadratique moyenne pour l'os est: 0.23719006436818366\n"
     ]
    }
   ],
   "source": [
    "#Valeurs de 70-250 MeV des courbes théoriques \n",
    "T = np.array(data_water_NSIT_x[71:105])\n",
    "\n",
    "#Valeurs du pouvoir collisionnel de l'eau du NSIT de 70-250 MeV\n",
    "Scol_eau_NSIT = np.array(data_water_NSIT_y[71:105])\n",
    "\n",
    "#Valeurs du pouvoir collisionnel de l'eau calculée  de 70-250 MeV\n",
    "Scol_eau_calculee = Scol(eau_liq[\"n_e\"], T, eau_liq[\"MEE\"]) / eau_liq[\"Densité\"]\n",
    "\n",
    "#Valeurs du pouvoir collisionnel de l'os du NSIT de 70-250 MeV\n",
    "Scol_os_NSIT = np.array(data_bone_NSIT_y[71:105])\n",
    "\n",
    "#Valeurs du pouvoir collisionnel de l'os calculée de 70-250 MeV\n",
    "Scol_os_calculee = Scol(os_compact[\"n_e\"], T, os_compact[\"MEE\"]) / os_compact[\"Densité\"]\n",
    "\n",
    "# Root mean square error \n",
    "def rmse(y_1,y_2):\n",
    "    return np.sqrt(((y_1 - y_2) ** 2).mean())\n",
    "\n",
    "rmse_val_eau = rmse(Scol_eau_calculee, Scol_eau_NSIT)\n",
    "rmse_val_os = rmse(Scol_os_calculee, Scol_os_NSIT)\n",
    "\n",
    "print(\"L\\'erreur quadratique moyenne pour l\\'eau est: \" + str(rmse_val_eau))\n",
    "print(\"L\\'erreur quadratique moyenne pour l\\'os est: \" + str(rmse_val_os))"
   ]
  },
  {
   "cell_type": "markdown",
   "metadata": {},
   "source": [
    "Comme on peut le constater l'erreur quadratique moyenne est plutôt faible pour des valeurs allant de 7 à 250. Il est à noter que les valeurs théoriques du NSIT prennent en compte les pouvoir d'arrêt électronnique et nucléaire alors que le pouvoir d'arrêt calculée ne comprend que le pouvoir d'arrêt électronnique. On comprend donc que le pouvoir d'arrêt nucléaire n'a pas énormément d'impact sur le résultat sur cette plage de valeur. En effet, le pouvoir d'arrêt nucléaire est souvent négligeable sauf pour des ions de très faible énergie comme on peut le voir sur le graphique suivant (l'eau a été choisie, car l'effet était plus important que pour l'os):   "
   ]
  },
  {
   "cell_type": "code",
   "execution_count": 9,
   "metadata": {},
   "outputs": [
    {
     "data": {
      "image/png": "[encoded data removed]",
      "text/plain": [
       "<Figure size 432x288 with 1 Axes>"
      ]
     },
     "metadata": {},
     "output_type": "display_data"
    }
   ],
   "source": [
    "fichier = \"All_water_data_NSIT.txt\"\n",
    "data = np.loadtxt(fichier, skiprows = 8)\n",
    "\n",
    "\n",
    "plt.plot(data[:,0], data[:,1], \"b\", label=\"Pouvoir d'arrêt électronnique\")\n",
    "plt.plot(data[:,0], data[:,2],\"g\", label=\"Pouvoir d'arrêt nucléaire\")\n",
    "plt.plot(data[:,0], data[:,3],\"k--\", label=\"Pouvoir d'arrêt total\")\n",
    "plt.xscale(\"log\")\n",
    "plt.yscale(\"log\")\n",
    "plt.xlabel(\"Énergie du proton incident [MeV]\")\n",
    "plt.ylabel(\"Pouvoir d'arrêt [MeV cm^2/g]\")\n",
    "plt.legend()\n",
    "plt.title(\"Comparaison entre le pouvoir d'arrêt nucléaire \\n et le pouvoir d'arrêt électronnique pour l'eau\")\n",
    "plt.show()"
   ]
  },
  {
   "cell_type": "markdown",
   "metadata": {},
   "source": [
    "L'autre pouvoir d'arrêt qui a été négligé est le pouvoir d'arrêt radiatif qui apparait lorsque le rayonnement de freinage du proton doit être considéré. Pour qu'il soit considéré le proton doit avoir une énergie bien plus élevé que dans le cadre de la protonthérapie."
   ]
  },
  {
   "cell_type": "markdown",
   "metadata": {},
   "source": [
    "# Question 4\n",
    "Une raison qui justifie l'emploi de la méthode numérique est le fait que l'intégration de la fonction $1/S_{col}(T)$ ne donne pas une fonction formée de fonctions élémentaires. En effet, lorsqu'on passe l'équation dans une algorithme ayant pour but de vérifier si la solution de l'intégrale est formée de fonctions élementaires, comme l'algorithme de Risch, celui-ci ne donne pas une solution. Il est donc plus simple d'évaluer l'intégrale numériquement.  \n"
   ]
  },
  {
   "cell_type": "markdown",
   "metadata": {},
   "source": [
    "# Question 5\n"
   ]
  },
  {
   "cell_type": "markdown",
   "metadata": {},
   "source": [
    "Intégration par la méthode des trapèzes et par Simpson"
   ]
  },
  {
   "cell_type": "code",
   "execution_count": 10,
   "metadata": {},
   "outputs": [],
   "source": [
    "def trapeze(func,a,b,N):\n",
    "    #--Calcul d'intégration par méthode des trapèzes\n",
    "\n",
    "    #--Paramètres:\n",
    "    #   func: Fonction à intégrer\n",
    "    #   a,b: Borne inférieure(a) et suppérieure(b) de l'intérale\n",
    "    #   N: Nombre de tranches\n",
    "\n",
    "    #--Retourne la solution à l'intégration\n",
    "\n",
    "    h = abs(b - a) / N  # Largeur des tranches\n",
    "    x= np.linspace(a,b,N+1) #N+1 points dans l'intervale [a,b]\n",
    "    y=func(x) #f(x) de ces points\n",
    "    return h*(0.5*y[0]+0.5*y[-1]+np.sum(y[1:-1])) #Aire de l'ensemble des segments\n",
    "\n",
    "def simpson(func,a,b,N):\n",
    "    #--Calcul d'intégration par méthode de Simpson\n",
    "\n",
    "    #--Paramètres:\n",
    "    #   func: Fonction à intégrer\n",
    "    #   a,b: Borne inférieure(a) et suppérieure(b) de l'intérale\n",
    "    #   N: Nombre de tranches\n",
    "\n",
    "    #--Retourne la solution à l'intégration\n",
    "    \n",
    "    h = abs(b - a) / N  # Largeur des tranches\n",
    "    x= np.linspace(a,b,N+1) #N+1 points dans l'intervale [a,b]\n",
    "    y=func(x) #f(x) de ces points\n",
    "    yimp = y[1:-1:2] #Points impairs\n",
    "    s1 = np.sum(yimp)\n",
    "    ypair = y[2:-2:2] #Points pairs\n",
    "    s2 = np.sum(ypair)\n",
    "    return h/3*(y[0] + y[-1] + s1*4+s2*2) #Aire de l'ensemble des segments"
   ]
  },
  {
   "cell_type": "markdown",
   "metadata": {},
   "source": [
    "Algorithme d'intégration pour calculer la portée des protons"
   ]
  },
  {
   "cell_type": "code",
   "execution_count": 11,
   "metadata": {},
   "outputs": [],
   "source": [
    "def error(func,a,b,N0,precision,type):\n",
    "    #--Intégration à l'aide de la méthode de Simpson ou de trapèzes avec un nombre de\n",
    "    #tranches maximale permetant de se raprocher d'une certaine précision\n",
    "\n",
    "    #--Paramètres:\n",
    "    #   func: Fonction à intégrer\n",
    "    #   a,b: Borne inférieure(a) et suppérieure(b)\n",
    "    #   N0: Nombre initial de tranches \n",
    "    #   precision: Précision recherchée\n",
    "    #   type: 'Simpson' ou 'Trapèzes'\n",
    "    #\n",
    "    #--Retourne la solution à l'intégrale selon la méthode avec un nombre de tranche \n",
    "    #maximale permis par la précision recherchée.\n",
    "    #   iN: Valeurs de l'intégrale calculée à Nmax tranches.\n",
    "    #   Nombre de tranches maximales pour atteindre la précision recherchée.\n",
    "    #   err[-1] Valeur de l'erreur sur le calcul l'intégrale\n",
    "    #\n",
    "    #Initialisation des listes de solutions et d'erreurs'intérale\n",
    "    s = []\n",
    "    err = []\n",
    "    #Première itération\n",
    "    i0 = trapeze(func,a,b,N0)\n",
    "    s.append(i0)\n",
    "    #Deuxième itération avec 2*N0\n",
    "    N = 2 * N0\n",
    "    if type == 'Trapèzes':\n",
    "        iN = trapeze(func,a,b,N)\n",
    "        s.append(iN)\n",
    "        err.append(abs(iN-i0)/3) #Erreur d'approximation sur l'évaluation avec 2N tranches Trapèzes\n",
    "        #Itérations pour trouvées Nmax qui est atteint lorsque l'erreur est supérieur à la précision recherchée en doublant le nombre de tranches.\n",
    "        while err[-1] >= precision:\n",
    "            i = iN\n",
    "            N = 2 * N\n",
    "            iN = trapeze(func,a,b,N)\n",
    "            s.append(iN)\n",
    "            err.append(abs((iN - i) / 3))\n",
    "        return iN,N,err[-1]\n",
    "    if type == 'Simpson':\n",
    "        iN = simpson(func,a,b,N)\n",
    "        s.append(iN)\n",
    "        err.append(abs(iN-i0)/15) #Erreur d'approximation sur l'évaluation avec 2N tranches Simpson\n",
    "        #Itérations pour trouvées Nmax qui est atteint lorsque l'erreur est supérieur à la précision recherchée en doublant le nombre de tranches.\n",
    "        while err[-1] >= precision:\n",
    "            i = iN\n",
    "            N = 2 * N\n",
    "            iN = simpson(func,a,b,N)\n",
    "            s.append(iN)\n",
    "            err.append(abs((iN - i) / 15))\n",
    "        return iN,N,err[-1]\n",
    "    if type != 'Simpson' and type!='Trapèzes':\n",
    "        print(\"Méthode d'intégration invalide. Type = 'Simpson' ou 'Trapèzes'\")\n",
    "\n",
    "def Rcsda(Tp, n_e, I, rho,type):\n",
    "    #Calcul de la portée de proton par CSDA à laide d'une méthode d'intégration.\n",
    "\n",
    "    #Paramètres:\n",
    "    #   Tp: Énergie du proton\n",
    "    #   n_e: Densité électronique\n",
    "    #   I: Énergie moyenne d'excitation\n",
    "    #   rho: Masse volumique\n",
    "    #   type: 'Simpson' ou 'Trapèzes'\n",
    "\n",
    "    #Retourne la portée des proton dans le matériaux\n",
    "    func = lambda T: rho / Scol(n_e,T, I)\n",
    "    portee = 0\n",
    "    if type == 'Trapèzes':\n",
    "        portee = error(func, a=0.1, b=Tp, N0=1,precision=1e-13,type=type)\n",
    "    if type == 'Simpson':\n",
    "        portee = error(func, a=0.1, b=Tp, N0=1,precision=1e-13,type=type)\n",
    "    if type != 'Simpson' and type!='Trapèzes':\n",
    "        print(\"Méthode d'intégration invalide. Type = 'Simpson' ou 'Trapèzes'\")\n",
    "    return portee"
   ]
  },
  {
   "cell_type": "markdown",
   "metadata": {},
   "source": [
    "Calcul de la portée des protons dans l'eau et dans l'os compact à l'aide de la méthode par trapèze et avec la méthode de Simpson. "
   ]
  },
  {
   "cell_type": "code",
   "execution_count": 12,
   "metadata": {},
   "outputs": [
    {
     "name": "stdout",
     "output_type": "stream",
     "text": [
      "On obtient une portée de 15.76724777659209 cm dans l'eau avec l'algorithme d'intégrale par la \n",
      " méthode des trapezes avec une précision de 5.6e-14 cm pour un maximum de 2097152 tranches.\n",
      "On obtient une portée de 15.76724777659208 cm dans l'eau avec l'algorithme d'intégrale par la \n",
      " méthode de Simpson avec une précision de 4.5e-14 cm pour un maximum de 131072 tranches.\n",
      "On obtient une portée de 16.95258532310099 cm dans l'os compact avec l'algorithme d'intégrale par \n",
      " la méthode des trapezes avec une précision de 8.4e-14 cm pour un maximum de 8388608 tranches.\n",
      "On obtient une portée de 16.95258532310090 cm dans l'os compact avec l'algorithme d'intégrale par \n",
      " la méthode des Simpson avec une précision de 7.3e-15 cm pour un maximum de 262144 tranches.\n"
     ]
    }
   ],
   "source": [
    "#Portée dans l'eau avec la méthode d'intégration par trapèzes\n",
    "portee_eau_t, Nmax_eau_t, err_eau_t = Rcsda(150, eau_liq[\"n_e\"],eau_liq[\"MEE\"], eau_liq[\"Densité\"],'Trapèzes')\n",
    "print(\"On obtient une portée de {:.14f} cm dans l'eau avec l'algorithme d'intégrale par la \\n méthode des trapezes avec une précision de {:.2} cm pour un maximum de {} tranches.\".format(portee_eau_t, err_eau_t, Nmax_eau_t ))\n",
    "#Portée dans l'eau avec la méthode d'intégration par Simpson\n",
    "portee_eau_s, Nmax_eau_s, err_eau_s = Rcsda(150, eau_liq[\"n_e\"],eau_liq[\"MEE\"], eau_liq[\"Densité\"],'Simpson')\n",
    "print(\"On obtient une portée de {:.14f} cm dans l'eau avec l'algorithme d'intégrale par la \\n méthode de Simpson avec une précision de {:.2} cm pour un maximum de {} tranches.\".format(portee_eau_s, err_eau_s, Nmax_eau_s ))\n",
    "#Portée dans l'os compact avec la méthode par trapèzes\n",
    "portee_os_t, Nmax_os_t, err_os_t = Rcsda(150, os_compact[\"n_e\"],os_compact[\"MEE\"], os_compact[\"Densité\"],'Trapèzes')\n",
    "print(\"On obtient une portée de {:.14f} cm dans l'os compact avec l'algorithme d'intégrale par \\n la méthode des trapezes avec une précision de {:.2} cm pour un maximum de {} tranches.\".format(portee_os_t, err_os_t, Nmax_os_t ))\n",
    "#Portée dans l'os compact avec la méthode par Simpson\n",
    "portee_os_s, Nmax_os_s, err_os_s = Rcsda(150, os_compact[\"n_e\"],os_compact[\"MEE\"], os_compact[\"Densité\"],'Simpson')\n",
    "print(\"On obtient une portée de {:.14f} cm dans l'os compact avec l'algorithme d'intégrale par \\n la méthode des Simpson avec une précision de {:.2} cm pour un maximum de {} tranches.\".format(portee_os_s, err_os_s, Nmax_os_s ))\n"
   ]
  },
  {
   "cell_type": "markdown",
   "metadata": {},
   "source": [
    "# Question 6\n",
    "Mettre l'équation "
   ]
  }
 ],
 "metadata": {
  "kernelspec": {
   "display_name": "Python 3",
   "language": "python",
   "name": "python3"
  },
  "language_info": {
   "codemirror_mode": {
    "name": "ipython",
    "version": 3
   },
   "file_extension": ".py",
   "mimetype": "text/x-python",
   "name": "python",
   "nbconvert_exporter": "python",
   "pygments_lexer": "ipython3",
   "version": "3.6.3"
  }
 },
 "nbformat": 4,
 "nbformat_minor": 4
}
