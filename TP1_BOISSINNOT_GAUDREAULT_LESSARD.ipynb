{
 "cells": [
  {
   "cell_type": "markdown",
   "metadata": {},
   "source": [
    "# TP1 \n",
    "\n",
    "## Question 1\n",
    "La densité électronnique, $n_e$, d'un matériau peut être calculée ainsi: $$n_e=\\frac{N_{A}Z_{eff} \\cdot \\rho}{A_{eff}},$$ où $N_A$ est le nombre d'Avogadro, $A$ est la masse atomique relative et $M_{u}$ la constante de masse molaire. \n",
    "\n"
   ]
  },
  {
   "cell_type": "code",
   "execution_count": null,
   "metadata": {},
   "outputs": [],
   "source": [
    "import scipy.constants as cst\n",
    "#Masse volumique de l'eau [g/cm^3]\n",
    "rho_eau = 1.00\n",
    "\n",
    "rho_os_compact = 1.85 \n",
    "#Masse volumique d'un os  [g/cm^3]\n",
    "\n",
    "def n(Z_eff, A_eff, rho):\n",
    "    return Z_eff*cst.Avogadro*"
   ]
  }
 ],
 "metadata": {
  "kernelspec": {
   "display_name": "Python 3",
   "language": "python",
   "name": "python3"
  },
  "language_info": {
   "codemirror_mode": {
    "name": "ipython",
    "version": 3
   },
   "file_extension": ".py",
   "mimetype": "text/x-python",
   "name": "python",
   "nbconvert_exporter": "python",
   "pygments_lexer": "ipython3",
   "version": "3.8.3"
  }
 },
 "nbformat": 4,
 "nbformat_minor": 4
}
