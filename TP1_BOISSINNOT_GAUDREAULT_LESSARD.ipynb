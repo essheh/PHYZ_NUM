{
 "cells": [
  {
   "cell_type": "markdown",
   "metadata": {},
   "source": [
    "# TP1 \n",
    "\n",
    "## Question 1\n",
    "La densité électronique, $n_e$, d'un milieu peut être calculée, selon la formule de Bethe, ainsi: $$n_e=\\frac{N_{A}Z \\cdot \\rho}{M},$$ où $N_A$ est le nombre d'Avogadro, $Z$ est la charge d'une particule ($Z = 1$ pour les protons), $M$ est la masse molaire du milieu ($M = A \\cdot M_u$), $A$ est la masse atomique relative et $M_{u}$ la constante de masse molaire ($M_{u} = 1 g/cm^3$). \n",
    "\n",
    "Les propriétés des [milieux](www.physics.nist.gov/cgi-bin/Star/compos.pl?ap) et des [éléments](www.ptable.com) les composants sont obtenues à l'aide du site du NSIT et du site Ptable respectivement."
   ]
  },
  {
   "cell_type": "code",
   "execution_count": 13,
   "metadata": {},
   "outputs": [],
   "source": [
    "# Propriétés des milieux sous forme de dictionnaire \n",
    "# (sources : www.physics.nist.gov/cgi-bin/Star/compos.pl?ap et www.ptable.com)\n",
    "\n",
    "import numpy as np\n",
    "\n",
    "eau_liq = {\"Densité\" : 1.00000E+00,# g/cm^3\n",
    "           \"MEE\" : 75.000000,# eV  (Mean Excitation Energy)\n",
    "           \"Composition\" : np.array([[1, 8], # numéro atomique\n",
    "                                     [0.111894, 0.888106], # proportion dans le milieu\n",
    "                                     [1.0079, 15.9994]])} # masse molaire (source ptable.com)\n",
    "\n",
    "os_compact = {\"Densité\" : 1.85000E+00,# g/cm^3\n",
    "              \"MEE\" : 91.900000,# eV  (Mean Excitation Energy)\n",
    "              \"Composition\" : np.array([[1, 6, 7, 8, 12, 15, 16, 20], # numéro atomique\n",
    "                                        [0.063984, 0.278000, 0.027000, 0.410016, 0.002000, 0.070000, 0.002000, 0.147000], # proportion dans le milieu\n",
    "                                        [1.008, 12.011, 14.007, 15.999, 24.305, 30.738, 32.065, 40.078]])} # masse molaire (source ptable.com)\n",
    "\n",
    "Z = 1 # pour des protons\n",
    "                          "
   ]
  },
  {
   "cell_type": "code",
   "execution_count": 14,
   "metadata": {},
   "outputs": [],
   "source": [
    "# fonction de la densité électronique selon les propriétés du milieu\n",
    "\n",
    "import scipy.constants as cst\n",
    "\n",
    "def n_e(num_ato, proportion, mass_mol, densité):\n",
    "    return cst.Avogadro * densité * np.sum(proportion * num_ato / mass_mol) "
   ]
  },
  {
   "cell_type": "code",
   "execution_count": 19,
   "metadata": {},
   "outputs": [
    {
     "name": "stdout",
     "output_type": "stream",
     "text": [
      "Valeur de la densité électronique selon la formule de Bethe \n",
      "   Eau liquide : 3.34E+23 [électrons/cm^3]\n",
      "   Os compact : 5.91E+23 [électrons/cm^3]\n"
     ]
    }
   ],
   "source": [
    "# n_e pour de l'eau et un os compact\n",
    "\n",
    "eau_liq[\"n_e\"] = n_e(num_ato = eau_liq[\"Composition\"][0], proportion = eau_liq[\"Composition\"][1], \n",
    "                     mass_mol = eau_liq[\"Composition\"][2], densité = eau_liq[\"Densité\"])\n",
    "#print(eau_liq[\"n_e\"])\n",
    "\n",
    "os_compact[\"n_e\"] = n_e(num_ato = os_compact[\"Composition\"][0], proportion = os_compact[\"Composition\"][1], \n",
    "                        mass_mol = os_compact[\"Composition\"][2], densité = os_compact[\"Densité\"])\n",
    "#print(os_compact[\"n_e\"])\n",
    "\n",
    "\n",
    "print(\"Valeur de la densité électronique selon la formule de Bethe \\n   Eau liquide : {:.2E} [électrons/cm^3]\\n   Os compact : {:.2E} [électrons/cm^3]\".format(eau_liq[\"n_e\"], os_compact[\"n_e\"]))"
   ]
  },
  {
   "cell_type": "markdown",
   "metadata": {},
   "source": [
    "Comme l'application de la protonthérapie produisent des faisceaux de particules dans la gamme 70-250 MeV, soit des protons de plus de 3 MeV, il est possible d'obtenir le pouvoir d'arrêt collisionnel selon l'énergie d'un proton comme suit : \n",
    "\n",
    "$$S_{col}(T) = 2\\pi r_e^2 m_e c^2 n_e \\frac{1}{\\beta^2}\\left[\\ln\\left(\\frac{2m_e c^2 \\beta^2 \\gamma^2 T_e^{max}}{I^2}\\right)-2\\beta^2\\right],$$\n",
    "où $r_e$ est le rayon d'un électron classique, $m_e$ est la masse d'un électron, $c$ est la vitesse de la lumière, $T_e^{max}$ est l'énergie maximale transférable à un électron par le proton, $I$ est l'énergie moyenne d'excitation du matériau et $\\beta$ et $\\gamma$ sont les facteurs de Lorentz."
   ]
  },
  {
   "cell_type": "code",
   "execution_count": 21,
   "metadata": {},
   "outputs": [],
   "source": [
    "# Constantes des protons et électrons\n",
    "\n",
    "from numpy import sqrt, pi, log\n",
    "\n",
    "r_e = 2.8179403227E-15          # m\n",
    "m_e = 0.51099895000             # MeV\n",
    "m_p = 938.27208816              # MeV\n",
    "c = 299792458                   # m/s\n",
    "\n",
    "I_os = os_compact[\"MEE\"]\n",
    "\n",
    "def gamma(T):\n",
    "    return T/(m_p*c**2)+1\n",
    "\n",
    "def beta(T):\n",
    "    beta = sqrt((gamma(T)**2-1)/gamma(T))\n",
    "    return beta\n",
    "\n",
    "def Te_max(T):\n",
    "    return (2*m_e*c**2*(gamma(T)**2-1))/(1+2*gamma(T)*(m_e/m_p)+(m_e/m_p)**2)"
   ]
  },
  {
   "cell_type": "code",
   "execution_count": 22,
   "metadata": {},
   "outputs": [],
   "source": [
    "# fonction de l'arrêt collisionnel massive pour un proton de plus de 3 MeV\n",
    "\n",
    "def Scol(n_e, T, I):\n",
    "    return 2*pi*r_e**2*m_e*c**2*n_e*(1/beta(T)**2)*(log((2*m_e*c**2*beta(T)**2*gamma(T)**2*Te_max(T))/(I**2)))\n"
   ]
  },
  {
   "cell_type": "code",
   "execution_count": 23,
   "metadata": {},
   "outputs": [
    {
     "name": "stderr",
     "output_type": "stream",
     "text": [
      "<ipython-input-22-94ebca8665e5>:4: RuntimeWarning: divide by zero encountered in double_scalars\n",
      "  return 2*pi*r_e**2*m_e*c**2*n_e*(1/beta(T)**2)*(log((2*m_e*c**2*beta(T)**2*gamma(T)**2*Te_max(T))/(I**2)))\n",
      "<ipython-input-22-94ebca8665e5>:4: RuntimeWarning: divide by zero encountered in log\n",
      "  return 2*pi*r_e**2*m_e*c**2*n_e*(1/beta(T)**2)*(log((2*m_e*c**2*beta(T)**2*gamma(T)**2*Te_max(T))/(I**2)))\n"
     ]
    },
    {
     "data": {
      "image/png": "[encoded data removed]",
      "text/plain": [
       "<Figure size 432x288 with 1 Axes>"
      ]
     },
     "metadata": {
      "needs_background": "light"
     },
     "output_type": "display_data"
    }
   ],
   "source": [
    "# Présentation des courbes\n",
    "\n",
    "from numpy import linspace\n",
    "from math import exp\n",
    "import matplotlib.pylab as plt\n",
    "\n",
    "################  test eau liquide   #################\n",
    "\n",
    "xpoints = linspace(3, 10000, 1000)\n",
    "ypoints = []\n",
    "\n",
    "for T in xpoints:\n",
    "    ypoints.append(Scol(eau_liq[\"n_e\"], T, I_os))\n",
    "\n",
    "    \n",
    "\n",
    "plt.plot(xpoints, ypoints)\n",
    "plt.show()"
   ]
  },
  {
   "cell_type": "code",
   "execution_count": null,
   "metadata": {},
   "outputs": [],
   "source": []
  }
 ],
 "metadata": {
  "kernelspec": {
   "display_name": "Python 3",
   "language": "python",
   "name": "python3"
  },
  "language_info": {
   "codemirror_mode": {
    "name": "ipython",
    "version": 3
   },
   "file_extension": ".py",
   "mimetype": "text/x-python",
   "name": "python",
   "nbconvert_exporter": "python",
   "pygments_lexer": "ipython3",
   "version": "3.8.5"
  }
 },
 "nbformat": 4,
 "nbformat_minor": 4
}
