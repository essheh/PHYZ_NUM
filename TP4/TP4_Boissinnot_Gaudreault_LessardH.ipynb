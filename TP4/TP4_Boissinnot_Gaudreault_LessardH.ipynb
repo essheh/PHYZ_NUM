{
 "cells": [
  {
   "cell_type": "markdown",
   "metadata": {},
   "source": [
    "# <u>TP4: Équations différentielles partielles</u>\n",
    "\n",
    "## par Antoine Boissinot  - -  François Gaudreault  - -  Béatrice Lessard-Hamel\n",
    "\n",
    "## Présenté à M. Philippe Després\n",
    "\n",
    "### Date de remise : 4 avril 2021"
   ]
  },
  {
   "cell_type": "code",
   "execution_count": 2,
   "metadata": {},
   "outputs": [],
   "source": [
    "import matplotlib.pylab as plt\n",
    "import numpy as np\n",
    "import timeit\n",
    "from scipy import constants"
   ]
  },
  {
   "cell_type": "code",
   "execution_count": 5,
   "metadata": {},
   "outputs": [],
   "source": [
    "#Constants\n",
    "hbar = constants.hbar #Planck's constant divided by 2*pi [m^2 kg / s]\n",
    "M = constants.electron_mass #Mass of the eectron [kg]\n",
    "L = 1e-08 #Length of the box [m]\n",
    "x_0 = L/2 # [m]\n",
    "sigma = 1e-10 #[m^-1]\n",
    "kappa = 5e-10 #[m^-1]"
   ]
  },
  {
   "cell_type": "markdown",
   "metadata": {},
   "source": [
    "## L'équation de Schrödinger et la méthode de Crank Nicolson"
   ]
  },
  {
   "cell_type": "markdown",
   "metadata": {},
   "source": [
    "### Question 1\n",
    "Le but de ce numéro est d'obtenir le vecteur $\\mathbf{v}$ qui est donné par l'équation $\\mathbf{B}\\psi = \\mathbf{v}$. Étant donné que la matrice $\\mathbf{B}$ est une matrice tridiagonale, il est possible d'utiliser l'expression suivante pour obtenir les élément $v_i$ de $\\mathbf{v}$: $$v_i = b_1 \\psi_i + b_2(\\psi_{i+1} + \\psi_{i-1}).$$"
   ]
  },
  {
   "cell_type": "code",
   "execution_count": 7,
   "metadata": {},
   "outputs": [
    {
     "name": "stdout",
     "output_type": "stream",
     "text": [
      "[-1.44709545e-65+2.8941909e-45j  1.00000000e+00+5.0000000e-21j\n",
      "  1.00000000e+00+1.0000000e-20j ...  1.00000000e+00+4.9900000e-18j\n",
      "  0.00000000e+00+0.0000000e+00j -1.44564836e-62+2.8941909e-45j]\n"
     ]
    }
   ],
   "source": [
    "N = 1000 #Number of spatial slice \n",
    "a = N/L  #Distance between each slice    \n",
    "h = 10**(-18)  #Step [s]\n",
    "\n",
    "\n",
    "def psi_0(x): #Return the initial wave function psi (x,0) at time t = 0 \n",
    "    return np.exp(-(x-x_0)**2/2*sigma**2)*np.exp(1j*kappa*x) \n",
    "\n",
    "\n",
    "def initial_condition(N, L, h): #Set a wave function at time t = 0, with each point in x separated by a\n",
    "    x = np.linspace(0, L, N+1) #Each point separated by a\n",
    "    psi = np.array(psi_0(x)) #Initial condition  \n",
    "    psi[0] = 0 #The wave function equal 0 at discontinuity point i.e. infinite potential value \n",
    "    psi[-1] = 0 #Same as last \n",
    "    return psi \n",
    "    \n",
    "    \n",
    "def v(psi): #return the vector v\n",
    "    b1 = 1 - 1j * h * hbar / (2 * M * a ** 2)\n",
    "    b2 = h * hbar * 1j / (4 * M * a ** 2)\n",
    "    v = np.zeros(len(psi), dtype = 'complex_') #Initialize the vector v \n",
    "    n = n = len(psi) - 1 #Last element of vector v \n",
    "    v[0] = b1 * psi[0] + b2 * (psi[1])\n",
    "    v[1:n-1] = b1 * psi[1:n-1] + b2 * (psi[2:n] + psi[0:n-2])\n",
    "    v[n] = b1 * psi[n] + b2 * (psi[n-1])\n",
    "    \n",
    "    return v\n",
    "\n",
    "psi = initial_condition(N, L, h)\n",
    "v = v(psi)\n",
    "print(v)"
   ]
  },
  {
   "cell_type": "markdown",
   "metadata": {},
   "source": [
    "### Question 2\n"
   ]
  },
  {
   "cell_type": "code",
   "execution_count": null,
   "metadata": {},
   "outputs": [],
   "source": [
    "a1 = 1 + 1j * h * hbar / (2 * M * a ** 2)\n",
    "a2 = - h * hbar * 1j / (4 * M * a ** 2)"
   ]
  },
  {
   "cell_type": "markdown",
   "metadata": {},
   "source": [
    "### Question 3\n"
   ]
  },
  {
   "cell_type": "code",
   "execution_count": null,
   "metadata": {},
   "outputs": [],
   "source": []
  },
  {
   "cell_type": "markdown",
   "metadata": {},
   "source": [
    "### Question 4\n"
   ]
  },
  {
   "cell_type": "code",
   "execution_count": null,
   "metadata": {},
   "outputs": [],
   "source": []
  },
  {
   "cell_type": "markdown",
   "metadata": {},
   "source": [
    "### Question 5"
   ]
  },
  {
   "cell_type": "code",
   "execution_count": null,
   "metadata": {},
   "outputs": [],
   "source": []
  },
  {
   "cell_type": "markdown",
   "metadata": {},
   "source": [
    "## Références\n",
    "1. Newman, Mark. Computational physics. CreateSpace Independent Publ., 2013."
   ]
  }
 ],
 "metadata": {
  "kernelspec": {
   "display_name": "Python 3",
   "language": "python",
   "name": "python3"
  },
  "language_info": {
   "codemirror_mode": {
    "name": "ipython",
    "version": 3
   },
   "file_extension": ".py",
   "mimetype": "text/x-python",
   "name": "python",
   "nbconvert_exporter": "python",
   "pygments_lexer": "ipython3",
   "version": "3.8.5"
  }
 },
 "nbformat": 4,
 "nbformat_minor": 4
}
