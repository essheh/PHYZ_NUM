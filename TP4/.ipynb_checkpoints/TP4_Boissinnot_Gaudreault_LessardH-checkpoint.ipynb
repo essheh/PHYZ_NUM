{
 "cells": [
  {
   "cell_type": "markdown",
   "metadata": {},
   "source": [
    "# <u>TP4: Équations différentielles partielles</u>\n",
    "\n",
    "## par Antoine Boissinot  - -  François Gaudreault  - -  Béatrice Lessard-Hamel\n",
    "\n",
    "## Présenté à M. Philippe Després\n",
    "\n",
    "### Date de remise : 4 avril 2021"
   ]
  },
  {
   "cell_type": "code",
   "execution_count": 277,
   "metadata": {},
   "outputs": [],
   "source": [
    "import matplotlib.pylab as plt\n",
    "import numpy as np\n",
    "import timeit\n",
    "from scipy import constants"
   ]
  },
  {
   "cell_type": "code",
   "execution_count": 278,
   "metadata": {},
   "outputs": [],
   "source": [
    "#Constants\n",
    "hbar = constants.hbar #Planck's constant divided by 2*pi [m^2 kg / s]\n",
    "M = constants.electron_mass #Mass of the electron [kg]\n",
    "L = 1e-08 #Length of the box [m]\n",
    "x_0 = L/2 # [m]\n",
    "sigma = 1e-10 #[m]\n",
    "kappa = 5e10 #[m^-1]"
   ]
  },
  {
   "cell_type": "markdown",
   "metadata": {},
   "source": [
    "## L'équation de Schrödinger et la méthode de Crank Nicolson"
   ]
  },
  {
   "cell_type": "markdown",
   "metadata": {},
   "source": [
    "### Question 1\n",
    "Le but de ce numéro est d'obtenir le vecteur $\\mathbf{v}$ qui est donné par l'équation $\\mathbf{B}\\psi = \\mathbf{v}$. Étant donné que la matrice $\\mathbf{B}$ est une matrice tridiagonale, il est possible d'utiliser l'expression suivante pour obtenir les élément $v_i$ de $\\mathbf{v}$: $$v_i = b_1 \\psi_i + b_2(\\psi_{i+1} + \\psi_{i-1}).$$ Premièrement la fonction d'onde au temps t = 0 va être obtenue:"
   ]
  },
  {
   "cell_type": "code",
   "execution_count": 292,
   "metadata": {},
   "outputs": [
    {
     "data": {
      "image/png": "[encoded data removed]",
      "text/plain": [
       "<Figure size 432x288 with 1 Axes>"
      ]
     },
     "metadata": {
      "needs_background": "light"
     },
     "output_type": "display_data"
    }
   ],
   "source": [
    "#Parameters of the simulation\n",
    "\n",
    "N = 1000 #Number of spatial slice \n",
    "a = L/N  #Distance between each slice    \n",
    "h = 10**(-18)  #Step [s]\n",
    "\n",
    "\n",
    "def psi_0(x): #Return the initial wave function psi (x,0) at time t = 0 \n",
    "    return exp(-(x - x_0) ** 2 / (2 * sigma ** 2)) * exp(1j * kappa * x)  \n",
    "\n",
    "\n",
    "def initial_condition(N, L, h): #Set a wave function at time t = 0, with each point in x separated by a\n",
    "    x = np.linspace(0, L, N+1) #Each point separated by a\n",
    "    psi = np.array(psi_0(x)) #Initial condition  \n",
    "    psi[0] = 0 #The wave function equal 0 at discontinuity point i.e. infinite potential value \n",
    "    psi[-1] = 0 #Same as last \n",
    "    return psi \n",
    "    \n",
    "    \n",
    "x = np.linspace(0, L, N+1) #Each point separated by a\n",
    "psi_t0 = initial_condition(N, L, h)\n",
    "plt.plot(x, abs(psi_t0)**2)\n",
    "plt.show()"
   ]
  },
  {
   "cell_type": "markdown",
   "metadata": {},
   "source": [
    "Maintenant, il est possible de de définir le vecteur $\\mathbf{v}$: "
   ]
  },
  {
   "cell_type": "code",
   "execution_count": 293,
   "metadata": {},
   "outputs": [
    {
     "name": "stdout",
     "output_type": "stream",
     "text": [
      "[0.+0.j 0.+0.j 0.+0.j ... 0.+0.j 0.+0.j 0.+0.j]\n"
     ]
    }
   ],
   "source": [
    "def v(psi): #return the vector v\n",
    "    b1 = 1 - 1j * h * hbar / (2 * M * a ** 2)\n",
    "    b2 = h * hbar * 1j / (4 * M * a ** 2)\n",
    "    \n",
    "    v = np.zeros(len(psi), dtype = complex) #Initialize the vector v \n",
    "    n = len(psi) - 1 #Last element of vector v \n",
    "    \n",
    "    \n",
    "    v[1:n] = b1 * psi[1:n] + b2 * (psi[2:n+1] + psi[0:n-1])\n",
    "   \n",
    "    \n",
    "    return v\n",
    "\n",
    "\n",
    "v_0 = v(psi_t0)\n",
    "print(v_0)"
   ]
  },
  {
   "cell_type": "markdown",
   "metadata": {},
   "source": [
    "### Question 2\n",
    "L'objet de ce numéro est de résoudre le système $\\mathbf{v} = \\mathbf{A}\\mathbf{x}$ afin d'obtenir le vecteur $\\mathbf{x}$. Pour ce faire l'algorithme de Thomas qui est une forme simplifiée de l'élimination gaussienne. On va premièrement écrire le vecteur sous la forme $$a_{i} x_{i-1}+b_{i} x_{i}+c_{i} x_{i+1}=d_{i}.$$  "
   ]
  },
  {
   "cell_type": "code",
   "execution_count": 294,
   "metadata": {},
   "outputs": [],
   "source": [
    "def A_tri(N):\n",
    "    a1 = 1 + 1j * h * hbar / (2 * M * a ** 2)\n",
    "    a2 = - h * hbar * 1j / (4 * M * a ** 2)\n",
    "    A = np.zeros([3, N + 1], dtype = complex) #We write the tridiagonal matrix in the good form \n",
    "    \n",
    "    A[0, 0] = 0\n",
    "    A[0, 1:] = a2\n",
    "    A[1, :] = a1\n",
    "    A[2, 0:N] = a2\n",
    "    A[2, N] = 0\n",
    "    return A \n",
    "\n",
    "M1 = A_tri(N)  "
   ]
  },
  {
   "cell_type": "markdown",
   "metadata": {},
   "source": [
    "Ensuite, on utilise l'algorithme de Thomas pour résoudre le système. Brièvement, on invente des nouveaux coefficients $c_i^\\prime$ et $d_i^\\prime$ qui ont les valeurs suivantes:   \n",
    "$$\n",
    "c_{i}^{\\prime}=\\left\\{\\begin{array}{ll}\n",
    "\\frac{c_{i}}{b_{i}} & ; \\quad i=1 \\\\\n",
    "\\frac{c_{i}}{b_{i}-a_{i} c_{i-1}^{\\prime}} & ; \\quad i=2,3, \\ldots, n-1\n",
    "\\end{array}\\right.\n",
    "$$\n",
    "et\n",
    "$$\n",
    "d_{i}^{\\prime}=\\left\\{\\begin{array}{ll}\n",
    "\\frac{d_{i}}{b_{i}} & ; \\quad i=1 \\\\\n",
    "\\frac{d_{i}-a_{i} d_{i-1}^{\\prime}}{b_{i}-a_{i} c_{i-1}^{\\prime}} & ; \\quad i=2,3, \\ldots, n\n",
    "\\end{array}\\right.\n",
    "$$\n",
    "\n",
    "\n",
    "On obtient alors la solution en utilisant les nouveaux coefficients: \n",
    "$$x_{n}=d_{n}^{\\prime}$$\n",
    "et \n",
    "$$\n",
    "x_{i}=d_{i}^{\\prime}-c_{i}^{\\prime} x_{i+1} \\quad ; i=n-1, n-2, \\ldots, 1 .\n",
    "$$ "
   ]
  },
  {
   "cell_type": "code",
   "execution_count": 295,
   "metadata": {},
   "outputs": [],
   "source": [
    "def Thomas(A_tri, v): \n",
    "    \"\"\"\n",
    "    The function returns the vector x of the system of equation Ax = v \n",
    "    param 1 A: is a triadiagonal matrix written in the form a_{i} * x_{i-1} + b_{i} * x_{i}+ c_{i} * x_{i+1}\n",
    "    param 2 v: v is the vector of the RHS    \n",
    "    return: x, the solution of the system  \n",
    "    \"\"\"\n",
    "    N = len(v) - 1 \n",
    "    c_prime = np.zeros(N, dtype = complex) #Initialization of the vector c' \n",
    "    d_prime = np.zeros(N + 1, dtype = complex) #Initialization of the vector d' \n",
    "    x = np.zeros(N + 1, dtype = complex) #Initialization of the vector x \n",
    "    \n",
    "    a_ = A_tri[0, :] #Lower diagonal\n",
    "    b_ = A_tri[1, :] #Middle diagonal\n",
    "    c_ = A_tri[2, :] #Upper diagonal\n",
    "    d_ = v[:] #RHS \n",
    "    \n",
    "    c_prime[0] = c_[0]/b_[0] #First element of the new c' vector\n",
    "    d_prime[0] = d_[0]/b_[0] #First element of the new d' vector\n",
    "    \n",
    "    for i in range(1, N):   \n",
    "        c_prime[i] = c_[i]/(b_[i] - a_[i] * c_prime[i - 1]) #New values of c' \n",
    "    \n",
    "    for i in range(1, N+1): \n",
    "        d_prime[i] = (d_[i] - a_[i] * d_prime[i-1])/(b_[i] - a_[i] * c_prime[i-1]) #New values of d'\n",
    "    \n",
    "    x[N] = d_prime[N] #Last element of the vector x \n",
    "    \n",
    "    for i in range(N-1, -1, -1):\n",
    "        x[i] = d_prime[i] - c_prime[i]*x[i+1] #New values of x by substitution of c' and d', from the before last to the first element\n",
    "\n",
    "        \n",
    "    return x\n"
   ]
  },
  {
   "cell_type": "markdown",
   "metadata": {},
   "source": [
    "On peut vérifier si l'algorithme est fonctionnel en vérifiant si le produit matricielle et entre la matrice $\\mathbf{A}$ et le vecteur $\\mathbf{x}$ donne bien le vecteur $\\mathbf{v}$. "
   ]
  },
  {
   "cell_type": "code",
   "execution_count": 296,
   "metadata": {},
   "outputs": [],
   "source": [
    "#First we must write the matrix A in its matrix form \n",
    "\n",
    "def A(N):\n",
    "    \n",
    "    A = np.zeros([N+1, N+1], dtype = complex) #We initialize the size of the square matrix\n",
    "    a1 = 1 + 1j * h * hbar / (2 * M * a ** 2)\n",
    "    a2 = - h * hbar * 1j / (4 * M * a ** 2)\n",
    "    \n",
    "    for i in range(N+1): #Middle diagonal\n",
    "        A[i, i] = a1\n",
    "    \n",
    "    for i in range(N):   #Upper diagonal  \n",
    "        A[i, i+1] = a2 \n",
    "    \n",
    "    for i in range(N):   #Lower diagonal\n",
    "        A[i+1, i] = a2  \n",
    "    \n",
    "    return A\n",
    "\n",
    "M2 = A(N)\n",
    "\n",
    "#We check if the matrix product Ax = v \n",
    "\n",
    "x = Thomas(M1, v_0) #The vector x found by Thomas algorithm \n",
    "Ax = np.matmul(M2, x) #The matrix product\n",
    "\n",
    "comparison = Ax == v_0\n",
    "equal_arrays = comparison.all() #If the value of equal_arrays is true then all the elements of Ax and v are the same \n",
    "\n",
    "\n",
    "if equal_arrays:\n",
    "    print(\"Le vecteur de la multiplication matricielle Ax est égale au vecteur v.\")"
   ]
  },
  {
   "cell_type": "markdown",
   "metadata": {},
   "source": [
    "### Question 3\n"
   ]
  },
  {
   "cell_type": "code",
   "execution_count": 303,
   "metadata": {},
   "outputs": [
    {
     "data": {
      "image/png": "[encoded data removed]",
      "text/plain": [
       "<Figure size 432x288 with 1 Axes>"
      ]
     },
     "metadata": {
      "needs_background": "light"
     },
     "output_type": "display_data"
    }
   ],
   "source": [
    "def psi(N, L, h, t):\n",
    "    A = A_tri(N) \n",
    "    psi = initial_condition(N, L, h) #Initial wave function at time t = 0\n",
    "    x = np.linspace(0, L, N+1) \n",
    "    total_steps = int(t//h)  #Number of steps to reach time t\n",
    "    solution =  [psi]\n",
    "    for i in range(total_steps):\n",
    "        v_vector = v(psi)\n",
    "        psi = Thomas(A, v_vector) #New wave function at time t + h  \n",
    "        solution.append(psi) \n",
    "    return x, solution \n",
    "\n",
    "t = 800*h     \n",
    "x, solution = psi(N, L, h, t)\n",
    "plt.plot(x, abs(solution[0])**2) \n",
    "plt.plot(x, abs(solution[299])**2) \n",
    "plt.plot(x, abs(solution[350])**2) \n",
    "plt.plot(x, abs(solution[450])**2)\n",
    "plt.plot(x, abs(solution[500])**2)\n",
    "plt.plot(x, abs(solution[400])**2)\n",
    "plt.plot(x, abs(solution[690])**2)\n",
    "plt.plot(x, abs(solution[790])**2)\n",
    "plt.show()"
   ]
  },
  {
   "cell_type": "markdown",
   "metadata": {},
   "source": [
    "### Question 4\n"
   ]
  },
  {
   "cell_type": "code",
   "execution_count": 305,
   "metadata": {},
   "outputs": [
    {
     "data": {
      "image/png": "[encoded data removed]",
      "text/plain": [
       "<Figure size 432x288 with 1 Axes>"
      ]
     },
     "metadata": {
      "needs_background": "light"
     },
     "output_type": "display_data"
    }
   ],
   "source": [
    "def psi_linlag(N, L, h, t):\n",
    "    A = A(N) \n",
    "    psi = initial_condition(N, L, h) #Initial wave function at time t = 0\n",
    "    x = np.linspace(0, L, N+1) \n",
    "    total_steps = int(t//h)  #Number of steps to reach time t\n",
    "    solution =  [psi]\n",
    "    for i in range(total_steps):\n",
    "        v_vector = v(psi)\n",
    "        psi = np.linalg.solve(A, v_vector) #New wave function at time t + h  \n",
    "        solution.append(psi) \n",
    "    return x, solution \n",
    "t = 500*h     \n",
    "x, solution = psi(N, L, h, t)\n",
    "\n",
    "for i in range(10):\n",
    "    plt.plot(x, abs(solution[i*50])**2) \n",
    "\n",
    "plt.show()"
   ]
  },
  {
   "cell_type": "markdown",
   "metadata": {},
   "source": [
    "### Question 5"
   ]
  },
  {
   "cell_type": "code",
   "execution_count": null,
   "metadata": {},
   "outputs": [],
   "source": []
  },
  {
   "cell_type": "markdown",
   "metadata": {},
   "source": [
    "## Références\n",
    "1. Newman, Mark. Computational physics. CreateSpace Independent Publ., 2013."
   ]
  }
 ],
 "metadata": {
  "kernelspec": {
   "display_name": "Python 3",
   "language": "python",
   "name": "python3"
  },
  "language_info": {
   "codemirror_mode": {
    "name": "ipython",
    "version": 3
   },
   "file_extension": ".py",
   "mimetype": "text/x-python",
   "name": "python",
   "nbconvert_exporter": "python",
   "pygments_lexer": "ipython3",
   "version": "3.8.5"
  }
 },
 "nbformat": 4,
 "nbformat_minor": 4
}
