{
 "cells": [
  {
   "cell_type": "markdown",
   "metadata": {},
   "source": [
    "# <u>TP2</u>\n",
    "\n",
    "## par Antoine Boissinot  - -  François Gaudreault  - -  Béatrice Lessard-Hamel\n",
    "\n",
    "## Présenté à M. Philippe Després\n",
    "\n",
    "### Date de remise : 5 mars 2021"
   ]
  },
  {
   "cell_type": "code",
   "execution_count": 36,
   "metadata": {},
   "outputs": [],
   "source": [
    "import numpy as np\n",
    "from math import sqrt, pi\n",
    "from numpy import exp, linspace\n",
    "from pylab import plot, show, xlabel, ylabel, grid\n",
    "import matplotlib.pyplot as plt\n",
    "import timeit\n",
    "from scipy import integrate "
   ]
  },
  {
   "cell_type": "markdown",
   "metadata": {},
   "source": [
    "## Numéro 1\n",
    "L'équation de Schrödinger indépendante du temps en une dimension: \n",
    "$$ \\left[-\\frac{\\hbar^{2}}{2 m} \\frac{d^{2}}{d x^{2}}+V(x)\\right] \\psi_{n}(x)=E_{n} \\psi_{n}(x) $$ \n",
    "est seulement soluble analytiquement pour certains potentiels $V(x)$. Même numériquement résoudre directement l'équation peut s'avérer assez complexe. Dans le cas présent, le potentiel utilisé est celui de Lennard-Jones: $$V(x)=4 V_{0}\\left[\\left(\\frac{\\sigma}{x}\\right)^{12}-\\left(\\frac{\\sigma}{x}\\right)^{6}\\right].$$ Aucune solution analytique a été trouvé pour ce potentiel. Une façon d'obtenir des solutions est d'utiliser l'approximation WKB. Rapidement, les solutions de l'équation de Schrödinger sont souvent complexes, qu'on peut écrire $\\psi(x)=A(x) e^{i \\varphi(x)}$ où $A(x)$ est l'amplitude et $\\phi(x)$ la phase. Il est ensuite possible de remplacer dans l'équation de Schrödinger: $$A(x)^{\\prime \\prime}+2 i A(x)^{\\prime} \\varphi(x)^{\\prime}+i A(x)^{\\prime} \\varphi(x)^{\\prime \\prime}-A(x)\\left(\\varphi(x)^{\\prime \\prime}\\right)^{2}=-A(x) \\frac{p(x)^{2}}{\\hbar^{2}},$$ où $p(x)=\\sqrt{2 m(E-U(x))}$. L'approximation WKB consiste à supposer que l'amplitude varie lentement et donc que $A(x)^{\\prime \\prime} = 0$, cela permet de simplifier grandement les expressions est d'obtenir la solution suivante pour la fonction d'onde: $$\\psi(x) \\cong \\frac{C}{\\sqrt{p(x)}} e^{\\pm \\frac{1}{\\hbar} \\int p(x) d x},$$ où $C$ est une constante. Cette fonction d'onde a des solution différentes dans les régions $V(x) > E$ et $V(x) < E$. On appelle *points de rebroussements* les points où le passage d'une région à une autre s'effectue. Pour que la solution existe celle-ci doit être continue dans tout le domaine, il est important de s'en assurer aux points tournants. En faisant le développement mathématique ette condition de continuité apporte une règle qu'on appelle *la quantification de Bohr-Sommerfeld*: $$\\frac{1}{\\hbar} \\int_{x-}^{x+} p_{n}(x) \\mathrm{d} x \\equiv \\frac{1}{\\hbar} \\int_{x-}^{x+} \\sqrt{2 m\\left(E_{n}-V(x)\\right)} \\mathrm{d} x=\\pi\\left(n+\\frac{1}{2}\\right),$$ où $x-$ et $x+$ sont les points de rebroussement de la région. Cette équation nous permet de déterminer quels valeurs d'énergies sont des solutions du potentiel étudié. Dans notre cas, le potentiel de Lennard-Jones addimensionnel, on doit résoudre: $$\\gamma \\int_{x-}^{x+}\\left[\\epsilon_{n}-v(x)\\right]^{1 / 2} d x=(n+1 / 2) \\pi,$$ avec $$v(x)=4\\left[\\left(\\frac{1}{x}\\right)^{12}-\\left(\\frac{1}{x}\\right)^{6}\\right].$$ "
   ]
  },
  {
   "cell_type": "markdown",
   "metadata": {},
   "source": [
    "Toutefois, avant d'être en mesure d'effectuer l'intégrale numériquement, il faut déterminer la position des points de rebroussements. Les points de rebroussement sont les points où: $$\\epsilon_n - v(x) = 0.$$ On peut réarranger l'équation comme une équation du deuxième degrée en effectuant une substitution et trouver facilement: $$x=\\pm\\left( \\sqrt[6]{2} \\sqrt[6]{-\\frac{\\sqrt{\\epsilon_n+1}+1}{\\epsilon_n}}\\right).$$ On sait que x représente la distance entre deux molécules la solution négatives est impossible. Par contre, la valeur négative de la racine d'ordre 2 peut aussi être une solution. Ce qui permet d'obtenir: $$x- = \\sqrt[6]{2} \\sqrt[6]{-\\frac{\\sqrt{\\epsilon_n+1}+1}{\\epsilon_n}} $$ et $$ x+ = \\sqrt[6]{2} \\sqrt[6]{\\frac{\\sqrt{\\epsilon_n+1}-1}{\\epsilon_n}}$$ Par inspection, l'équation nous informe  aussi des valeurs que peuvent prendre les énergies soit entre -1 et 0."
   ]
  },
  {
   "cell_type": "markdown",
   "metadata": {},
   "source": [
    "## Numéro 2 \n",
    "Pour être en mesure de mesure de trouver les valeurs des énergies discrètes du potentiel de Lennard-Jones il faut tout d'abord définir celui-ci ainsi que le points de rebroussement en fonction de l'énergie:"
   ]
  },
  {
   "cell_type": "code",
   "execution_count": 130,
   "metadata": {},
   "outputs": [],
   "source": [
    "def LJP(x):\n",
    "    \"\"\"\n",
    "    The function return the adimensional Leonard-Jones Potential values\n",
    "    \n",
    "    param 1 x: x is the adimensional distance value \n",
    "    return: adimensional Leonard-Jones Potential value \n",
    "    \"\"\" \n",
    "    return 4*((1/x)**12 - (1/x)**6)\n",
    "    \n",
    "def turning_points(epsilon):\n",
    "    \"\"\"\n",
    "    The function gives the turning points of the adimensional Leonard-Jones Potential\n",
    "    for different energy values\n",
    "    \n",
    "    param 1 epsilon: epsilon is the adimensional energy value of which the turning points are searched \n",
    "    return: The two turning point of the function for the energy value  \n",
    "    \"\"\" \n",
    "   \n",
    "    first_tp = 2**(1/6) * (sqrt(epsilon+1)/epsilon-1/epsilon)**(1/6)\n",
    "    second_tp = 2**(1/6) * (-((sqrt(epsilon+1)+1)/epsilon))**(1/6)\n",
    "    return first_tp, second_tp"
   ]
  },
  {
   "cell_type": "markdown",
   "metadata": {},
   "source": [
    "On peut alors définir la fonction retournant les valeurs d'énergies des n premiers niveaux, en fonction de la constante gamma:"
   ]
  },
  {
   "cell_type": "code",
   "execution_count": 141,
   "metadata": {},
   "outputs": [],
   "source": [
    "def LJP_discrete_energy_bissection(n, gamma):\n",
    "    \"\"\"\n",
    "    The function gives the n first adimensional discrete energy values using the WKB approximation the solve the Schrödinger equation\n",
    "    for the Lennard-Jones potential, using the bissection method \n",
    "    \n",
    "    param 1 n: n is the number of energy levels to find, it must be a positive integer   \n",
    "    param 2 gamma: gamma is a constant that varies between each molecule, it must have a positive value \n",
    "    return: The n first adimensional discrete energy values   \n",
    "    \"\"\" \n",
    "    energies = [] #The list of the n first discrete energy values \n",
    "    accuracy = 10e-08 #The accuracy of energy we're looking for\n",
    "    def f(epsilon, n): # function that return the value of the function that must be approximately equal to 0 following the quantization rule\n",
    "        func = lambda x: (epsilon - LJP(x))**0.5 # The function to integrate, i.e., (E - V(x))**(1/2) \n",
    "        integral = lambda epsilon: integrate.quad(func, a = turning_points(epsilon)[0], b = turning_points(epsilon)[1])[0] #the integral at the turning_points\n",
    "        return integral(epsilon) - (n+0.5)*pi/gamma\n",
    "    \n",
    "    def midpoint(x1, x2): \n",
    "        return (x1 + x2) / 2\n",
    "\n",
    "    def have_same_sign(x1, x2): #function used for the bissection method \n",
    "        if x1 < 0 and x2 < 0 or x1 > 0 and x2 > 0:\n",
    "            return True\n",
    "        else:\n",
    "            return False\n",
    "    \n",
    "    for i in range(n): # we repeat the loop for the n energies\n",
    "        \n",
    "        #Initial values of the bissection method \n",
    "        x1 = -0.9999999\n",
    "        x2 = -0.0000001\n",
    "        \n",
    "        # From here we start the bissection method \n",
    "        \n",
    "        while abs(x1 - x2) > accuracy: \n",
    "            x = midpoint(x1, x2)\n",
    "            if have_same_sign(f(x1, i), f(x, i)):\n",
    "                x1 = x\n",
    "            elif have_same_sign(f(x, i), f(x2, i)):\n",
    "                x2 = x\n",
    "            elif abs(x) < accuracy:\n",
    "                return x\n",
    "        \n",
    "        energies.append(midpoint(x1, x2))\n",
    "    return energies "
   ]
  },
  {
   "cell_type": "markdown",
   "metadata": {},
   "source": [
    "## Numéro 3  \n",
    "Il est possible de modéliser les niveaux d'énergie de la molécule $O_2$ en utilisant le potentiel de Lennard-Jones avec un $\\gamma$ de 150. Les 20 premiers niveaux d'énergies sont illustrez sur la figure suivantes ainsi que les points de rembroussements affichés en rouge:  "
   ]
  },
  {
   "cell_type": "code",
   "execution_count": 132,
   "metadata": {},
   "outputs": [
    {
     "data": {
      "image/png": "[encoded data removed]",
      "text/plain": [
       "<Figure size 432x288 with 1 Axes>"
      ]
     },
     "metadata": {
      "needs_background": "light"
     },
     "output_type": "display_data"
    },
    {
     "name": "stdout",
     "output_type": "stream",
     "text": [
      "Les valeurs d'énergies E_n sont:\n",
      "E_0 = -0.9647641146487056\n",
      "E_1 = -0.8966716032618702\n",
      "E_2 = -0.8317034475199998\n",
      "E_3 = -0.7698014733014287\n",
      "E_4 = -0.7109066124149979\n",
      "E_5 = -0.6549587833907902\n",
      "E_6 = -0.6018968318754971\n",
      "E_7 = -0.5516586498416842\n",
      "E_8 = -0.5041811755877912\n",
      "E_9 = -0.4594002149242341\n",
      "E_10 = -0.41725032196413875\n",
      "E_11 = -0.377665156751138\n",
      "E_12 = -0.340577068026942\n",
      "E_13 = -0.3059172720452369\n",
      "E_14 = -0.27361573336241846\n",
      "E_15 = -0.24360110523296\n",
      "E_16 = -0.2158009084233105\n",
      "E_17 = -0.19014123318873047\n",
      "E_18 = -0.16654685848255749\n",
      "E_19 = -0.14494119235157368\n"
     ]
    }
   ],
   "source": [
    "def plot_energy_levels(n, gamma): \n",
    "    x_LJP = np.linspace(1.001,1.9,1000)\n",
    "    for i in range(n):\n",
    "        epsilon = LJP_discrete_energy_bissection(n, gamma)[i]\n",
    "        TP1 = turning_points(epsilon)[0] #The first turning point\n",
    "        TP2 = turning_points(epsilon)[1]\n",
    "        #Plot the energy levels \n",
    "        plt.plot(np.linspace(TP1, TP2, 1000), np.full(1000, epsilon) , color = \"black\", linestyle = \"dashed\") #Plot energy values\n",
    "        plt.plot(TP1, epsilon, color = \"red\",  marker='o') #Plot the first TP\n",
    "        plt.plot(TP2, epsilon, color = \"red\",  marker='o') #Plot the second TP \n",
    "    plt.xlabel(\"Distance [-]\")\n",
    "    plt.ylabel(\"Énergie [-]\")\n",
    "    plt.plot(x_LJP, LJP(x_LJP), color = \"black\") #Plot the Lennard-Jones potential\n",
    "    plt.title(\"{} premiers niveaux d'énergies du potentiel de Lennard-Jones \\n pour un facteur \".format(n) + r'$\\gamma$ de {}'.format(gamma))\n",
    "    plt.show()\n",
    "\n",
    "plot_energy_levels(20, 150)\n",
    "print(\"Les valeurs d'énergies E_n sont:\")\n",
    "for i in range(20):\n",
    "    print(\"E_{}\".format(i) + \" = {}\".format(LJP_discrete_energy_bissection(20, 150)[i])) "
   ]
  },
  {
   "cell_type": "markdown",
   "metadata": {},
   "source": [
    "## Numéro 4\n",
    "Il est possible d'obtenir ces niveaux d'énergie à partir d'autres méthodes que celle de la bissection:"
   ]
  },
  {
   "cell_type": "code",
   "execution_count": 133,
   "metadata": {},
   "outputs": [
    {
     "name": "stdout",
     "output_type": "stream",
     "text": [
      "[-0.9647641336579035, -0.8966715796975735, -0.8317034313570082, -0.7698014929141591, -0.7109066347074517, -0.6549587662986195, -0.6018968089856668, -0.5516586677390721, -0.5041812026014736, -0.4594001996079773, -0.4172503413372344, -0.37766517713307507, -0.34057709317325413, -0.305917282486967, -0.2736157150989983, -0.24360110849382083, -0.2158008986109401, -0.19014121168803091, -0.16654683716032742, -0.144941202064848]\n"
     ]
    }
   ],
   "source": [
    "def LJP_discrete_energy_secant(n, gamma):\n",
    "    \"\"\"\n",
    "    The function gives the n first adimensional discrete energy values using the WKB approximation the solve the Schrödinger equation\n",
    "    for the Lennard-Jones potential, using the secant method \n",
    "    \n",
    "    param 1 n: n is the number of energy levels to find, it must be a positive integer   \n",
    "    param 2 gamma: gamma is a constant that varies between each molecule, it must have a positive value \n",
    "    return: The n first adimensional discrete energy values   \n",
    "    \"\"\" \n",
    "    accuracy = 10e-08 #The accuracy of energy we're looking for\n",
    "    energies = [] #The list of the n first discrete energy values \n",
    "    def f(epsilon, n): # function that return the value of the function in the equation (3)  \n",
    "        func = lambda x: (epsilon - LJP(x))**0.5 # The function to integrate, i.e., (E - V(x))**(1/2) \n",
    "        integral = lambda epsilon: integrate.quad(func, a = turning_points(epsilon)[0], b = turning_points(epsilon)[1])[0] #the integral at the turning_points\n",
    "        return integral(epsilon) - (n+0.5)*pi/gamma\n",
    "    \n",
    "    for i in range(n): # we repeat the loop for the n energies\n",
    "        \n",
    "        #Initial values of the secant method \n",
    "        x1 = -0.9999999\n",
    "        x2 = -0.0000001 \n",
    "        # From here we start the secant method \n",
    "        while abs(x2 - x1) > accuracy:\n",
    "            x3 = x2 - f(x2, i) * (x2 - x1) / float(f(x2,i) - f(x1, i))\n",
    "            x1, x2 = x2, x3\n",
    "        energies.append(x3)\n",
    "    \n",
    "    return energies \n",
    "print(LJP_discrete_energy_secant(20, 150))"
   ]
  },
  {
   "cell_type": "markdown",
   "metadata": {},
   "source": [
    "Il peut être pertinant de comparer les vitesses de convergence des deux méthodes afin de savoir laquelle des méthodes est la plus pertinante de cette application: "
   ]
  },
  {
   "cell_type": "code",
   "execution_count": 140,
   "metadata": {},
   "outputs": [
    {
     "name": "stdout",
     "output_type": "stream",
     "text": [
      "Le temps pour la méthode de la sécante est: 0.19835580000653863\n",
      "Le temps pour la méthode de la bissection est: 0.5393884000077378\n"
     ]
    }
   ],
   "source": [
    "time_secant = timeit.timeit('[LJP_discrete_energy_secant(20, 150)]', number = 1, globals=globals())\n",
    "time_bissection = timeit.timeit('[LJP_discrete_energy_bissection(20, 150)]', number = 1, globals=globals())\n",
    "print(\"Le temps pour la méthode de la sécante est: {}\".format(time_secant))\n",
    "print(\"Le temps pour la méthode de la bissection est: {}\".format(time_bissection))"
   ]
  },
  {
   "cell_type": "markdown",
   "metadata": {},
   "source": [
    "La rapidité presque 3 fois supérieure de la méthode de la sécante peut s'expliquer par la convergence quadratique de la méthode de la sécante, on peut visualiser cette convergence pour une valeur d'énergie: "
   ]
  },
  {
   "cell_type": "code",
   "execution_count": 136,
   "metadata": {},
   "outputs": [
    {
     "data": {
      "image/png": "[encoded data removed]",
      "text/plain": [
       "<Figure size 432x288 with 1 Axes>"
      ]
     },
     "metadata": {
      "needs_background": "light"
     },
     "output_type": "display_data"
    }
   ],
   "source": [
    "def secant_convergence(n, gamma):\n",
    "    \"\"\"\n",
    "    The function gives the energy values after each iteration for the secant method of the Lennard-Jones potential\n",
    "    \n",
    "    param 1 n: n is the level for which we want to find the energy, it must be a positive integer   \n",
    "    param 2 gamma: gamma is a constant that varies between each molecule, it must have a positive value \n",
    "    return: The energy value after each iteration of the secant method   \n",
    "    \"\"\" \n",
    "    accuracy = 10e-08 #The accuracy of energy we're looking for\n",
    "    energy_iteration = [] #The list of energy after each iteration \n",
    "    \n",
    "    def f(epsilon, n): # function that return the value of the function in the equation (3)  \n",
    "        func = lambda x: (epsilon - LJP(x))**0.5 # The function to integrate, i.e., (E - V(x))**(1/2) \n",
    "        integral = lambda epsilon: integrate.quad(func, a = turning_points(epsilon)[0], b = turning_points(epsilon)[1])[0] #the integral at the turning_points\n",
    "        return integral(epsilon) - (n+0.5)*pi/gamma\n",
    "    \n",
    "    #Initial values of the secant method \n",
    "    x1 = -0.9999999\n",
    "    x2 = -0.0000001 \n",
    "        # From here we start the secant method \n",
    "    while abs(x2 - x1) > accuracy:\n",
    "        x3 = x2 - f(x2, n) * (x2 - x1) / float(f(x2, n) - f(x1, n))\n",
    "        x1, x2 = x2, x3\n",
    "        energy_iteration.append(x3) #Each energy iteration\n",
    "    \n",
    "    return energy_iteration \n",
    "\n",
    "rel_error = []\n",
    "iteration = []\n",
    "\n",
    "for i in range(len(secant_convergence(3, 150))):\n",
    "    rel_error.append(abs(secant_convergence(5, 150)[i] - secant_convergence(5, 150)[-1])/secant_convergence(5, 150)[-1])\n",
    "    iteration.append(i+1)\n",
    "\n",
    "    \n",
    "\n",
    "z = np.polyfit(iteration, rel_error, 2)\n",
    "p = np.poly1d(z)\n",
    "x = np.linspace(1, 7, 100)\n",
    "\n",
    "plt.plot(x, p(x), label = \"Régression polynomiale de deuxième degré\")\n",
    "plt.plot(iteration, rel_error)\n",
    "plt.xlabel(\"Nombre d'itérations\")\n",
    "plt.ylabel(\"Erreur relative\")\n",
    "plt.title(\"Erreur relative sur l'énergie finale après chaque itération \\n de la méthode de la sécante\")\n",
    "plt.legend()\n",
    "plt.show()"
   ]
  },
  {
   "cell_type": "markdown",
   "metadata": {},
   "source": [
    "## Numéro 5  "
   ]
  },
  {
   "cell_type": "code",
   "execution_count": 137,
   "metadata": {},
   "outputs": [
    {
     "data": {
      "image/png": "[encoded data removed]",
      "text/plain": [
       "<Figure size 432x288 with 1 Axes>"
      ]
     },
     "metadata": {
      "needs_background": "light"
     },
     "output_type": "display_data"
    }
   ],
   "source": [
    "def p_graph(R0_max,start, accuracy, steps):\n",
    "    \n",
    "\n",
    "#--Calcul itératif du pourcentage de la population qui aura été infecté au terme de la pandémie\n",
    "\n",
    "    #--Paramètres:\n",
    "    #   R0_max: Nombre de reproduction de base maximale en supposant que le fluctuation commence à 0\n",
    "    #   start: Valeur de départ pour l'itérations allant de 0.1 à 1.4\n",
    "    #   accuracy: précision de l'erreur de p\n",
    "    #   steps: Bonds par itérations\n",
    "\n",
    "    #--Retourne un graphique de p en fonction de R0\n",
    "\n",
    "    points = int(R0_max / steps)\n",
    "\n",
    "\n",
    "# Liste pour le graphique\n",
    "\n",
    "    y = []\n",
    "    temp = linspace(0, R0_max, points)\n",
    "\n",
    "# R0 loop\n",
    "\n",
    "    for R0 in temp:\n",
    "        p1 = start\n",
    "        error = 1.0\n",
    "    \n",
    "    # Loop jusqu'à l'erreur établie\n",
    "    \n",
    "        while error > accuracy:\n",
    "            p1,p2 = 1 - exp(-R0*p1),p1\n",
    "            error = abs((p1-p2)/(1 - 1 / (R0 * exp(-R0 * p1))))\n",
    "        \n",
    "        # Ajout des valeurs convergées et transformation en pourcentage\n",
    "        \n",
    "        y.append(100 * p1)\n",
    "    \n",
    "#Graphique    \n",
    "    \n",
    "    plot(temp,y)\n",
    "    xlabel(\"Nombre de reproduction de base ($R_0$)\")\n",
    "    ylabel(\"Pourcentage de la population qui aura \\n été infecté au terme de la pandémie (p) [%]\")\n",
    "    grid()\n",
    "    show()\n",
    "        \n",
    "np.seterr(divide = 'ignore')\n",
    "p_graph(5.7,1,1e-6,0.01)"
   ]
  },
  {
   "cell_type": "markdown",
   "metadata": {},
   "source": [
    "## Numéro 6  \n",
    "Selon le début de démarche présenté dans l'énoncé, on sait que $x'$ est représenté selon la méthode de relaxation accélérée comme suit :\n",
    "$$ x'=(1+\\omega)f(x)-\\omega x.$$\n",
    "Sachant que $x^{*} = f(x^{*})$, il est possible de redéfinir $x'$ en faisant son développement en série de Taylor comme suit :\n",
    "$$x'  = ((1+\\omega)f'(x^{*})-\\omega)(x-x^{*}) + f(x^{*}) + ...~;$$\n",
    "$$\\Rightarrow x'  \\simeq ((1+\\omega)f'(x^{*})-\\omega)(x-x^{*}) + x^{*}.$$\n",
    "Comme $\\varepsilon = x - x^{*}$ et que $\\varepsilon ' = x' - x^{*}$, on obtient :\n",
    "$$x' - x^{*} = [(1+\\omega)f'(x^{*})-\\omega](x-x^{*})~; $$\n",
    "$$\\Rightarrow \\varepsilon ' = [(1+\\omega)f'(x^{*})-\\omega]\\varepsilon~;$$\n",
    "$$\\Rightarrow \\varepsilon = \\frac{\\varepsilon'}{(1+\\omega)f'(x^{*})-\\omega}.$$\n",
    "En réinsérant les termes dans $x^{*} = x' +\\varepsilon'$, on obtient : \n",
    "$$x^{*} = x' +\\varepsilon'~;$$\n",
    "$$\\Rightarrow \\varepsilon' =x^{*} - x' ; $$\n",
    "$$= x + \\varepsilon - x' ; $$\n",
    "$$= x + \\frac{\\varepsilon'}{(1+\\omega)f'(x^{*})-\\omega} - x'~;$$\n",
    "$$\\Rightarrow \\varepsilon' \\left(1 - \\frac{1}{(1+\\omega)f'(x^{*})-\\omega}\\right) = x-x'.$$\n",
    "Finalement, on obtient : \n",
    "$$ \\therefore \\varepsilon' \\simeq \\frac{x-x'}{1-1/[(1+\\omega)f'(x^{*})-\\omega]}.$$"
   ]
  },
  {
   "cell_type": "markdown",
   "metadata": {},
   "source": [
    "## Numéro 7  "
   ]
  },
  {
   "cell_type": "code",
   "execution_count": 4,
   "metadata": {},
   "outputs": [
    {
     "name": "stdout",
     "output_type": "stream",
     "text": [
      "Nombre d'itérations :  14\n",
      "Valeur de p : 79.68%\n"
     ]
    }
   ],
   "source": [
    "def p_nb_iter(R0,start,accuracy):\n",
    "    \n",
    "    #--Calcul du nombre d'itération du pourcentage de la population qui aura été infecté au terme de la pandémie\n",
    "    #--Selon la méthode de relaxation\n",
    "\n",
    "    #--Paramètres:\n",
    "    #   R0: Nombre de reproduction de base \n",
    "    #   start: Valeur de départ pour l'itérations allant de 0.1 à 1.4\n",
    "    #   accuracy: précision de l'erreur de p\n",
    "\n",
    "    #--Retourne le nombre d'itération et la solution convergente à la précision préétablie selon la méthode de relaxation\n",
    "    \n",
    "    iteration = 1\n",
    "    def f(p):\n",
    "        return 1 - exp(- R0 * p)\n",
    "\n",
    "    def error(p1, p2):\n",
    "        return (p1 - p2) / (1 - 1 / (R0 * exp(-R0 * p1)))\n",
    "\n",
    "    p1 = start # valeur de départ\n",
    "    p2 = f(p1)\n",
    "    while(abs(error(p1, p2)) > accuracy):\n",
    "        p1, p2 = p2, f(p2)\n",
    "        iteration += 1\n",
    "    print(\"Nombre d'itérations : \",iteration)\n",
    "    print(\"Valeur de p : {:.2f}%\".format(p2*100))\n",
    "p_nb_iter(2,1,1e-6)\n"
   ]
  },
  {
   "cell_type": "markdown",
   "metadata": {},
   "source": [
    "## Numéro 8  "
   ]
  },
  {
   "cell_type": "code",
   "execution_count": 5,
   "metadata": {},
   "outputs": [
    {
     "data": {
      "image/png": "[encoded data removed]",
      "text/plain": [
       "<Figure size 432x288 with 1 Axes>"
      ]
     },
     "metadata": {
      "needs_background": "light"
     },
     "output_type": "display_data"
    }
   ],
   "source": [
    "def over_relax(R0, start, omega, accuracy):\n",
    "    #--Calcul du nombre d'itération du pourcentage de la population qui aura été infecté au terme de la pandémie\n",
    "    #--Selon la méthode de relaxation accélérée\n",
    "\n",
    "    #--Paramètres:\n",
    "    #   R0: Nombre de reproduction de base \n",
    "    #   start: Valeur de départ pour l'itérations allant de 0.1 à 1.4\n",
    "    #   omega: paramètre de relaxation accélérée\n",
    "    #   accuracy: précision de l'erreur de p\n",
    "\n",
    "    #--Retourne le nombre d'itération selon la méthode de relaxation accélérée\n",
    "    \n",
    "    iterations = 1\n",
    "\n",
    "    def f(p):\n",
    "        return 1 - exp(- R0 * p)\n",
    "\n",
    "    def f_derive(p):\n",
    "        return R0 * exp(- R0 * p)\n",
    "\n",
    "    def error(p1, p2):\n",
    "        return (p1 - p2) / (1 - 1 / ((1 + omega) * f_derive(p1) - omega))\n",
    "\n",
    "    p1 = start  # valeur de départ\n",
    "    p2 = (1 + omega) * f(p1) - omega * p1\n",
    "    while abs(error(p1, p2)) > accuracy:\n",
    "        p1, p2 = p2, (1 + omega) * f(p2) - omega * p2\n",
    "        iterations += 1\n",
    "    return iterations\n",
    "\n",
    "def over_graph(R0,start,accuracy):\n",
    "    #-- Calcul le graphique du nombre d'itération de la méthode de relaxation accélérée selon le paramètre omega partant \n",
    "    #-- de 0.5 en allant jusqu'à 2 en bond de 0.1\n",
    "    \n",
    "    #--Paramètres:\n",
    "    #   R0: Nombre de reproduction de base \n",
    "    #   start: Valeur de départ pour l'itérations allant de 0.1 à 1.4\n",
    "    #   accuracy: précision de l'erreur de p\n",
    "\n",
    "    #--Retourne un graphique du nombre d'itération selon le paramètre de relaxation accélérée\n",
    "    \n",
    "    \n",
    "    y = []\n",
    "    temp = linspace(0.5,2,16)\n",
    "    \n",
    "    for omega in temp:\n",
    "        iterations = over_relax(R0,start,omega, accuracy)\n",
    "        \n",
    "        y.append(iterations)\n",
    "        \n",
    "    #Graphique    \n",
    "    \n",
    "    plot(temp,y)\n",
    "    xlabel(\"Valeur de $\\omega$\")\n",
    "    ylabel(\"Nombre d'itérations\")\n",
    "    grid()\n",
    "    show()\n",
    "    \n",
    "over_graph(2,1,1e-6)"
   ]
  },
  {
   "cell_type": "markdown",
   "metadata": {},
   "source": [
    "## Numéro 9  \n",
    "Il est possible de vouloir utiliser un $\\omega < 0$, si les bonds d'itérations sont trop grands et que l'algorithme passe tout droit de la solution. Par exemple, on commence à $x = 3$ et, à la prochaine itération, on obtient $x' = 4$, mais en fait la réponse est à $x^{*} = 3.14$. En bref, il faut réduire la *petite tape dans le dos* afin d'arriver à la solution sans la dépasser. "
   ]
  }
 ],
 "metadata": {
  "kernelspec": {
   "display_name": "Python 3",
   "language": "python",
   "name": "python3"
  },
  "language_info": {
   "codemirror_mode": {
    "name": "ipython",
    "version": 3
   },
   "file_extension": ".py",
   "mimetype": "text/x-python",
   "name": "python",
   "nbconvert_exporter": "python",
   "pygments_lexer": "ipython3",
   "version": "3.8.5"
  }
 },
 "nbformat": 4,
 "nbformat_minor": 4
}
