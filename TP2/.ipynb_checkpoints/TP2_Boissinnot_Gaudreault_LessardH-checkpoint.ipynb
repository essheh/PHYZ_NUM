{
 "cells": [
  {
   "cell_type": "markdown",
   "metadata": {},
   "source": [
    "# <u>TP2</u>\n",
    "\n",
    "## par Antoine Boissinot  - -  François Gaudreault  - -  Béatrice Lessard-Hamel\n",
    "\n",
    "## Présenté à M. Philippe Després\n",
    "\n",
    "### Date de remise : 5 mars 2021"
   ]
  },
  {
   "cell_type": "code",
   "execution_count": 1,
   "metadata": {},
   "outputs": [],
   "source": [
    "import numpy as np\n",
    "from numpy import exp, linspace\n",
    "from pylab import plot, show, xlabel, ylabel, grid"
   ]
  },
  {
   "cell_type": "markdown",
   "metadata": {},
   "source": [
    "## Numéro 1  "
   ]
  },
  {
   "cell_type": "markdown",
   "metadata": {},
   "source": [
    "## Numéro 2 "
   ]
  },
  {
   "cell_type": "markdown",
   "metadata": {},
   "source": [
    "## Numéro 3  "
   ]
  },
  {
   "cell_type": "markdown",
   "metadata": {},
   "source": [
    "## Numéro 4  "
   ]
  },
  {
   "cell_type": "markdown",
   "metadata": {},
   "source": [
    "## Numéro 5  "
   ]
  },
  {
   "cell_type": "code",
   "execution_count": 2,
   "metadata": {},
   "outputs": [
    {
     "data": {
      "image/png": "[encoded data removed]",
      "text/plain": [
       "<Figure size 432x288 with 1 Axes>"
      ]
     },
     "metadata": {
      "needs_background": "light"
     },
     "output_type": "display_data"
    }
   ],
   "source": [
    "def p_graph(R0_max, accuracy, steps):\n",
    "    \n",
    "\n",
    "#--Calcul itératif du pourcentage de la population qui aura été infecté au terme de la pandémie\n",
    "\n",
    "    #--Paramètres:\n",
    "    #   R0_max: Nombre de reproduction de base maximale en supposant que le fluctuation commence à 0\n",
    "    #   accuracy: précision de l'erreur de p\n",
    "    #   steps: Bonds par itérations\n",
    "\n",
    "    #--Retourne un graphique de p en fonction de R0\n",
    "\n",
    "    points = int(R0_max / steps)\n",
    "\n",
    "\n",
    "# Liste pour le graphique\n",
    "\n",
    "    y = []\n",
    "    temp = linspace(0, R0_max, points)\n",
    "\n",
    "# R0 loop\n",
    "\n",
    "    for R0 in temp:\n",
    "        p1 = 1.0\n",
    "        error = 1.0\n",
    "    \n",
    "    # Loop jusqu'à l'erreur établie\n",
    "    \n",
    "        while error > accuracy:\n",
    "            p1,p2 = 1 - exp(-R0*p1),p1\n",
    "            error = abs((p1-p2)/(1 - 1 / (R0 * exp(-R0 * p1))))\n",
    "        \n",
    "        # Ajout des valeurs convergées et transformation en pourcentage\n",
    "        \n",
    "        y.append(100 * p1)\n",
    "    \n",
    "#Graphique    \n",
    "    \n",
    "    plot(temp,y)\n",
    "    xlabel(\"Nombre de reproduction de base ($R_0$)\")\n",
    "    ylabel(\"Pourcentage de la population qui aura \\n été infecté au terme de la pandémie (p) [%]\")\n",
    "    grid()\n",
    "    show()\n",
    "        \n",
    "np.seterr(divide = 'ignore')\n",
    "p_graph(5.7,1e-6,0.01)"
   ]
  },
  {
   "cell_type": "markdown",
   "metadata": {},
   "source": [
    "## Numéro 6  \n",
    "Selon le début de démarche présenté dans l'énoncé, on sait que $x'$ est représenté selon la méthode de relaxation accélérée comme suit :\n",
    "$$ x'=(1+\\omega)f(x)-\\omega x.$$\n",
    "Sachant que $x^{*} = f(x^{*})$, il est possible de redéfinir $x'$ en faisant son développement en série de Taylor comme suit :\n",
    "$$x'  = ((1+\\omega)f'(x^{*})-\\omega)(x-x^{*}) + f(x^{*}) + ...~;$$\n",
    "$$\\Rightarrow x'  \\simeq ((1+\\omega)f'(x^{*})-\\omega)(x-x^{*}) + x^{*}.$$\n",
    "Comme $\\varepsilon = x - x^{*}$ et que $\\varepsilon ' = x' - x^{*}$, on obtient :\n",
    "$$x' - x^{*} = [(1+\\omega)f'(x^{*})-\\omega](x-x^{*})~; $$\n",
    "$$\\Rightarrow \\varepsilon ' = [(1+\\omega)f'(x^{*})-\\omega]\\varepsilon~;$$\n",
    "$$\\Rightarrow \\varepsilon = \\frac{\\varepsilon'}{(1+\\omega)f'(x^{*})-\\omega}.$$\n",
    "En réinsérant les termes dans $x^{*} = x' +\\varepsilon'$, on obtient : \n",
    "$$x^{*} = x' +\\varepsilon'~;$$\n",
    "$$\\Rightarrow \\varepsilon' =x^{*} - x' ; $$\n",
    "$$= x + \\varepsilon - x' ; $$\n",
    "$$= x + \\frac{\\varepsilon'}{(1+\\omega)f'(x^{*})-\\omega} - x'~;$$\n",
    "$$\\Rightarrow \\varepsilon' \\left(1 - \\frac{1}{(1+\\omega)f'(x^{*})-\\omega}\\right) = x-x'.$$\n",
    "Finalement, on obtient : \n",
    "$$ \\therefore \\varepsilon' \\simeq \\frac{x-x'}{1-1/[(1+\\omega)f'(x^{*})-\\omega]}.$$"
   ]
  },
  {
   "cell_type": "markdown",
   "metadata": {},
   "source": [
    "## Numéro 7  "
   ]
  },
  {
   "cell_type": "code",
   "execution_count": 6,
   "metadata": {},
   "outputs": [
    {
     "name": "stdout",
     "output_type": "stream",
     "text": [
      "Nombre d'itérations :  15\n",
      "Valeur de p : 79.68%\n"
     ]
    }
   ],
   "source": [
    "def p_nb_iter(R0,accuracy):\n",
    "    \n",
    "    #--Calcul du nombre d'itération du pourcentage de la population qui aura été infecté au terme de la pandémie\n",
    "    #--Selon la méthode de relaxation\n",
    "\n",
    "    #--Paramètres:\n",
    "    #   R0: Nombre de reproduction de base \n",
    "    #   accuracy: précision de l'erreur de p\n",
    "\n",
    "    #--Retourne le nombre d'itération et la solution convergente à la précision préétablie selon la méthode de relaxation\n",
    "    \n",
    "    iteration = 1\n",
    "    def f(p):\n",
    "        return 1 - exp(- R0 * p)\n",
    "\n",
    "    def error(p1, p2):\n",
    "        return (p1 - p2) / (1 - 1 / (R0 * exp(-R0 * p1)))\n",
    "\n",
    "    p1 = 0.5 # valeur de départ\n",
    "    p2 = f(p1)\n",
    "    while(abs(error(p1, p2)) > accuracy):\n",
    "        p1, p2 = p2, f(p2)\n",
    "        iteration += 1\n",
    "    print(\"Nombre d'itérations : \",iteration)\n",
    "    print(\"Valeur de p : {:.2f}%\".format(p2*100))\n",
    "p_nb_iter(2,1e-6)\n"
   ]
  },
  {
   "cell_type": "markdown",
   "metadata": {},
   "source": [
    "## Numéro 8  "
   ]
  },
  {
   "cell_type": "code",
   "execution_count": 4,
   "metadata": {},
   "outputs": [
    {
     "data": {
      "image/png": "[encoded data removed]",
      "text/plain": [
       "<Figure size 432x288 with 1 Axes>"
      ]
     },
     "metadata": {
      "needs_background": "light"
     },
     "output_type": "display_data"
    }
   ],
   "source": [
    "def over_relax(R0, omega, accuracy):\n",
    "    #--Calcul du nombre d'itération du pourcentage de la population qui aura été infecté au terme de la pandémie\n",
    "    #--Selon la méthode de relaxation accélérée\n",
    "\n",
    "    #--Paramètres:\n",
    "    #   R0: Nombre de reproduction de base \n",
    "    #   omega: paramètre de relaxation accélérée\n",
    "    #   accuracy: précision de l'erreur de p\n",
    "\n",
    "    #--Retourne le nombre d'itération selon la méthode de relaxation accélérée\n",
    "    \n",
    "    iterations = 1\n",
    "\n",
    "    def f(p):\n",
    "        return 1 - exp(- R0 * p)\n",
    "\n",
    "    def f_derive(p):\n",
    "        return R0 * exp(- R0 * p)\n",
    "\n",
    "    def error(p1, p2):\n",
    "        return (p1 - p2) / (1 - 1 / ((1 + omega) * f_derive(p1) - omega))\n",
    "\n",
    "    p1 = 0.5  # valeur de départ\n",
    "    p2 = (1 + omega) * f(p1) - omega * p1\n",
    "    while abs(error(p1, p2)) > accuracy:\n",
    "        p1, p2 = p2, (1 + omega) * f(p2) - omega * p2\n",
    "        iterations += 1\n",
    "    return iterations\n",
    "\n",
    "def over_graph(R0,accuracy):\n",
    "    #-- Calcul le graphique du nombre d'itération de la méthode de relaxation accélérée selon le paramètre omega partant \n",
    "    #-- de 0.5 en allant jusqu'à 2 en bond de 0.1\n",
    "    \n",
    "    #--Paramètres:\n",
    "    #   R0: Nombre de reproduction de base \n",
    "    #   accuracy: précision de l'erreur de p\n",
    "\n",
    "    #--Retourne un graphique du nombre d'itération selon le paramètre de relaxation accélérée\n",
    "    \n",
    "    \n",
    "    y = []\n",
    "    temp = linspace(0.5,2,16)\n",
    "    \n",
    "    for omega in temp:\n",
    "        iterations = over_relax(R0,omega, accuracy)\n",
    "        \n",
    "        y.append(iterations)\n",
    "        \n",
    "    #Graphique    \n",
    "    \n",
    "    plot(temp,y)\n",
    "    xlabel(\"Valeur de $\\omega$\")\n",
    "    ylabel(\"Nombre d'itérations\")\n",
    "    grid()\n",
    "    show()\n",
    "    \n",
    "over_graph(2,1e-6)"
   ]
  },
  {
   "cell_type": "markdown",
   "metadata": {},
   "source": [
    "## Numéro 9  \n",
    "Il est possible de vouloir utiliser un $\\omega < 0$, si les bonds d'itérations sont trop grands et que l'algorithme passe tout droit de la solution. Par exemple, on commence à $x = 3$ et, à la prochaine itération, on obtient $x' = 4$, mais en fait la réponse est à $x^{*} = 3.14$. En bref, il faut réduire la *petite tape dans le dos* afin d'arriver à la solution sans la dépasser. "
   ]
  }
 ],
 "metadata": {
  "kernelspec": {
   "display_name": "Python 3",
   "language": "python",
   "name": "python3"
  },
  "language_info": {
   "codemirror_mode": {
    "name": "ipython",
    "version": 3
   },
   "file_extension": ".py",
   "mimetype": "text/x-python",
   "name": "python",
   "nbconvert_exporter": "python",
   "pygments_lexer": "ipython3",
   "version": "3.8.5"
  }
 },
 "nbformat": 4,
 "nbformat_minor": 4
}
