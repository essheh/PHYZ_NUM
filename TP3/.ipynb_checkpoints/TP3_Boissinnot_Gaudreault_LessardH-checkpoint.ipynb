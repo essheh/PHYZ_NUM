{
 "cells": [
  {
   "cell_type": "markdown",
   "metadata": {},
   "source": [
    "# <u>TP3</u>\n",
    "\n",
    "## par Antoine Boissinot  - -  François Gaudreault  - -  Béatrice Lessard-Hamel\n",
    "\n",
    "## Présenté à M. Philippe Després\n",
    "\n",
    "### Date de remise : 19 mars 2021"
   ]
  },
  {
   "cell_type": "code",
   "execution_count": 155,
   "metadata": {},
   "outputs": [],
   "source": [
    "from astropy import constants as cst\n",
    "import matplotlib.pylab as plt\n",
    "import numpy as np\n",
    "import timeit\n",
    "from numpy import sqrt\n",
    "from matplotlib import animation, rc\n",
    "from IPython.display import HTML\n"
   ]
  },
  {
   "cell_type": "code",
   "execution_count": 2,
   "metadata": {},
   "outputs": [],
   "source": [
    "#Constantes utilisés\n",
    "G = cst.G.value * ( 365.25 * 24 * 60 * 60) ** 2 #m^2/kg an^2\n",
    "M = cst.M_sun.value #kg\n",
    "m = cst.M_earth.value #kg"
   ]
  },
  {
   "cell_type": "markdown",
   "metadata": {},
   "source": [
    "## Mécanique céleste - comètes"
   ]
  },
  {
   "cell_type": "markdown",
   "metadata": {},
   "source": [
    "#### a. Transformation des équations\n",
    "On a les équations suivantes à résoudre: \n",
    "$$ \\frac{d^2x}{dt^2} = -GM\\frac{x}{r^3}, \\; \\; \\; \\; \\; \\frac{d^2y}{dt^2} = -GM\\frac{y}{r^3}. $$ \n",
    "Pour résoudre numériquement on souhaite transformer ces équations sous la forme: \n",
    "$$\\frac{d\\mathbf{r}}{dt} = \\mathbf{f}(\\mathbf{r}, t). $$\n",
    "Sachant que la vitesse est la dérivée temporel de la position, on peut réécrire ces équations comme: \n",
    "$$ \\frac{dv_x}{dt} = -GM\\frac{x}{r^3}, \\; \\; \\; \\; \\; \\frac{dv_y}{dt} = -GM\\frac{y}{r^3}, \\\\ \\frac{dx}{dt} = v_x, \\; \\; \\; \\; \\; \\frac{dy}{dt} = v_y. $$ \n",
    "On peut donc exprimer $\\mathbf{r}$ et $\\mathbf{f}$ comme:\n",
    "$$\\mathbf{r} = \\begin{pmatrix}\n",
    "x \\\\\n",
    "y \\\\\n",
    "v_x \\\\ \n",
    "v_y \n",
    "\\end{pmatrix}, \\; \\; \\; \\; \\;  \\mathbf{f} = \\begin{pmatrix}\n",
    "v_x \\\\\n",
    "v_y \\\\\n",
    "-GM\\frac{x}{r^3}\\\\ \n",
    "-GM\\frac{y}{r^3}\n",
    "\\end{pmatrix}.$$\n",
    "Il ne nous reste plus qu'à solutionner numériquement!\n"
   ]
  },
  {
   "cell_type": "markdown",
   "metadata": {},
   "source": [
    "#### b. RK4 à pas constant "
   ]
  },
  {
   "cell_type": "markdown",
   "metadata": {},
   "source": [
    "On souhaite résoudre ces équations avec une les conditions initiales $x = 4 × 10^9$ km, $y = 0$, $v_x = 0$\n",
    "et $v_y = 500$ m/s. Pour ce faire la méthode Runge-Kutta d'ordre 4 va être utilisée.  "
   ]
  },
  {
   "cell_type": "code",
   "execution_count": 168,
   "metadata": {},
   "outputs": [
    {
     "data": {
      "image/png": "[encoded data removed]",
      "text/plain": [
       "<Figure size 432x288 with 1 Axes>"
      ]
     },
     "metadata": {
      "needs_background": "light"
     },
     "output_type": "display_data"
    },
    {
     "name": "stdout",
     "output_type": "stream",
     "text": [
      "Le nombre de pas est: 100001.\n"
     ]
    }
   ],
   "source": [
    "def f(r): #f returns the vector of the time derivatives of each coordinates \n",
    "    x = r[0]\n",
    "    y = r[1]\n",
    "    v_x = r[2]\n",
    "    v_y = r[3]\n",
    "    dist = (x**2 + y**2)**(0.5)\n",
    "    return np.array([v_x, v_y, -G*M*x/dist**3, -G*M*y/dist**3], float) \n",
    "\n",
    "def Runge_Kutta(f, r, h):\n",
    "    \"\"\" \n",
    "    The function return the vector r of the updated coordinates using the Runge-Kutta method\n",
    "\n",
    "    param 1 f: f is a vector of function\n",
    "    param 2 r: r is the vector of the current coordinates\n",
    "    param 3 h: h is the step between each coordinates \n",
    "    return: dr the change of the coordinates vector \n",
    "    \"\"\"\n",
    "    k_1 = h*f(r)\n",
    "    k_2 = h*f(r + 0.5*k_1)\n",
    "    k_3 = h*f(r + 0.5*k_2)\n",
    "    k_4 = h*f(r + k_3)\n",
    "    dr = (k_1 + 2*k_2 + 2*k_3 + k_4)/6 \n",
    "    return dr\n",
    "    \n",
    "\n",
    "def orbit_constant_step(x, y, v_x, v_y, t, h):\n",
    "    \"\"\"\n",
    "    The function return the x and y position at time t of the orbit of a comet using the 4th order Runge-Kutta to solve Newton's law of universal\n",
    "    gravitation with constant time step h.    \n",
    "    \n",
    "    param 1 x: x is the distance in the x plane between the sun and the comet à time t = 0 [m] \n",
    "    param 2 y: y is the distance in the y plane between the sun and the comet à time t = 0 [m] \n",
    "    param 3 v_x: v_x is the speed of the comet in the x direction at time t = 0 [m/year] \n",
    "    param 4 v_y: v_y is the speed of the comet in the y direction at time t = 0 [m/year] \n",
    "    param 5 t: t is the the time duration of the simulation [year]\n",
    "    param 6 h: h is the time step between each time value \n",
    "    return: x_points, y_points and t_points, the x and y list of positions corresponding to the time of t_points   \n",
    "    \"\"\" \n",
    "    t_points = np.arange(0, t+h, h) #The array of time values \n",
    "    x_points = [] #The list of x positions values\n",
    "    y_points = [] #The list of y positions values\n",
    "    r = np.array([x, y, v_x, v_y]) #The vector of all coordinates  \n",
    "  \n",
    "    #We use the Runge-Kutta method\n",
    "    for t in t_points:\n",
    "        x_points.append(r[0])\n",
    "        y_points.append(r[1])   \n",
    "        r += Runge_Kutta(f, r, h) \n",
    "    \n",
    "    return x_points, y_points, t_points \n",
    "\n",
    "\n",
    "#Parameters \n",
    "\n",
    "x = 4*10**12 #[m]\n",
    "y = 0 \n",
    "v_x = 0\n",
    "v_y = 1000*(365.2422*24*60*60) # [m/year]\n",
    "t = 100 #[year]\n",
    "h = 0.004\n",
    "\n",
    "x_points, y_points, t_points = orbit_constant_step(x, y, v_x, v_y, t, h)\n",
    "\n",
    "#Graph\n",
    "\n",
    "plt.plot(x_points, y_points, color = \"Black\", label = \"Trajectoire de la comète\")\n",
    "plt.plot(x_points[-1], y_points[-1], color = \"firebrick\", label = \"Position de la comète\", marker='8', linestyle = 'None')\n",
    "plt.plot(0, 0, color = 'darkorange', marker='*', linestyle = 'None', label = \"Position du Soleil\")\n",
    "plt.xlabel(\"Distance en x [m]\")\n",
    "plt.ylabel(\"Distance en y [m]\")\n",
    "plt.title(\"Trajectoire de la comète ainsi que sa position \\n après {} ans\".format(t_points[-1]))\n",
    "plt.legend()\n",
    "plt.show()\n",
    "print(\"Le nombre de pas est: {}.\".format(len(t_points)))"
   ]
  },
  {
   "cell_type": "markdown",
   "metadata": {},
   "source": []
  },
  {
   "cell_type": "markdown",
   "metadata": {},
   "source": [
    "#### c. RK4 à pas variable\n",
    "Afin d'augmenter substantiellement la vitesse de calcul, il est possible de faire varier le pas de temps entre chaque itération. L'erreur maximale admise pour augmenter la vitesse est $\\delta = 1$ km. "
   ]
  },
  {
   "cell_type": "code",
   "execution_count": 171,
   "metadata": {},
   "outputs": [
    {
     "data": {
      "image/png": "[encoded data removed]",
      "text/plain": [
       "<Figure size 432x288 with 1 Axes>"
      ]
     },
     "metadata": {
      "needs_background": "light"
     },
     "output_type": "display_data"
    },
    {
     "name": "stdout",
     "output_type": "stream",
     "text": [
      "Le nombre de pas est: 329, il y a donc 987 itérations de Runge-Kutta à calculer.\n"
     ]
    }
   ],
   "source": [
    "def orbit_variable_step(x, y, v_x, v_y, t, h, delta):\n",
    "    \"\"\"\n",
    "    The function return the x and y position at time t of the orbit of a comet using the 4th order Runge-Kutta to solve Newton's law of universal\n",
    "    gravitation with variable time step.    \n",
    "    \n",
    "    param 1 x: x is the distance in the x plane between the sun and the comet à time t = 0 [m] \n",
    "    param 2 y: y is the distance in the y plane between the sun and the comet à time t = 0 [m] \n",
    "    param 3 v_x: v_x is the speed of the comet in the x direction at time t = 0 [m/year] \n",
    "    param 4 v_y: v_y is the speed of the comet in the y direction at time t = 0 [m/year] \n",
    "    param 5 t: t is the the approximate time duration of the simulation [year]\n",
    "    param 6 h: h is the time step between each time value \n",
    "    param 7 delta: delta is the maximal accepted error  \n",
    "    return: x_points, y_points, t_points and e_points two array of the x and y position for each time t and one of the time duration with step h  \n",
    "    \"\"\"\n",
    "    \n",
    "    t_points = [0] #The list of time values \n",
    "    x_points = [x] #The list of x positions values\n",
    "    y_points = [y] #The list of y positions values\n",
    "    ex_points = [0] #The list of x error value\n",
    "    ey_points = [0] #The list of y error value\n",
    "    r = np.array([x, y, v_x, v_y]) #The vector of all coordinates \n",
    "    current_t = 0 #The time at the step h \n",
    "    \n",
    "    while current_t < t:  \n",
    "        \n",
    "        step_1 = Runge_Kutta(f, r, h) #First step of h\n",
    "        step_2 = Runge_Kutta(f, r + step_1, h) # Second step of h \n",
    "        total_step = step_1 + step_2 # Total change of the two step of h \n",
    "        \n",
    "        double_step = Runge_Kutta(f, r, 2*h) #Change of the step of 2h \n",
    "    \n",
    "        x_error = (total_step[0] - double_step[0]) / 30 #The error value of x\n",
    "        y_error = (total_step[1] - double_step[1]) / 30 #The error value of y \n",
    "        \n",
    "        error = np.sqrt(x_error**2 + y_error**2) #The Euclidean error\n",
    "        \n",
    "        rho = 30*h*delta/(error) #Facteur permettant de déterminer la nouvelle valeur de h \n",
    "        \n",
    "        \n",
    "        \n",
    "\n",
    "        if rho > 1: #Condition permettant de savoir si h est trop grand  \n",
    "            current_t = current_t + 2*h #On ajuste le temps \n",
    "            \n",
    "            r += total_step + (total_step - double_step)/15 #Local extrapolation   \n",
    "            \n",
    "            x_points.append(r[0])\n",
    "            y_points.append(r[1])\n",
    "            t_points.append(current_t) \n",
    "            ex_points.append(x_error)\n",
    "            ey_points.append(y_error)\n",
    "            \n",
    "            h = h*rho**(1/4) #New h value \n",
    "        else:     \n",
    "            h = h*rho**(1/4) #New h value          \n",
    "        \n",
    "    return x_points, y_points, t_points, ex_points, ey_points  \n",
    "\n",
    "#Parameters  \n",
    "delta = 1000 #[m] \n",
    "x = 4*10**12 #[m]\n",
    "y = 0 \n",
    "v_x = 0\n",
    "v_y = 1000*(365.25*24*60*60) # [m/year]\n",
    "t = 100 #[year]\n",
    "h = 0.004      \n",
    "   \n",
    "x_points, y_points, t_points, ex_points, ey_points = orbit_variable_step(x, y, v_x, v_y, t, h, delta)\n",
    "\n",
    "\n",
    "#Graph\n",
    "\n",
    "plt.plot(x_points, y_points, color = \"Black\", label = \"Trajectoire de la comète\")\n",
    "plt.plot(x_points[-1], y_points[-1], color = \"firebrick\", label = \"Position de la comète\", marker='8', linestyle = 'None')\n",
    "plt.plot(0, 0, color = 'darkorange', marker='*', linestyle = 'None', label = \"Position du Soleil\")\n",
    "plt.xlabel(\"Distance en x [m]\")\n",
    "plt.ylabel(\"Distance en y [m]\")\n",
    "plt.title(\"Trajectoire de la comète ainsi que sa position \\n après {} ans\".format(t_points[-1]))\n",
    "plt.legend()\n",
    "plt.show()\n",
    "\n",
    "print(\"Le nombre de pas est: {}\".format(len(t_points)) + \", il y a donc {} itérations de Runge-Kutta à calculer.\".format(3*len(t_points)))"
   ]
  },
  {
   "cell_type": "markdown",
   "metadata": {},
   "source": [
    "Cette méthode nous permet d'économiser beaucoup de temps de calcul, car le nombre de pas totaux effectués est bien plus petit qu'avec la méthode à pas constants, ce qui a pour effet de beaucoup réduire le temps de calcul. "
   ]
  },
  {
   "cell_type": "code",
   "execution_count": 166,
   "metadata": {},
   "outputs": [
    {
     "name": "stdout",
     "output_type": "stream",
     "text": [
      "Le temps moyen pour la méthode à pas constants est: 3.017712250000477\n",
      "Le temps moyen pour la méthode à pas variables est: 0.21727538999984972\n",
      "La méthode à pas variable est donc environ 14 fois plus rapide\n"
     ]
    }
   ],
   "source": [
    "#Temps de calcul, on moyenne sur 10 itérations \n",
    "time_constant_step = timeit.timeit('[orbit_constant_step(x, y, v_x, v_y, t, h)]', number = 10, globals=globals())/10\n",
    "time_variable_step = timeit.timeit('[orbit_variable_step(x, y, v_x, v_y, t, h, delta)]', number = 10, globals=globals())/10\n",
    "\n",
    "print(\"Le temps moyen pour la méthode à pas constants est: {}\".format(time_constant_step))\n",
    "print(\"Le temps moyen pour la méthode à pas variables est: {}\".format(time_variable_step))\n",
    "print(\"La méthode à pas variable est donc environ {} fois plus rapide\".format(int(round(time_constant_step / time_variable_step, 0 ))))"
   ]
  },
  {
   "cell_type": "markdown",
   "metadata": {},
   "source": [
    "Cette vitesse de calcul vient toutefois à un prix, le nombre de points calculées et moins important. Mais ce nombre et surtout chacun de ces points peut avoir une erreur comprise entre -1 km et 1 km, soit $[-\\delta, \\, \\delta]$. Plus encore, cette erreur est cumulative. Néanmoins, cette erreur devrait s'annuler.     "
   ]
  },
  {
   "cell_type": "code",
   "execution_count": 172,
   "metadata": {},
   "outputs": [
    {
     "ename": "NameError",
     "evalue": "name 'ex_error' is not defined",
     "output_type": "error",
     "traceback": [
      "\u001b[1;31m---------------------------------------------------------------------------\u001b[0m",
      "\u001b[1;31mNameError\u001b[0m                                 Traceback (most recent call last)",
      "\u001b[1;32m<ipython-input-172-09b8f8798e03>\u001b[0m in \u001b[0;36m<module>\u001b[1;34m\u001b[0m\n\u001b[1;32m----> 1\u001b[1;33m \u001b[0mprint\u001b[0m\u001b[1;33m(\u001b[0m\u001b[0mnp\u001b[0m\u001b[1;33m.\u001b[0m\u001b[0msum\u001b[0m\u001b[1;33m(\u001b[0m\u001b[0mnp\u001b[0m\u001b[1;33m.\u001b[0m\u001b[0marray\u001b[0m\u001b[1;33m(\u001b[0m\u001b[0mex_error\u001b[0m\u001b[1;33m)\u001b[0m\u001b[1;33m)\u001b[0m\u001b[1;33m)\u001b[0m\u001b[1;33m\u001b[0m\u001b[1;33m\u001b[0m\u001b[0m\n\u001b[0m\u001b[0;32m      2\u001b[0m \u001b[0mprint\u001b[0m\u001b[1;33m(\u001b[0m\u001b[0mnp\u001b[0m\u001b[1;33m.\u001b[0m\u001b[0msum\u001b[0m\u001b[1;33m(\u001b[0m\u001b[0mnp\u001b[0m\u001b[1;33m.\u001b[0m\u001b[0marray\u001b[0m\u001b[1;33m(\u001b[0m\u001b[0mey_error\u001b[0m\u001b[1;33m)\u001b[0m\u001b[1;33m)\u001b[0m\u001b[1;33m)\u001b[0m\u001b[1;33m\u001b[0m\u001b[1;33m\u001b[0m\u001b[0m\n",
      "\u001b[1;31mNameError\u001b[0m: name 'ex_error' is not defined"
     ]
    }
   ],
   "source": [
    "print(np.sum(np.array(ex_points)))\n",
    "print(np.sum(np.array(ey_points)))"
   ]
  },
  {
   "cell_type": "markdown",
   "metadata": {},
   "source": [
    "Afin d'aider à visualiser la taille des pas une animation a été réalisée. Entre chaque nouvelle position de la comète il y a un interval de temps constant dans la vidéo de l'animation: "
   ]
  },
  {
   "cell_type": "code",
   "execution_count": 146,
   "metadata": {},
   "outputs": [
    {
     "data": {
      "text/html": [
       "<video width=\"432\" height=\"288\" controls autoplay loop>\n",
       "  <source type=\"video/mp4\" src=\"data:video/mp4;base64,AAAAHGZ0eXBNNFYgAAACAGlzb21pc28yYXZjMQAAAAhmcmVlAAA5aW1kYXQAAAKuBgX//6rcRem9\n",
       "5tlIt5Ys2CDZI+7veDI2NCAtIGNvcmUgMTU1IHIyOTAxIDdkMGZmMjIgLSBILjI2NC9NUEVHLTQg\n",
       "QVZDIGNvZGVjIC0gQ29weWxlZnQgMjAwMy0yMDE4IC0gaHR0cDovL3d3dy52aWRlb2xhbi5vcmcv\n",
       "eDI2NC5odG1sIC0gb3B0aW9uczogY2FiYWM9MSByZWY9MyBkZWJsb2NrPTE6MDowIGFuYWx5c2U9\n",
       "MHgzOjB4MTEzIG1lPWhleCBzdWJtZT03IHBzeT0xIHBzeV9yZD0xLjAwOjAuMDAgbWl4ZWRfcmVm\n",
       "PTEgbWVfcmFuZ2U9MTYgY2hyb21hX21lPTEgdHJlbGxpcz0xIDh4OGRjdD0xIGNxbT0wIGRlYWR6\n",
       "b25lPTIxLDExIGZhc3RfcHNraXA9MSBjaHJvbWFfcXBfb2Zmc2V0PS0yIHRocmVhZHM9OSBsb29r\n",
       "YWhlYWRfdGhyZWFkcz0xIHNsaWNlZF90aHJlYWRzPTAgbnI9MCBkZWNpbWF0ZT0xIGludGVybGFj\n",
       "ZWQ9MCBibHVyYXlfY29tcGF0PTAgY29uc3RyYWluZWRfaW50cmE9MCBiZnJhbWVzPTMgYl9weXJh\n",
       "bWlkPTIgYl9hZGFwdD0xIGJfYmlhcz0wIGRpcmVjdD0xIHdlaWdodGI9MSBvcGVuX2dvcD0wIHdl\n",
       "aWdodHA9MiBrZXlpbnQ9MjUwIGtleWludF9taW49MjAgc2NlbmVjdXQ9NDAgaW50cmFfcmVmcmVz\n",
       "aD0wIHJjX2xvb2thaGVhZD00MCByYz1jcmYgbWJ0cmVlPTEgY3JmPTIzLjAgcWNvbXA9MC42MCBx\n",
       "cG1pbj0wIHFwbWF4PTY5IHFwc3RlcD00IGlwX3JhdGlvPTEuNDAgYXE9MToxLjAwAIAAABJiZYiE\n",
       "AD///vdonwKbWkN6gOSVxSXbTW5wDptX+QAA42QUPM81cs7ui30X10KfBywEXnRPvGan7MXNREUZ\n",
       "CXz8JW6Yln9VBRWszVuz/Y2tyv2f7ukrdtLq+FUaYaOhBROXh+P8fBODW0z8xCQcS7xPek3pQ+n8\n",
       "oQf6e8B72IqjXJQwCTdQBtzfICQj4mKyJ4LsmCxI0mOd9zI/rEPuBPj3UzYVFeTNll2ZNHlf20Fu\n",
       "7FXbhCaJTJn/jdQ85ILRsUKG/Y2H5V1B7J6vLcG3hdRqmutYsdn9/mxBlrrikOWO9odd9iRQlT98\n",
       "b2//qejEvNM3dLRud9iKKCH0PuXaqb+Eo2JaHdbuIDX1gAfCuhmA15XCcBTekCf32BzODVp+a0Sr\n",
       "H+3XcaLKci/Hc67zgHk3/JmDxktt8Paxh32ZIIGqa7mIrH5KabVF5eb2ytYyz/ewkXv1MS6IR4ll\n",
       "XOYPCeKvwH86CO6HY/HHSqLkXqYBQaLBPwX3Fp31hTqDts/LcUoBlE4G06xQbG6Wh0oQIZHbVwuL\n",
       "s/VhJlBPHEavlpo4erG9VlxoS/jvMlNF8XWmS6uTpu1NqaH51jxTtGPY5mvW9bOoyjCexEcnwcNX\n",
       "3cyDhU838SnGdQMgIE116H2ztYkhkn4+uNLiNQYqk3Pbg4jbZFEJQ02uwiumGpolUn0XOUCrSYzg\n",
       "XTXNZIGNVPWuzacLYMdBx2W55KY/3up86eD2k0/WPgM2UuXXI817RN0x9KkHJR7C+j681EUBtzYD\n",
       "eE9Sju9lHzwhbdiv0lE9sYHRaufX9e3rQ+OW2o/E8tv9I/VuFJbXVEs1UyWbN4wGSsPfAuF/l5T6\n",
       "IVpE2wGRDNtsx1H644fe4cWh/e2Llav0urDbF4EsNQjnk75WMjfjTacHHyrkQuXZxRh05WCHr0x2\n",
       "ygS90GEfvwBWta1Xc8pQa+TIINAUYzYhVnAgv9rI5mFr7qr/HGPFXSbYakYjnvg/A6KG+zWxZhxF\n",
       "tdjWCK/pgIafsi2zLY0uWIRMkzAf8GTmb6Cx+zjPrxYnB+3HXlvhR+TZ2uWVZ1s2Hs2tCud/kXpL\n",
       "s6mrwfk0mGVHwjmJ0i9whn89DYXbqVSNtj0zLqimELvvXVpdUW2Jbd93I+DqWkVEtjNsJzc1joKy\n",
       "3LSrdUrRYmAk+ZuU53OVpSRxIrQkdiUyTg363SKd4zcKPeARjoS5+AwtwCRUb9hIv4vVbNNwpKAX\n",
       "bwpQNL54J+/FxKmWA1KFMh9GMWQuyxmtU4ANY0ElnWYNbzaUYj/yT+EZFzaZt3AtckDIFVIYUQSf\n",
       "NlcKN4ZrDMXD1LaQFW806WqTVPfRwVAbSFSJFyEc8rzzpW0QpY/wsp3Xi6hOcTSD9kJcNYuCKXiU\n",
       "VbYB+/oweUtcl5cC04UFaFnfvTe+y1SFfrK7o3iqq6iX0lA5v/Uz2A4+ocqb+NFC76c+/zVyJxTb\n",
       "7G+quwU5Lj05dZbFyvq1A6WoV1v/RwrCGdxcjqkFDgFddeZ9hw8zkSb2NXxYc4FrMtTvA/zjal0r\n",
       "Nowp3hiQ91qbe6zIGPvV8XDAay4b2TUrZLBQyTsLy7UFUmOXQkBOqD0UGrP73YhFLrOTJuToPEjL\n",
       "mQL7MeBAozPD2R3/jN0skAB4F+rqc0bieeGxfXE+3EOF/IyHvXjjYfibiBMuzJeswj65oBoGsSJD\n",
       "Si2j4C8x7ZV/Fbbtn1eciBP5FfAct9hG9YPhcju0gTmu3bAfbT/Wmz81AfRy8UQVwmaRMUWWvBu/\n",
       "EduOg/xUQg18A7FziUsAchSX7puI3UsrFbNiJSSu2BOmyUiQGBM+0yGvEKWdq4kj+/xHOTestw1Q\n",
       "I3q22fG3e3ikubVjxAK51xodxud/at4FsnoJgjS0zXP8aRTaw/SuGWsajilzUKUyqBAmHxVPf2rM\n",
       "kba5b1YmBAjHZ7/ZBTjCg2jFjX8LrFli96/fJjeUDwoIDpr3baHDYKM5kHObV0wF6Rth9Z+9WztI\n",
       "guS86eqU4djddOfd1v4mpaahCVOHOG6zJDmhWSGkJp0kBgFvUgAR9Eg/0ZFs/gIP6jdOsdqF5c6M\n",
       "68hk0JA0LjxkUy7qLc7364/6kcZOf8pSPRcrwBcJUKkTgyy8IpJ4G8Qql9ETEIN4vItyz3mrir1V\n",
       "q9aQyyDm6K8Dte3k/auwwgpZDK1KGGu50QNcIuWtaVBAatFTu0aA0gA2+kCdFsClfxrMnnsT0pow\n",
       "t4i4Qqq6uGCblLhCaEBnZc4tLOa+DNERh3PmQSZ9RB1xYXCPDkjgfl8Y50r2YaX7yuREfL256vFC\n",
       "afVaPlcmDpnynQzBeJ/lmI+Rr3fF2NdvbAcB3x8oZCfxrjAmwe/pWNshZ2n0DVSPLv9eftCqmGCi\n",
       "E2XcdMNGAn7upYasAiz01uqpVGhqft9YkB2NAVHZ6a9VR+PuemoDYEFckTD6dwDFr+bl46uyrO++\n",
       "6wQPrN9bELbKQHytpmDCeKacnnPe2+3z5TS9HtYWwJiZBkJ6HwFzGWF4PbbV7UROsoIKiToFD3yp\n",
       "XQtC/kUBLV2v1iMfwYqnm0Lzo70nylnWHifvIv/vtkkMAzE89S6pWjJPpigicOJlxA2cweo3ebXU\n",
       "m4QXccL7P0C+PqdwEt9+8lsThg1jXv9hNVPboa2/+uLhCUULyr/9MqcAi5EnWD4XSGvj4VgQQ1DF\n",
       "xXrxruKI9Cout+eYXSM71ZeCbPo6yeDL7K3zOalFp34UeNpgyRdRM0L+k08NAiFo0zS50gd3v7hG\n",
       "f1yj4STSM3IcVCEc0Lznx0mX4Him8ti9f0UHyXbYxR8LqL5k+3D7QJLgi7iI/9XVBJe/1Gv1L8wF\n",
       "Q6kB4Zbl7QM1gRd9U7UJAHIukTpvV+HTVUapj9r0qFEU55f2KZApg1OVKaiCS4UHyy2l5zeU/wRr\n",
       "C9nLUKJUNzMbH0CDuElUMBUkiGpJBR3UaQmu113l/B9ngjJGJFMOYTQcOPMOwXucScRIK6rP5kij\n",
       "GI2tAa5QyNE/n346Ag+zcGL0I4UmQLSJRudAB8WbozXQy7hM7sKWy5KGvGy9CoNNuXlTTgTHSL+/\n",
       "+Uxw+Ih6jFOpJ+UzAI+EY6+bZcBieZ8y96pKZhCmoiqdokVR6NVXFKgM/s91WPwE5nZ7UJ1FLUny\n",
       "bzUCr1//xC8Q7Ph8MVW1uzUNTnIUWWSuWRmRNaqU18R95cJB/gP6QADMIgZQSXAupTucxqwcRh4p\n",
       "X67bt5T4sgCB9OixkvwSAAsgYMlWz7mTR4M2oVSK93P76L3yPltqwJC1TxZIyM6irx1ccSYMJinS\n",
       "QynMs8qjDEsFadafI8XoaCo8vGFwUAg5YTYZ8FPLODgGTRjPx0NPUgC5rIIp2Rt08yCFHkbWTm31\n",
       "KzdPSQgAAASL98BMUwVEMIgBtFmBmcqwwd/JNOKCVfSF8MfG/wRWxv2d0xDdlSqhS7o6N5Q6T/c6\n",
       "J89BOI1aTZ4c6wvQX8AtWkHjdElIQCHDGos19bctHvy2ITlPUYi8yoYmODcpThFJG6gtIvT4xRiM\n",
       "qBEoPtsrv6y+cwBteAlDJictYUtwJG93s2iHUy3AyPREEEOXfSXXOMAYmeVAGgBRwF70X8pGMbYa\n",
       "ne1E8kxx6oAaTpidVlWm3c7zFjXmCsxVjquGwMZp4+ttQABLiNEDs1cPbhsddm8nIO3vigQGa1zT\n",
       "dUR43mMyVfshuxzkVpGlFA6cML+GtXbvmPKISxFUGBnDl/N/7YORGfPn25iCujxc4rEh6PWcFXXV\n",
       "CR9UuwppB7NryQpzluMgOiU2JCsygIu/oSCTWn3ny+Q7u16azBhABDajEpnXhLgIrGR8OWzBeRVB\n",
       "oC6GRoY8+nUsz3/JW8egMVTtGtH62GmFkWFhmuREaFH36g5Trt+aA0Rkl3Q5ilWq4TbW/7jfDjE3\n",
       "ZZEpgNtcxc5uAnSpG3x//9NxsI0wKsA6wFrC6UPQm5oOZaUZKnmTNZizUn7aQzDyik0hVA2VEWLk\n",
       "nLgK8xR/hnW+gmT3vy/x9sNvyNBQJ1ORGSoHD0J7s5F+kcawBtMf9eR0gWkO5a5kROkkVSMkuT6T\n",
       "J0OfLfJfzhvyHWyEqpuXe02hWesOKPpot5Mv8RgoZxfmVwst62n1tVtbK5zSCBlzx/Ry7sBSyirM\n",
       "wvLZMIGyZU2s17PXeHbfxrWfS91FUd/n9tqWXOx1lG7px16F6JZcBCeLCjt0Q01x/RSLqWd6kFnP\n",
       "stKRrP0aZcHHc4fsEKa3UZaeUJBvqZ8ndOTMqhRbtxa6ZQl/T7/y/8gLLzESiN8tFSaLvARGMab3\n",
       "zUtQ1KibQQH5YVdqnjp368zuTmVLvYCQmGjAs8wAEPziFa82SIRxMuwzzV0e6ugM2BQb7zu2Wy+Z\n",
       "tZh2zWbRR+jjKHzZUYznxjluRWvVYoRSAVo46AFvcDlmVPrOutCIa8lWAOIV26d3YLeSJ310beSy\n",
       "VkAcRNkn2AqOfgX/d3EDPk9yp1sdVbDemh53E457lSc52HoCsNdKmiDumVEHt0HLhl6RVfGtavtO\n",
       "2I76YcSvX88wL+3B5bIEHb9eXYLcvLw8D2iaBc8ONIB7xgM7XhggBU99T+9ImvYoWVw8x7zieBD4\n",
       "UycZia8/5sbZ+TFtGFbuP4I3eQpixopUwmPoy3HPf4czY5TAjk8MHOu5Bfz6PQvmhlHohcrBExi6\n",
       "Du/HUgrCHC16Y0gH3uQAg03gHvJ49rosucuMAvlPeJvZswj3WrKBhIYYzQMzd+KV5evtqq4gCm6F\n",
       "mEpNp1VPf2Hfrtp7qZYZ2v4PE1Dke8+DqSHggWgM4v71AWC6tN2sXrkihB//2vHeECbLaPsGiebT\n",
       "FXJYkW560/mO8dhjesTtXJ6QPoY7m9wjhTGHj/57RkgGnlkVO/HnH8h83oO+DECkhPVOnrB4wQGf\n",
       "zyjncErRZUiydWD74TN0Dsh7XF5rEcEUhTQm8OIcFGK/IlOU72BP8Ln9SYQxUBgMiybH4GcRTP4y\n",
       "mAM7+iCQUTaAnWOcRTsw2v/sgyAnuxNukSxg54mxYWx5FN6CsbjSAJIquj00Uy0kWCCZAUI10bt7\n",
       "Rl1l1X9yzNxZ8RCfOEtmjraHD6lkYph90CDgGLSmcK2rAMZ703bZwOnbZ6AM00WPpDYqkxsRd1cU\n",
       "ZPoUj64AeL3KhpFEoaHe+pCF6IDjvjOrG85gwZnQQRzaLlVT3/cV9ETdblpVyRCoSSZsl3wxqxPb\n",
       "m8qAzFnoz7+ak289ZpAMBl759k4UNtDh88EXVpWoOlBwfZAGl9mTUVjcOHBuqJl2dqKNp3fb5rDU\n",
       "kb/s06UIgMhM+SVuloPyR/WOn2CETU6EIqadzNfWD00IH2HuFWU4ezqy2kcsrW0R9mGlO6UY0Osq\n",
       "l1shzYqPj/mPElyfxwMpjKQrvwd6sp7p1WB/6thdYwAEo0RQBgJg+ixaNko73QZQcJ4eChIbU09S\n",
       "AAP8h8FLlfEhdu96LS8FklxyFs5gz3atj1KsCEYsGqRp7DVqG/PA2BakEkQ5+niLS++kKS83JpmR\n",
       "UugpMBcPL3xAqRFq8xdCsNphItKV6XLrjNCBC8owqAKgYPXVTb+iP21CNmrlwn3GSVkOMelL+1ES\n",
       "T0M6NpvizbmRaGyhqKaI6LrqpralSlDUUoUMDuAXkfW48cSYcVMION/Gy7Ve6UV6J+4W6hEenjBe\n",
       "ztgTeSp2RDgWi8HkDZk9ksGYQ8XMvZTLQkhmWE/45lWz+qrys75QFe6+kdQxUje+2kuRyN/Uzc5h\n",
       "fphC5mpWcofJgl2bFH9PPdaz6NaK1h4muHRdI9+eoqUd0ZSXjV+Q9BnwskC2g3iXMS/wWfHIrORv\n",
       "dngIJ/9sTKRcZ3/QDBbDKeSSuKZUOSZ0a/7VuOnfKE6jfe0aBpBIaM7IisjJsNxEuxGOXchNlxuq\n",
       "c4bWeca8sNoO97toDp+4nGbXyItYeHl1m22Ix21CvqmUuNdhKBje6CKLS93VNsbTSXqoZa9++ZkI\n",
       "KJdRS7eA6KZXFvyNm6pccNCD9m2pwisHrNcTOWl/HMwV6GmkqLEB/3Rsjsye8UXaK/tC7hPcxw9e\n",
       "aHBXjTZTM5jD8XIgi9jtTcHcRWQsZU39ugfysPa2kC3huTsQw8RKVsOoZXvJn4k0FLzUWeg5v8PW\n",
       "A9eU7wudMv465U8oZnqb/Jz5F5iGC07un7qhAhJfs2TOsouUM6EnmV02c8GKjT/J28TCTz+Z8zht\n",
       "cgzwaIiEl5Vb/1LoMrRnHBijV6+LFTomEkkvfIcV/F8Y5oocEOBB3Bo1aKb6eqN526vbFaQ2ebOQ\n",
       "wBgL2O5vvoYv+rq0OwdhyabbScTEVFLf9TxFxQ8AAAJiQZokbEO//p4AvABx5ACkSF7baQXOOtjA\n",
       "pDjcd5vqWW2UM7JsGp4NUS+6hs4g++qhtnrMv6oYnCv2X/iCIDbKYrAGGRXauUCS3eNkgd3R1/UW\n",
       "1DldiK4T2Ej8ZB6TZoCIH1eJeu7VC2BSEGM9WFAiLXSnOcfMKAz6dMea6bG+A+O4fmD8isDOImNo\n",
       "GHscd2h9VGF5IFgI50PEwXIvqBYovHRASPiYlLcAEnoz/xf7azb948XBZzrVwx1es5GC48hNEAms\n",
       "hHnkRij0H8eDCzsnlQ/9ewfUTDYGYhyL8Jfn55KdQniqUjVmBsi2zGihteToIme4IdjjPi3oqGsx\n",
       "pchBdW/Rm5ev0+2tSqKTP0SD3/t+75KykepSovQ9NoreGQrTtJX047v7d5CVHJmCRoXhTO2z0VFX\n",
       "5ruR+RU9Dnz32rRWDLDBIZP9NsQaCJAweyHM46PW7RO1QCphPusEGRQkxOeZ7rxFqFarWWX2spSK\n",
       "r2quoqAIbRI7dDYVtHvjwuXGC6IioRxtFcMq7a+XpKf3QHxaVdabNZIeI6P1gshoW8l7FfLduBe/\n",
       "oqWNgK5a+SuqYDCegJJfLvM2uF0wpeqkQXa+f3DHzuo3R4SNzF8KCPLa+AIOj5daBiGORZN/YbWn\n",
       "pmOxA3O4afkvrg3GIMbYKH4JU/UJhukWtTXwpj0eReatcwoOTXInBx/wd3TAldZU8Fd8QBiA+/NL\n",
       "nw+DCUW3x4VBd3fh3R63Yd+wXCMsJtdvFIY4YCWAM9hZtRFs6CNvGrYiqCoEPBt4Zzk7qxXHoWMM\n",
       "IK3ds3hllTTqKAfj672B2AAAAFBBnkJ4hn8wS7e5t/ifrVyWJ//hFXYMKEKzaAh5yVN4f90PPgz0\n",
       "ACIPUbR8MCuPebMqZPHK/rcKvf9cTWRW3X+Ib5MexyMEFibo+3zbTwmpgQAAADoBnmF0Qr85ExEr\n",
       "ej+iiEozOOA8fNgDexD5vFP80SK6owT8qGoj5iDLoeVph/q+w8KgAHCtOzMGBD7yAAAAPAGeY2pC\n",
       "vwMVleO3zH9mBy5G+tCaqGAB+JLH5R+tT3tL087HH5ckFz95yt+9vE0jOpgQcrnESfH4LtwMiQAA\n",
       "AS5BmmhJqEFomUwId//+qZYAJjyvvTRCFAB+cxK407Mnhtn2IGL+WX7eWLc4BQZDbYJg2rs9gq6t\n",
       "H2To+87WPa45qHkGNgfii/VjERtZAhi9qV3BVZnLIHowWoJXOpNmm1sUc2PK8BhkwpjsVZqRSlo/\n",
       "Gv30scmUdBzlJp+uCrDJ7zOqW5x4FtmHVGk8kcfC8fKaMJztwJiEXNH/MoERsnYkELKbMZRXgciI\n",
       "InaGbEmggiZr1n/bUhlU/noFwWTwUgaRQMxJGlHHBMvmEEIgdNm4Q5mM3p3bUht9Q3xV6w2IQuBi\n",
       "DMkjx/iq0mg2fgyqFx0IuakduKEy8gUhRNsiboXfGw0zGpwcgLgZqxccLTDypf/VkGYteelmiQfK\n",
       "yYj8Px6OKOVv/u5A2XSGzTeXuQAAADhBnoZFESwz/wHDDiS2saIiQRORvVryj6Ab3HxmI2P0qAm1\n",
       "oeUG0+AdY2mmpD0VahrfhkKiX3phQQAAAC8BnqV0Qr8DE4HhOXMRVeBMpK8rIAS26o6es/tfccNw\n",
       "R6GZz7CQapIfeToONXDkgQAAADEBnqdqQr8DFZXjt8yIshmiBwx1x+IAWKAHROCPoIdzIa4P6v0z\n",
       "6ngBp7jIjaLETQ5YAAAAb0GaqUmoQWyZTAh3//6plgBMeV/niDDAAIfrpM5oaNL0KdkWemtuFB/Q\n",
       "bgcNeonCNoFIvSKJqetIDXHMIZRqBUexwxoXhnv6AECX3WY0yk+5aBZA3no3lcg75JgdWuZuoavH\n",
       "PbQmApQuwa9hACwBIAAAANdBms1J4QpSZTAhv/6nhACj79FpxBU0AVqtZr60H8bNrOrDxb93xIS7\n",
       "Qy+u+h9VLev658jj3Tj1EayGqVbsNLgvfLZpsUyq36HVG7qSgJ2amYHXgX7BMIpd0cszwCESn4Af\n",
       "vNz3VXvR9EBBFWhQie/iI+PzhZx4ddKdceAssce7dgpRJSnY5+Yd1HPhYEvMhfervhDRSiPvC149\n",
       "aLCjlziYxLknppzCHM73v8ZdsX5iXUl4SZwOWx1jdA17bajXx/QqiLngeI5v9w/Ce1Oanmn1RnBU\n",
       "yGel4QAAADpBnutFNEwz/wHC0O+Yy53xqonffO/gQ2loAIRZNFIxIHjzRZ6lEC0U1uIRwYAzKwwD\n",
       "LBskgzdI2FZAAAAAQQGfCnRCvwMTgeE5cxFa6J9BupAAE46FT8hKD0RPGp4ZBNjdymOc1v7zjDaW\n",
       "W8N5ayPBIaz5bVxPXhv4cV1rI0S8AAAAMQGfDGpCvwMVleO3zIiz3UMgjeG8L2N+gXsAmvMHzNjY\n",
       "ijUNltB6cyF0ligDDp7IJKEAAABSQZsPSahBaJlMFPDf/qeEAKzv74HLUACg3Jd057zNVbjimMtz\n",
       "f/23tSPJHjbNn8LeoTdOE0OJzUUgKkjf80QAqlA5QvF3lhU74yKe8sqYoWpoeQAAADMBny5qQr8D\n",
       "Fr3xyW/uvzvzewQLaesgKAEztWZXHV4iozgZTrkdJhVQCqkOuVnjjdrTeScAAAAwQZswSeEKUmUw\n",
       "Ib/+p4QAq+J8ehoALCk5wPcmDses6uGFiPljYw9zw8J/hhCjSlBAAAAAQUGbUUnhDomUwId//qmW\n",
       "AFlFTp9XGgB0rnY/AMcCkUJ9FZX2CL/WvguNsdscLxa9VzLy4v/U0JBrothfiT25GyVMAAAAekGb\n",
       "dEnhDyZTAh3//qmWAFuBIVNWojACw+89VLcVqnjNXS+G2Q4ZX98V8lNc61QzRYRyyQJcP6WFJfcb\n",
       "PnXzolz6g6U13v1Lqght0JXk46C9uIW+m/5mRPTkW0lTWrL9cQvi2WEfzBCVwuravybD/m1zz3/1\n",
       "Ce53rmzBAAAAG0GfkkURPC//AIVDWXwittc97l6V72wKlO29EAAAABcBn7NqQr8Aulgp3UIlLnzS\n",
       "K7jgjxHPEAAAAHFBm7ZJqEFomUwU8N/+p4QAum/vhtTcMACg3Jdw+oSajxwoJUJGQY8bDNYVwTna\n",
       "Yu60kelz7+PfJ0xnc+zW1IrTPgCJyCt8vSpVP1ZZ36EqM/ARCdVT2ilHUUDmFBml4fRm9c//anTB\n",
       "ARDwWyEfLwvj/QAAAC0Bn9VqQr8AunJ1ExcC8uoAHBkqkKKo/+pUKQzehAICwhjSjKTMeu7BkCUf\n",
       "a0cAAABOQZvXSeEKUmUwId/+qZYAy0fwHv1D1cEYWQ/x+hyLhawPkNYPEqQiVu0LHR4KqV0THjBU\n",
       "wYia7kSsm52JdnGsZu2fMEQXyfwMj7/ypWVJAAAAT0Gb+UnhDomUwU0TDv/+qZYAYCB2qb4QJKd7\n",
       "HZ5HP4LTNzdaw0Ftpw+y7H5gKz04tGhDydRGir+8qttlOxJMyI+VBk4oSL2d4Ws6ahPAakEAAAAf\n",
       "AZ4YakK/ALhZlNdhgV6mVJaSAFmmxnSk/0Hkw/WIwAAAAE5BmhxJ4Q8mUwIb//6nhABhzWgyiXcI\n",
       "SI6ugC+LcQb9KfEsDDl7kdT2Yx6O951Y/8OZfRcy1ZB+nKCViqWorbShsFZiMx3/OqHRTMNaBVUA\n",
       "AAAiQZ46RRE8L/8AhUNXgduQGDoAIfnZHS43BhD713iRTfyiqAAAABYBnltqQr8AulgEWjlTxcq7\n",
       "ySn3CcP1AAAAKEGaXUmoQWiZTAhv//6nhABhzXJ0uss7ruQBw5WozdidAy+yD9XADWkAAABPQZp/\n",
       "SeEKUmUwURLDf/6nhABkYuSBQu8zlbsLzn31hXVfTrhSi+OT175mqtC/ZaDRczpHrPzVSkYdYWCx\n",
       "67X2QBn71fWQVVLwPCJ3ZSAk4AAAABYBnp5qQr8AuFmSQfh3H4S55eI0u/c0AAAAKEGagEnhDomU\n",
       "wIb//qeEAGRctVTzIGT6YTMglTSle2HGBovil5+HgQcAAAA1QZqiSeEPJlMFFTw3//6nhAAyQBYC\n",
       "Px7ohkgDmJMyI/0yBWOB2vYkgxbS6Rj4x6MQlsRwJuAAAAAZAZ7BakK/ALhZkfmXkvdH8CHWaARW\n",
       "877mgQAAACtBmsNJ4Q8mUwIb//6nhAAyP9eEP9KIA343J07g7tDCsomVDfD0GqPPgO6AAAAAQkGa\n",
       "5EnhDyZTAhv//qeEADI/32bfeSAQLtxVZbKU9qK9yDbYokJ6gcdi/bgoiEqzeK9IF5h0yaNbaq7N\n",
       "ZKlw3HerQQAAAEJBmwZJ4Q8mUwURPDf//qeEADNuenN3sgJyfCunulKYJ1aimldmE7Mtd0JwpUjV\n",
       "/lf/+D/+6mIBTSDegNuKrLsfEu0AAAAcAZ8lakK/ALhZkfumUPG3WP4YIRGFrlsp+05wgQAAADFB\n",
       "mydJ4Q8mUwIb//6nhAAzbsYxJVAQDYRYItC3OU7H/+zZ4fFT2MOOz2TLIS0rk1g1AAAAREGbSEnh\n",
       "DyZTAhv//qeEADOCi4xEEA/8Zt/fFgHvgCqTQ5nQRCFn34Yy7kQhNF9gDeDadLYsQhAhUdmHZN/n\n",
       "0WqtpqwQAAAAM0GbaUnhDyZTAh3//qmWABnpQtAKQhErkRqrv4jZxEB1A7oVeMLqfc08HblVtttI\n",
       "r4eB/gAAAChBm4tJ4Q8mUwURPDv//qmWAAz0AcBpDoAOADGCpAKWPDVamWL8/APTAAAAFgGfqmpC\n",
       "vwC4WZHWo4yKaV1RMaHSKzQAAAAvQZutSeEPJlMFPDv//qmWAAz4MBBV+cQArqKlfrnaVz0ydADK\n",
       "FZX0XEy2G5SAl4AAAAAVAZ/MakK/ALhZkdajkhniCybK/41BAAAAPEGbz0nhDyZTBTw///6plgAM\n",
       "+C38VfI0AOZZOspCUUvqEdcMnAkl3iZgEIzZxU85z43lxmKi5GRt/xIBHwAAABQBn+5qQr8AuFmR\n",
       "1qaue9wJNn4M1QAAAFRBm/NJ4Q8mUwIf//6plgANRF9Oz5GgDY0IwIjthtZWHRo7Tf7HhBvfoOkz\n",
       "CfwsudNAAKlypn9TkzAr+YCUxv9RqAPbVyqylHU997XsnZqXV0BOOzAAAAAaQZ4RRRE8M/8AY3dP\n",
       "leJNU4Dneax7jPX81+UAAAAbAZ4wdEK/ALomG/p5BMz4BKVVQ8JtKuejN3mtAAAAFQGeMmpCvwC6\n",
       "V/37eR7hQussz4A6aAAAADhBmjdJqEFomUwIf//+qZYADUTTVAG4Q+YR5GHx14o4WTZl3UiPE31Y\n",
       "hQVEeAEkddc5bEsn6LDPgAAAACFBnlVFESwz/wBkmHJFOzlBiur8gBKMefpOMeXNUVivcqkAAAAX\n",
       "AZ50dEK/ALomG/qUhTA4btoErWHK/lAAAAAXAZ52akK/ALpX/M0PZRtH5TT8zMvou5sAAAA0QZp7\n",
       "SahBbJlMCHf//qmWAAahNXn+1Fs6LcAIIF3rjbD+S4590LDEfoERzHqzU7TPz8B3QQAAABlBnplF\n",
       "FSwz/wBkmHIpemIBZJUnl0y9o/5QAAAAHQGeuHRCvwC6JhrOyOgAXMpzhOg4aAldTEhUqrVpAAAA\n",
       "FAGeumpCvwC6V/zMejKXjO6Zx7+UAAAAMkGav0moQWyZTAh3//6plgAGqFgSOyVADmHWhgBplRNU\n",
       "sTE3oywuFE6xICFVENrTw0K3AAAAGkGe3UUVLDP/AGSYcimOY+zys3CwXSysF2+BAAAAIAGe/HRC\n",
       "vwC6JhrOpPAA+hqCU6cKNjKHd4IXZQVKqlaAAAAAFQGe/mpCvwC6V/zMlC6FBGDFWGwYPgAAADdB\n",
       "muFJqEFsmUwUTDv//qmWAAakM+t9jvQBFEn2LGnmOtUjonqHnKr2Jshb22opQKz4zJP9tCThAAAA\n",
       "HAGfAGpCvwC6cmaVFVNAAiDN9ZgjG3KB1YazuXAAAAAmQZsFSeEKUmUwIb/+p4QABpgSCKX9bABW\n",
       "b4KHx4JYF7t+C23rgY8AAAAhQZ8jRTRMM/8AZJN/e4pjx5vITWkwAb3AsJlE+le/EgvqAAAAHwGf\n",
       "QnRCvwC6JhrFSp1FffveG9AEMWJ2MncNn2W9MSkAAAAYAZ9EakK/ALpX/MXG2aNfCm77BDAH2OuV\n",
       "AAAALEGbRkmoQWiZTAh3//6plgADUKm689xFQAvLcafDA8rAAWEzcu13fY/oP4HdAAAAL0GbZ0nh\n",
       "ClJlMCHf/qmWAANQnCYHrzNADjIQtLEtYt2H9lpULc6JMD14WQ//PwO7AAAAKEGbiUnhDomUwU0T\n",
       "Dv/+qZYAA1QkgEvoAbkABObfZcQdrhAJH/sNFbAAAAAVAZ+oakK/ALhZkbti/3F6FcuSPxqAAAAA\n",
       "KUGbq0nhDyZTBTw///6plgADVCSANnwBEydFKFOJvmNFFf/6/Er8SBFxAAAAGAGfympCvwC4WZG7\n",
       "lLTM84vSYJcVV636YAAAACtBm85J4Q8mUwIf//6plgADVCRUK/iAOKKsrvCwCeunAapV7PjiNvBU\n",
       "PFJAAAAAGkGf7EURPC//AIVDVxQVFNcNqpmqbJyphv0xAAAAFQGeDWpCvwC6V/w64lp7Hm3oU+UE\n",
       "LQAAAC5BmhJJqEFomUwIf//+qZYAA1C/u0gVoAu7AKLlOFc2Z1JfG2aclSxmF3UiaLM/AAAAGEGe\n",
       "MEURLDP/AGSYchwriKUSoEwUfmVgzAAAABQBnk90Qr8AuiYaOqRXZNDYk+SWMwAAABQBnlFqQr8A\n",
       "ulf8OuNJtfKtMw3nMQAAADJBmlZJqEFsmUwIf//+qZYAA1Q37vS8h/o4ALClWLh343W3xhRB/1jH\n",
       "SYfStsq6MN1UnAAAACBBnnRFFSwz/wBkmHIcK4uZpIqGowAWmZeM5bLw/L6LlAAAABYBnpN0Qr8A\n",
       "uiYaOqVJcYag+R9dNHMNAAAAFgGelWpCvwC6V/w642jzbgnyPsFo5hgAAAAzQZqZSahBbJlMCH//\n",
       "/qmWAAGoiSKq/gAshIUHAejh4SBo5u/g2rUSz+bUfWnlQgCYkEXBAAAAF0Get0UVLC//AIb5zDhZ\n",
       "nP1EKbZ7BG2hAAAAFgGe2GpCvwC6V/w64y0fhg1B+I1MY+0AAAAqQZrdSahBbJlMCH///qmWAAGq\n",
       "Fpu9KvQArJWluh77rjF3RGo9kKeiaw3pAAAAJUGe+0UVLDP/AGSYchwrit0Jn+BACauuArfaWes0\n",
       "Z8SBG67IBoAAAAAYAZ8adEK/ALomGjqk/gsJvXCbcOXODztBAAAAGAGfHGpCvwC6V/w642jzbgnx\n",
       "uAFzsBc2gQAAAEJBmwFJqEFsmUwIf//+qZYAAan0jiIpGgB0PZO3y+zRQ6HAfuuI9RTBaTtQ8LH9\n",
       "JgTIjPf/jTwbB7Hu8kcC9H81s+AAAAAbQZ8/RRUsM/8AZJhyHCuK3QmFzDfCQPDuZloYAAAAFQGf\n",
       "XnRCvwC6Jho6pRxLHSeZN071OQAAABYBn0BqQr8Aulf8OuNJ1SQSUSKW5mwIAAAAPEGbRUmoQWyZ\n",
       "TAh///6plgABqKOFAABzg/BHeTfC9MnW+0ARqLtYcAlomEglm8cMUIGMtgcrXbnK+jdWTwAAACNB\n",
       "n2NFFSwz/wBkmHIcK4uZ3yC1sNcyACL5accg6TwzJP1wgAAAAB4Bn4J0Qr8AuiYaOqUchKjc59zQ\n",
       "AkX0eMK10Gjv03EAAAAfAZ+EakK/ALpX/DrjSdUnbmgBK6xwm89Ao9PQYp/TcQAAAC1Bm4lJqEFs\n",
       "mUwId//+qZYAANUK+lFIOAF+QhmBAo+/J34UkL+KXRAAxwUXw7sAAAAaQZ+nRRUsM/8AZJhyHCuL\n",
       "md84i4gw8to2aqMAAAAVAZ/GdEK/ALomGjqlHIS5lxaiD4I1AAAAHQGfyGpCvwC6V/w640nVFTyD\n",
       "vZ3ACWO4I1iJdDbEAAAAPUGbzUmoQWyZTAh3//6plgAA1EoWgCgIRJBF99UeFsf3JZIzI6fnJAvN\n",
       "QUGhcAxLsc6x9nfdlZrh34D21J0AAAAnQZ/rRRUsM/8AZJhyHCuLmd89dAABEHreCweJlv1xjcc2\n",
       "1lWGjUxAAAAAIQGeCnRCvwC6Jho6pRyEzbdABOyPDFL/sGnYNmVo9/3VEAAAACsBngxqQr8Aulf8\n",
       "OuNJ1R37wAA/8/PDYHiuiqOyaioRbyCOyeCukBF4v1BdAAAAOkGaEUmoQWyZTAhv//6nhAAA0tfe\n",
       "PdXaAPHjwLlyVPLzofGOL3oL33qicbZpt1/P5sNTSMcXigpyzfUAAAAeQZ4vRRUsM/8AZJhyHCuL\n",
       "mdnSV7EFoZ5DBjlxCqiBAAAAIwGeTnRCvwC6Jho6pRyAGHgCT+fgCrCuaQChO1xxxpupE0dEAAAA\n",
       "FgGeUGpCvwC6V/w640nSWD2dwRSiAIAAAAAmQZpSSahBbJlMCHf//qmWAABoArG+/nEAKjriOQPA\n",
       "nx4qiZ3sNssAAAAoQZpzSeEKUmUwId/+qZYAAGgCsZkVJmaAFfaDfxoASmE+PEz6P2G2UAAAADVB\n",
       "mpZJ4Q6JlMCHf/6plgAAaAVUacgYAW7pKsfVSvdhZ138CoMcUpO3dZXo3HXapHuu8cNsoAAAABpB\n",
       "nrRFETwv/wCG8XPPXdGu0630hd/Zm8xQQQAAABYBntVqQr8Aulf8OuNJ0lWb7WfoFlqWAAAAP0Ga\n",
       "2EmoQWiZTBTw7/6plgAAZ5T2L2UyhgBf7oBfcE2aw+1qYKf8egMJ8jABnOAPLHpXkvFHX37ag68t\n",
       "CYHqkQAAABgBnvdqQr8AunJmZ9dBVqVcj66RJiOxpgkAAAA0QZr6SeEKUmUwUsO//qmWAABnx9Ht\n",
       "PoAc6kjknK6SUvdohOdKrfLuNHeUW9B5vUyd2fRnrgAAABYBnxlqQr8AuFmRsyWvaitN54MG3uaB\n",
       "AAAAPkGbHUnhDomUwId//qmWAAAz31FWXpoBRAM0B4stnTZbQMAjLABEcOvQhIfWkfDK1i9/dfhf\n",
       "5YYckqD61HKzAAAAHkGfO0UVPC//AIVDVwx66/MPeMHxNP9z1K1MXJ66tQAAABsBn1xqQr8Aulf7\n",
       "qSstyJwXBAESAQK3rHM0KqEAAAAuQZteSahBaJlMCHf//qmWAAAywSQjDLfM0AJ2dv8wRCFzh8tU\n",
       "vBxSOsCzEwZNwAAAAFpBm2JJ4QpSZTAhv/6nhABkYuSAY2rqR5TuPnjkqb4A1/cjaj+riZux6VqP\n",
       "p9dW4QTFgOW8tfG/bTOWW1KnYsM97eZbMcvx6uzcpnmikfMRegm434DrKns92YAAAAAYQZ+ARTRM\n",
       "M/8AZJN/bHgKdAynJ/5jKYrRAAAAGwGfv3RCvwC6Jhmo481PCNeAEynLT+mkkx9B1AAAAB0Bn6Fq\n",
       "Qr8Aulf7qM2+0/T0lABOeZmWonwL6Vh6gQAAAFtBm6NJqEFomUwId//+qZYABqJmDQBPlhOprnBl\n",
       "ptnjJdblZ0eI+IYeENpoo1u52QU/Rc6laHe/j0X92yj8uyRqJexFEpHPTrLPfo9rFZ7BMdSNpZfq\n",
       "LFtsHzSqAAAAL0GbxUnhClJlMFESw7/+qZYAABitigTdaFEAIHaMwPjqMWn5wGZzYQuyrURq8NQR\n",
       "AAAAFwGf5GpCvwC4WZG0RS15Mppoq0M2Td2hAAAAQkGb50nhDomUwUTDv/6plgAAGLazg2Xj0AKZ\n",
       "ruAjGyNNV2/ynyG+TnXXzZ5IgkXYkizYTLZ33pZioqb81m1yC8sP7wAAABQBngZqQr8AuFmRskR9\n",
       "wEAB+/DWawAAAEhBmglJ4Q8mUwU8O//+qZYAABjLL1zFaQBf7oBfc27GNWo0jA3hQtTI900neF4W\n",
       "HjKqy0w3gwYvAr3Sd4mRp4q8RzQobmyGyLAAAAAbAZ4oakK/ALhZkbJFa38QHF0Jf5D2MIAgN9zQ\n",
       "AAAAeEGaLUnhDyZTAh3//qmWAAAYH3ApTVTuAHOWCnLFh/DqC9ciM9uirlRR5jUgMiPT04TL6V8e\n",
       "9JtqXHTpYKkniMUm5VnFqew07nNPROSXqMZZ057qX0ukvTBTEozA7AbURDSjVJl6v8oPn4/SPRQe\n",
       "UzHGfkYFzzDIgQAAACJBnktFETwz/wBjd0+GHQDS+FoBmOx4zpugAFiGFhcp/fIQAAAAHQGeanRC\n",
       "vwC6JhmkJ1jWkClABOs9i2mVf/mYQoVQAAAAJAGebGpCvwC6V/ukFtmYz36ABc47PsNmiP5pchi5\n",
       "hARHUTTI0QAAADBBmm5JqEFomUwId//+qZYAAAu7FRa/0ALC9T6HLEOyjGRdjw4HQ/HdVzso2UPK\n",
       "lEEAAABtQZqSSeEKUmUwId/+qZYAAAu3TBoAc0L3ufmruIjMfqicXp21p52A55LiFa5j2OWKc+es\n",
       "Z5S4iwfwOZZRI4l8KKKoDUF/TjMZuNamx7/ul9WY/QHGHHW4NsVYGPaDRJrhvwXlh2SKJXiXFKgY\n",
       "4QAAACdBnrBFNEwz/wBkk39sN0ZQqmEOQLdMAF9aYjl1AokkIagEbS/xgMAAAAAoAZ7PdEK/ALom\n",
       "GaP5IWYvBzUFG8NQAlhXbgFiDC5aXy0BVueyw/wRQAAAABoBntFqQr8Aulf7o/l6rXiVlH9gZJN1\n",
       "g7PHwQAAAF9BmtVJqEFomUwId//+qZYAAAstAFm3xcALBdp8MOygFIKhqDK36pbzQ1AXANmkL2es\n",
       "v6H6H7rpBcbRdzDjDAgsn/2u382p8Fp9ElKph/hM30sRImUa6c82INovm8J1kwAAAB5BnvNFESwv\n",
       "/wCG+cwcvzmFGsZnPcnHUzhqeWRB7MAAAAAYAZ8UakK/ALpX+6P4v7XwzFCl1ZSeBgAJAAAAWEGb\n",
       "GEmoQWyZTAhv//6nhAAAFR3z34GKzYArefkz8Cya3j9tMJKJ5eJFCbTYVs2Kzm2pJvtuG4XKBSVC\n",
       "zhdHi+9+FNzl7YTzzGgbGZguDAMTCfNTmfMC6N8AAAAcQZ82RRUsL/8AhvnMHL9M6jVVP7EmIPkp\n",
       "sECbMQAAABkBn1dqQr8Aulf7o/i/tfCyscB/BIUNlaJBAAAAPEGbWUmoQWyZTAh3//6plgAACk0I\n",
       "35eD+4ARhd0WlvPoxzZcW9XSi4bJTpfR+HI8WSmn1Y1UdEKL67uAOAAAAGZBm3tJ4QpSZTBRUsN/\n",
       "/qeEAAAT5msKmDxkgCt+8e5yDRB34fC+F/kTZYHDWT3xYeIZ8fjGwH5M+JH6tz/4bwftx0EvwaTf\n",
       "Q8xKFbICQBnkCenDtpcu3PeMUG1BjuZK5EUlk/4M6kEAAAAjAZ+aakK/ALhZkbIiuSNU2F9x4Suf\n",
       "QCaT45lKdYFqHXJjSsQAAABcQZucSeEOiZTAh3/+qZYAABODaagCg3LFEagrqTOGaOjf4W/smrV6\n",
       "M/ryPz593q3N9vT6wjcg9ayOzy0swuqLG+7SC52aTZ4BuNMzzptxAllV8zsWZGQ0dJ/01xkAAAC0\n",
       "QZu/SeEPJlMCG//+p4QAAEe5B88QnYADooDOV7jTySdfWoET6nQgIMTzlPSMa+SIwVu7Q0F35b8U\n",
       "iJKWrF4sSHxplMgVguaSFoNiXtwMY2enFFBA2luYKiJDqwvMlEEDcxa0qdE54i77piy2f2cS/6xS\n",
       "1FFovc5efeGqxOzR3nobpj93QYAWzFmab9K/ZzdXj1ewlmO5R5/ic7cSf2ebCFIrRHaMytMfAgM5\n",
       "Y99dcU2G7+tBAAAAKEGf3UURPC//AIVDVwxYrjN6X5p3AG3lGPYAbmhbLFr6ovPEtA5/wKUAAAAl\n",
       "AZ/+akK/ALpX+6aZtxn2DugAnWfJXYXrno/fz34joMQ47HtiQAAAAFJBm+BJqEFomUwId//+qZYA\n",
       "ACQZz12oxqKIYALquOXW5Ae+ztVvjCHXBrkRT8k0iQi+KkFLMQJymdnMnZfyu6l7DVnmif+irgWf\n",
       "3MTcMApG2D65AAAAwUGaBEnhClJlMCGf/p4QAAg3HiWg+6wAXUfcXouo4QM7n89xGTuql+ZTMIU8\n",
       "Py5kMDCvTjloDYtCND+7K2rhUxtB9uK/YNvzh6TG11ASnqJ0CTWXkqNQBHs/YPHjgCAQYabwVnE6\n",
       "/nURj18O2OhHsF2lmerMDq8pogkLYRlUB0oq3MHmauDdzwv02g2ltfBYtBNxPW7cMavgutf7YoB9\n",
       "TpM2IDD7TGJ7DU0aYOFqHLTD+YctGxF7dWP6X4sK6eDnVDQAAAAvQZ4iRTRMM/8AZJN/bqD77g7a\n",
       "iAn/ocACaZgK1qGFVQ60WoCgeXEIWRnAutv7FGEAAAAmAZ5BdEK/ALomGayVB3gE0nyVmnTiy83u\n",
       "NdGhwG62Avv34o5/H1AAAAAlAZ5DakK/ALpX+9EN0FA7xfW9gAFgjkzgHpTiY/AwFK8ZqC/hnwAA\n",
       "AGpBmkZJqEFomUwU8K/+OEAAfry9gAiDLLKrxo/2+VtyghnmhxLUdXEcd826tr/Ea6tUiG6EczuN\n",
       "N1VsCcb75Q3TzVnjG0n5Iz6mYY87a92DqgBhb7mKDgYdE3My2sukbzVSo/jI9nihsiJRAAAAHQGe\n",
       "ZWpCvwC6cmZzbEUv2SX8kZhCiymAybGNKlbvAAAKim1vb3YAAABsbXZoZAAAAAAAAAAAAAAAAAAA\n",
       "A+gAACCeAAEAAAEAAAAAAAAAAAAAAAABAAAAAAAAAAAAAAAAAAAAAQAAAAAAAAAAAAAAAAAAQAAA\n",
       "AAAAAAAAAAAAAAAAAAAAAAAAAAAAAAAAAAAAAAIAAAm0dHJhawAAAFx0a2hkAAAAAwAAAAAAAAAA\n",
       "AAAAAQAAAAAAACCeAAAAAAAAAAAAAAAAAAAAAAABAAAAAAAAAAAAAAAAAAAAAQAAAAAAAAAAAAAA\n",
       "AAAAQAAAAAGwAAABIAAAAAAAJGVkdHMAAAAcZWxzdAAAAAAAAAABAAAgngAABAAAAQAAAAAJLG1k\n",
       "aWEAAAAgbWRoZAAAAAAAAAAAAAAAAAAAKAAAAU4AVcQAAAAAAC1oZGxyAAAAAAAAAAB2aWRlAAAA\n",
       "AAAAAAAAAAAAVmlkZW9IYW5kbGVyAAAACNdtaW5mAAAAFHZtaGQAAAABAAAAAAAAAAAAAAAkZGlu\n",
       "ZgAAABxkcmVmAAAAAAAAAAEAAAAMdXJsIAAAAAEAAAiXc3RibAAAALNzdHNkAAAAAAAAAAEAAACj\n",
       "YXZjMQAAAAAAAAABAAAAAAAAAAAAAAAAAAAAAAGwASAASAAAAEgAAAAAAAAAAQAAAAAAAAAAAAAA\n",
       "AAAAAAAAAAAAAAAAAAAAAAAAAAAAABj//wAAADFhdmNDAWQAFf/hABhnZAAVrNlBsJaEAAADAAQA\n",
       "AAMAoDxYtlgBAAZo6+PLIsAAAAAcdXVpZGtoQPJfJE/FujmlG88DI/MAAAAAAAAAGHN0dHMAAAAA\n",
       "AAAAAQAAAKcAAAIAAAAAFHN0c3MAAAAAAAAAAQAAAAEAAATQY3R0cwAAAAAAAACYAAAAAQAABAAA\n",
       "AAABAAAKAAAAAAEAAAQAAAAAAQAAAAAAAAABAAACAAAAAAEAAAoAAAAAAQAABAAAAAABAAAAAAAA\n",
       "AAEAAAIAAAAAAQAABAAAAAABAAAKAAAAAAEAAAQAAAAAAQAAAAAAAAABAAACAAAAAAEAAAYAAAAA\n",
       "AQAAAgAAAAACAAAEAAAAAAEAAAgAAAAAAgAAAgAAAAABAAAGAAAAAAEAAAIAAAAAAQAABAAAAAAB\n",
       "AAAGAAAAAAEAAAIAAAAAAQAACAAAAAACAAACAAAAAAEAAAQAAAAAAQAABgAAAAABAAACAAAAAAEA\n",
       "AAQAAAAAAQAABgAAAAABAAACAAAAAAIAAAQAAAAAAQAABgAAAAABAAACAAAAAAMAAAQAAAAAAQAA\n",
       "BgAAAAABAAACAAAAAAEAAAYAAAAAAQAAAgAAAAABAAAGAAAAAAEAAAIAAAAAAQAACgAAAAABAAAE\n",
       "AAAAAAEAAAAAAAAAAQAAAgAAAAABAAAKAAAAAAEAAAQAAAAAAQAAAAAAAAABAAACAAAAAAEAAAoA\n",
       "AAAAAQAABAAAAAABAAAAAAAAAAEAAAIAAAAAAQAACgAAAAABAAAEAAAAAAEAAAAAAAAAAQAAAgAA\n",
       "AAABAAAGAAAAAAEAAAIAAAAAAQAACgAAAAABAAAEAAAAAAEAAAAAAAAAAQAAAgAAAAACAAAEAAAA\n",
       "AAEAAAYAAAAAAQAAAgAAAAABAAAGAAAAAAEAAAIAAAAAAQAACAAAAAACAAACAAAAAAEAAAoAAAAA\n",
       "AQAABAAAAAABAAAAAAAAAAEAAAIAAAAAAQAACgAAAAABAAAEAAAAAAEAAAAAAAAAAQAAAgAAAAAB\n",
       "AAAIAAAAAAIAAAIAAAAAAQAACgAAAAABAAAEAAAAAAEAAAAAAAAAAQAAAgAAAAABAAAKAAAAAAEA\n",
       "AAQAAAAAAQAAAAAAAAABAAACAAAAAAEAAAoAAAAAAQAABAAAAAABAAAAAAAAAAEAAAIAAAAAAQAA\n",
       "CgAAAAABAAAEAAAAAAEAAAAAAAAAAQAAAgAAAAABAAAKAAAAAAEAAAQAAAAAAQAAAAAAAAABAAAC\n",
       "AAAAAAEAAAoAAAAAAQAABAAAAAABAAAAAAAAAAEAAAIAAAAAAgAABAAAAAABAAAIAAAAAAIAAAIA\n",
       "AAAAAQAABgAAAAABAAACAAAAAAEAAAYAAAAAAQAAAgAAAAABAAAIAAAAAAIAAAIAAAAAAQAABAAA\n",
       "AAABAAAKAAAAAAEAAAQAAAAAAQAAAAAAAAABAAACAAAAAAEAAAQAAAAAAQAABgAAAAABAAACAAAA\n",
       "AAEAAAYAAAAAAQAAAgAAAAABAAAGAAAAAAEAAAIAAAAAAQAACgAAAAABAAAEAAAAAAEAAAAAAAAA\n",
       "AQAAAgAAAAABAAAEAAAAAAEAAAoAAAAAAQAABAAAAAABAAAAAAAAAAEAAAIAAAAAAQAACAAAAAAC\n",
       "AAACAAAAAAEAAAgAAAAAAgAAAgAAAAABAAAEAAAAAAEAAAYAAAAAAQAAAgAAAAABAAAEAAAAAAEA\n",
       "AAgAAAAAAgAAAgAAAAABAAAEAAAAAAEAAAoAAAAAAQAABAAAAAABAAAAAAAAAAEAAAIAAAAAAQAA\n",
       "BgAAAAABAAACAAAAABxzdHNjAAAAAAAAAAEAAAABAAAApwAAAAEAAAKwc3RzegAAAAAAAAAAAAAA\n",
       "pwAAFRgAAAJmAAAAVAAAAD4AAABAAAABMgAAADwAAAAzAAAANQAAAHMAAADbAAAAPgAAAEUAAAA1\n",
       "AAAAVgAAADcAAAA0AAAARQAAAH4AAAAfAAAAGwAAAHUAAAAxAAAAUgAAAFMAAAAjAAAAUgAAACYA\n",
       "AAAaAAAALAAAAFMAAAAaAAAALAAAADkAAAAdAAAALwAAAEYAAABGAAAAIAAAADUAAABIAAAANwAA\n",
       "ACwAAAAaAAAAMwAAABkAAABAAAAAGAAAAFgAAAAeAAAAHwAAABkAAAA8AAAAJQAAABsAAAAbAAAA\n",
       "OAAAAB0AAAAhAAAAGAAAADYAAAAeAAAAJAAAABkAAAA7AAAAIAAAACoAAAAlAAAAIwAAABwAAAAw\n",
       "AAAAMwAAACwAAAAZAAAALQAAABwAAAAvAAAAHgAAABkAAAAyAAAAHAAAABgAAAAYAAAANgAAACQA\n",
       "AAAaAAAAGgAAADcAAAAbAAAAGgAAAC4AAAApAAAAHAAAABwAAABGAAAAHwAAABkAAAAaAAAAQAAA\n",
       "ACcAAAAiAAAAIwAAADEAAAAeAAAAGQAAACEAAABBAAAAKwAAACUAAAAvAAAAPgAAACIAAAAnAAAA\n",
       "GgAAACoAAAAsAAAAOQAAAB4AAAAaAAAAQwAAABwAAAA4AAAAGgAAAEIAAAAiAAAAHwAAADIAAABe\n",
       "AAAAHAAAAB8AAAAhAAAAXwAAADMAAAAbAAAARgAAABgAAABMAAAAHwAAAHwAAAAmAAAAIQAAACgA\n",
       "AAA0AAAAcQAAACsAAAAsAAAAHgAAAGMAAAAiAAAAHAAAAFwAAAAgAAAAHQAAAEAAAABqAAAAJwAA\n",
       "AGAAAAC4AAAALAAAACkAAABWAAAAxQAAADMAAAAqAAAAKQAAAG4AAAAhAAAAFHN0Y28AAAAAAAAA\n",
       "AQAAACwAAABidWR0YQAAAFptZXRhAAAAAAAAACFoZGxyAAAAAAAAAABtZGlyYXBwbAAAAAAAAAAA\n",
       "AAAAAC1pbHN0AAAAJal0b28AAAAdZGF0YQAAAAEAAAAATGF2ZjU3LjgzLjEwMA==\n",
       "\">\n",
       "  Your browser does not support the video tag.\n",
       "</video>"
      ],
      "text/plain": [
       "<IPython.core.display.HTML object>"
      ]
     },
     "execution_count": 146,
     "metadata": {},
     "output_type": "execute_result"
    },
    {
     "data": {
      "image/png": "[encoded data removed]",
      "text/plain": [
       "<Figure size 432x288 with 1 Axes>"
      ]
     },
     "metadata": {
      "needs_background": "light"
     },
     "output_type": "display_data"
    }
   ],
   "source": [
    "############## To run this you need to install ffmpeg ############## \n",
    "#Easiest way to install is to write in the Anaconda Prompt: \"conda install -c conda-forge ffmpeg\"\n",
    "\n",
    "%matplotlib inline\n",
    "\n",
    "#Parameters of the simulation\n",
    "\n",
    "delta = 1000 #[m] \n",
    "x = 4*10**12 #[m]\n",
    "y = 0 \n",
    "v_x = 0\n",
    "v_y = 1000*(365.25*24*60*60) # [m/year]\n",
    "t = 50 #[year]\n",
    "h = 0.001      \n",
    "   \n",
    "x_points, y_points, t_points = orbit_variable_step(x, y, v_x, v_y, t, h, delta)\n",
    "\n",
    "\n",
    "x_data = []\n",
    "y_data = []\n",
    "\n",
    "fig, ax = plt.subplots()\n",
    "\n",
    "ax.set_xlim((-0.5e12, 4.3e12))\n",
    "ax.set_ylim((-6e11,6e11))\n",
    "\n",
    "\n",
    "\n",
    "\n",
    "\n",
    "\n",
    "\n",
    "line, = ax.plot([], [], lw=2, color =\"black\")\n",
    "ax.set_title(\"Trajectoire de la comète en utilisant des \\n pas variables\")\n",
    "ax.set(xlabel='Distance en x [m]', ylabel='Distance en y [m]')\n",
    "\n",
    "def init():\n",
    "    line.set_data([], [])\n",
    "    return (line,)\n",
    "\n",
    "# animation function. \n",
    "def animate(i):\n",
    "    x = x_points[i] \n",
    "    y = y_points[i]\n",
    "    x_data.append(x)\n",
    "    y_data.append(y)\n",
    "    line.set_data(x_data, y_data)\n",
    "    return (line,)\n",
    "\n",
    "# call the animator. blit=True means only re-draw the parts that have changed.\n",
    "anim = animation.FuncAnimation(fig, animate, init_func=init,\n",
    "                               frames=len(t_points), interval= 50, blit=True)\n",
    "HTML(anim.to_html5_video())"
   ]
  },
  {
   "cell_type": "markdown",
   "metadata": {},
   "source": [
    "On remarque qu'il y a une diminution importante de la grosseur des pas près de la position $(0, \\, 0)$, soit la position du Soleil. C'est sans grande surprise, car on se souvient que l'accélération est donnée par:  \n",
    "$$\n",
    "\\frac{d^{2} \\mathbf{r}}{d t^{2}}=-\\left(\\frac{G M }{r^{3}}\\right) \\mathbf{r}.\n",
    "$$\n",
    "Cela signifie que pour une distance $r$ entre la comète et le Soleil plus petite, l'accéleration a une valeure plus élevé que lorsque $r$ est grand. Par le fait même, une valeur d'accéleration plus importante signifie un changement rapide des vitesses et donc de la position. Il est donc normal que la densité des pas soit plus élevé dans cette région. "
   ]
  },
  {
   "cell_type": "markdown",
   "metadata": {},
   "source": [
    "## Mécanique céleste - la Terre"
   ]
  },
  {
   "cell_type": "markdown",
   "metadata": {},
   "source": [
    "#### d. Calcul de l'orbite de la Terre autour du soleil"
   ]
  },
  {
   "cell_type": "code",
   "execution_count": 8,
   "metadata": {},
   "outputs": [],
   "source": [
    "#Constantes\n",
    "h = 1 / (365.25 * 24) # year\n",
    "G = cst.G.value * ( 365.25 * 24 * 60 * 60) ** 2 #m^2/kg year^2\n",
    "M = cst.M_sun.value #kg\n",
    "m = cst.M_earth.value #kg"
   ]
  },
  {
   "cell_type": "code",
   "execution_count": 9,
   "metadata": {},
   "outputs": [],
   "source": [
    "#Fonction dépendante de r selon l'équation 9 décrivant le mouvement\n",
    "def f(r):\n",
    "    x = r[0]\n",
    "    vx = r[1]\n",
    "    y = r[2]\n",
    "    vy = r[3]\n",
    "    R = sqrt(x ** 2 + y ** 2)\n",
    "    return np.array([ vx, -G * M * x / R ** 3, vy, -G * M * y / R ** 3 ])\n"
   ]
  },
  {
   "cell_type": "code",
   "execution_count": 10,
   "metadata": {},
   "outputs": [],
   "source": [
    "#Méthode de Verlet pour rajouter la dépendance temporelle\n",
    "\n",
    "def orbite(t_0,t_f,x0,y0,vx0,vy0):\n",
    "    xn = []\n",
    "    yn = []\n",
    "    tn = np.arange(t_0, t_f, h) #liste de temps entre t_0 et T_f avec un pas h\n",
    "    r = np.array([x0, vx0, y0, vy0])\n",
    "    #Premier pas\n",
    "    demi = 0.5 * h * f(r) \n",
    "    vxn = r[1] + demi[1] #vx(t+h/2)\n",
    "    vyn = r[3] + demi[3] #vy(t+h/2)\n",
    "    for t in tn: #Calcul pour tous les temps\n",
    "        xn.append(r[0])\n",
    "        yn.append(r[2])\n",
    "        r[0] += h * vxn\n",
    "        r[2] += h * vyn\n",
    "        k = h * f(r)\n",
    "        r[1] = vxn+ 0.5 * k[1]\n",
    "        r[3] = vyn + 0.5 * k[3]\n",
    "        demi = 0.5 * h * f(r)\n",
    "        vxn += k[1]\n",
    "        vyn+= k[3]\n",
    "    return xn,yn #Valeurs de positions en x et y pour tous les temps "
   ]
  },
  {
   "cell_type": "code",
   "execution_count": 11,
   "metadata": {},
   "outputs": [],
   "source": [
    "# Valeurs initiales \n",
    "\n",
    "p = 1.4710 * 10 ** 11 #m\n",
    "vt = 3.0287 * 10 ** 4 * 365.25 * 24 * 60 * 60 #m/an\n",
    "theta = np.array([np.pi/4,np.pi/3,np.pi/2]) # On a choisi quelques valeurs d'angles pour varier la position initiale\n",
    "x0 = p*np.cos(theta) #Position initiale x\n",
    "y0 = p*np.sin(theta) #Position initiale y\n",
    "vx0 = vt*np.cos(np.pi/2+theta) #Vitesse initiale x\n",
    "vy0 = vt*np.sin(np.pi/2+theta) #Vitesse initiale y\n",
    "\n",
    "# 5 orbites à des positions initiales différentes \n",
    "x1,y1 = orbite(0,2,p,0,0,vt)\n",
    "x2,y2 = orbite(0,2,x0[0],y0[0],vx0[0],vy0[0])\n",
    "x3,y3 = orbite(0,2,x0[1],y0[1],vx0[1],vy0[1])\n",
    "x4,y4 = orbite(0,2,x0[2],y0[2],vx0[2],vy0[2])\n",
    "x5,y5 = orbite(0,2,0,p,vt,0)"
   ]
  },
  {
   "cell_type": "code",
   "execution_count": 12,
   "metadata": {},
   "outputs": [
    {
     "data": {
      "image/png": "[encoded data removed]",
      "text/plain": [
       "<Figure size 432x288 with 1 Axes>"
      ]
     },
     "metadata": {},
     "output_type": "display_data"
    }
   ],
   "source": [
    "# Plot orbites\n",
    "plt.plot(x1,y1,label = '$\\\\theta$ = 0')\n",
    "plt.plot(x2,y2,label = '$\\\\theta = \\pi/4$')\n",
    "plt.plot(x3,y3,label = '$\\\\theta = \\pi/3$')\n",
    "plt.plot(x4,y4,label = '$\\\\theta = \\pi/2$')\n",
    "plt.plot(x5,y5,label = '$\\\\theta = \\pi$')\n",
    "\n",
    "plt.legend()\n",
    "plt.xlabel('x (m)')\n",
    "plt.ylabel('y (m)')\n",
    "plt.show()"
   ]
  },
  {
   "cell_type": "markdown",
   "metadata": {},
   "source": [
    "#### e. Énergie potentielle et cinétique. "
   ]
  },
  {
   "cell_type": "code",
   "execution_count": 34,
   "metadata": {},
   "outputs": [],
   "source": [
    "# On reprend la même fonction que en d. \n",
    "def orbite(t_0,t_f,x0,y0,vx0,vy0):\n",
    "    xn = []\n",
    "    yn = []\n",
    "    U = []\n",
    "    K= []\n",
    "    tn = np.arange(t_0, t_f, h) #liste de temps entre t_0 et T_f avec un pas h\n",
    "    r = np.array([x0, vx0, y0, vy0])\n",
    "    #Premier pas\n",
    "    demi = 0.5 * h * f(r) \n",
    "    vxn = r[1] + demi[1] #vx(t+h/2)\n",
    "    vyn = r[3] + demi[3] #vy(t+h/2)\n",
    "    for t in tn: #Calcul pour tous les temps\n",
    "        xn.append(r[0])\n",
    "        yn.append(r[2])\n",
    "        r[0] += h * vxn\n",
    "        r[2] += h * vyn\n",
    "        k = h * f(r)\n",
    "        r[1] = vxn+ 0.5 * k[1]\n",
    "        r[3] = vyn + 0.5 * k[3]\n",
    "        demi = 0.5 * h * f(r)\n",
    "        vxn += k[1]\n",
    "        vyn+= k[3]\n",
    "        #Calcul des énergies\n",
    "        U.append(-cst.G.value * M * m / sqrt(r[0] ** 2 + r[2] ** 2))\n",
    "        K.append(0.5 * m * (r[1] ** 2 + r[3] ** 2) / (365.25 * 24 * 60 * 60) ** 2)\n",
    "    E = np.array(K) + np.array(U)\n",
    "    return xn,yn,K,U,E,tn #Valeurs d'énergies cinétiques et potentiels  \n"
   ]
  },
  {
   "cell_type": "code",
   "execution_count": 35,
   "metadata": {},
   "outputs": [
    {
     "data": {
      "image/png": "[encoded data removed]",
      "text/plain": [
       "<Figure size 432x288 with 1 Axes>"
      ]
     },
     "metadata": {},
     "output_type": "display_data"
    }
   ],
   "source": [
    "x1,y1,k1,u1,E1,t1 = orbite(0,4,p,0,0,vt)\n",
    "\n",
    "plt.plot(t1, k1,label = \"Cinétique\")\n",
    "plt.plot(t1, u1,label = \"Potentielle\")\n",
    "plt.plot(t1, E1,label = \"Totale\")\n",
    "plt.xlabel('t (ans)')\n",
    "plt.ylabel('Énergie (J)')\n",
    "plt.legend()\n",
    "plt.show()"
   ]
  },
  {
   "cell_type": "markdown",
   "metadata": {},
   "source": [
    "#### f. RK2 pour calcul de l'orbite"
   ]
  },
  {
   "cell_type": "markdown",
   "metadata": {},
   "source": [
    "## Mécanique céleste - Mars"
   ]
  },
  {
   "cell_type": "code",
   "execution_count": null,
   "metadata": {},
   "outputs": [],
   "source": []
  }
 ],
 "metadata": {
  "kernelspec": {
   "display_name": "Python 3",
   "language": "python",
   "name": "python3"
  },
  "language_info": {
   "codemirror_mode": {
    "name": "ipython",
    "version": 3
   },
   "file_extension": ".py",
   "mimetype": "text/x-python",
   "name": "python",
   "nbconvert_exporter": "python",
   "pygments_lexer": "ipython3",
   "version": "3.8.5"
  }
 },
 "nbformat": 4,
 "nbformat_minor": 4
}
