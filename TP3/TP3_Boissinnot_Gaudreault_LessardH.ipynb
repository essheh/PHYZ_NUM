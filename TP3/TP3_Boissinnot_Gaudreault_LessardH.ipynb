{
 "cells": [
  {
   "cell_type": "markdown",
   "metadata": {},
   "source": [
    "# <u>TP3</u>\n",
    "\n",
    "## par Antoine Boissinot  - -  François Gaudreault  - -  Béatrice Lessard-Hamel\n",
    "\n",
    "## Présenté à M. Philippe Després\n",
    "\n",
    "### Date de remise : 19 mars 2021"
   ]
  },
  {
   "cell_type": "code",
   "execution_count": 7,
   "metadata": {},
   "outputs": [],
   "source": [
    "from astropy import constants as cst\n",
    "import matplotlib.pylab as plt\n",
    "import numpy as np\n",
    "from numpy import sqrt"
   ]
  },
  {
   "cell_type": "markdown",
   "metadata": {},
   "source": [
    "## Mécanique céleste - comètes"
   ]
  },
  {
   "cell_type": "code",
   "execution_count": null,
   "metadata": {},
   "outputs": [],
   "source": []
  },
  {
   "cell_type": "markdown",
   "metadata": {},
   "source": [
    "## Mécanique céleste - la Terre"
   ]
  },
  {
   "cell_type": "markdown",
   "metadata": {},
   "source": [
    "#### d. Calcul de l'orbite de la Terre autour du soleil"
   ]
  },
  {
   "cell_type": "code",
   "execution_count": 8,
   "metadata": {},
   "outputs": [],
   "source": [
    "#Constantes\n",
    "h = 1 / (365.25 * 24) # an\n",
    "G = cst.G.value * ( 365.25 * 24 * 60 * 60) ** 2 #m^2/kg an^2\n",
    "M = cst.M_sun.value #kg\n",
    "m = cst.M_earth.value #kg"
   ]
  },
  {
   "cell_type": "code",
   "execution_count": 9,
   "metadata": {},
   "outputs": [],
   "source": [
    "#Fonction dépendante de r selon l'équation 9 décrivant le mouvement\n",
    "def f(r):\n",
    "    x = r[0]\n",
    "    vx = r[1]\n",
    "    y = r[2]\n",
    "    vy = r[3]\n",
    "    R = sqrt(x ** 2 + y ** 2)\n",
    "    return np.array([ vx, -G * M * x / R ** 3, vy, -G * M * y / R ** 3 ])\n"
   ]
  },
  {
   "cell_type": "code",
   "execution_count": 10,
   "metadata": {},
   "outputs": [],
   "source": [
    "#Méthode de Verlet pour rajouter la dépendance temporelle\n",
    "\n",
    "def orbite(t_0,t_f,x0,y0,vx0,vy0):\n",
    "    xn = []\n",
    "    yn = []\n",
    "    tn = np.arange(t_0, t_f, h) #liste de temps entre t_0 et T_f avec un pas h\n",
    "    r = np.array([x0, vx0, y0, vy0])\n",
    "    #Premier pas\n",
    "    demi = 0.5 * h * f(r) \n",
    "    vxn = r[1] + demi[1] #vx(t+h/2)\n",
    "    vyn = r[3] + demi[3] #vy(t+h/2)\n",
    "    for t in tn: #Calcul pour tous les temps\n",
    "        xn.append(r[0])\n",
    "        yn.append(r[2])\n",
    "        r[0] += h * vxn\n",
    "        r[2] += h * vyn\n",
    "        k = h * f(r)\n",
    "        r[1] = vxn+ 0.5 * k[1]\n",
    "        r[3] = vyn + 0.5 * k[3]\n",
    "        demi = 0.5 * h * f(r)\n",
    "        vxn += k[1]\n",
    "        vyn+= k[3]\n",
    "    return xn,yn #Valeurs de positions en x et y pour tous les temps "
   ]
  },
  {
   "cell_type": "code",
   "execution_count": 11,
   "metadata": {},
   "outputs": [],
   "source": [
    "# Valeurs initiales \n",
    "\n",
    "p = 1.4710 * 10 ** 11 #m\n",
    "vt = 3.0287 * 10 ** 4 * 365.25 * 24 * 60 * 60 #m/an\n",
    "theta = np.array([np.pi/4,np.pi/3,np.pi/2]) # On a choisi quelques valeurs d'angles pour varier la position initiale\n",
    "x0 = p*np.cos(theta) #Position initiale x\n",
    "y0 = p*np.sin(theta) #Position initiale y\n",
    "vx0 = vt*np.cos(np.pi/2+theta) #Vitesse initiale x\n",
    "vy0 = vt*np.sin(np.pi/2+theta) #Vitesse initiale y\n",
    "\n",
    "# 5 orbites à des positions initiales différentes \n",
    "x1,y1 = orbite(0,2,p,0,0,vt)\n",
    "x2,y2 = orbite(0,2,x0[0],y0[0],vx0[0],vy0[0])\n",
    "x3,y3 = orbite(0,2,x0[1],y0[1],vx0[1],vy0[1])\n",
    "x4,y4 = orbite(0,2,x0[2],y0[2],vx0[2],vy0[2])\n",
    "x5,y5 = orbite(0,2,0,p,vt,0)"
   ]
  },
  {
   "cell_type": "code",
   "execution_count": 12,
   "metadata": {},
   "outputs": [
    {
     "data": {
      "image/png": "[encoded data removed]",
      "text/plain": [
       "<Figure size 432x288 with 1 Axes>"
      ]
     },
     "metadata": {},
     "output_type": "display_data"
    }
   ],
   "source": [
    "# Plot orbites\n",
    "plt.plot(x1,y1,label = '$\\\\theta$ = 0')\n",
    "plt.plot(x2,y2,label = '$\\\\theta = \\pi/4$')\n",
    "plt.plot(x3,y3,label = '$\\\\theta = \\pi/3$')\n",
    "plt.plot(x4,y4,label = '$\\\\theta = \\pi/2$')\n",
    "plt.plot(x5,y5,label = '$\\\\theta = \\pi$')\n",
    "\n",
    "plt.legend()\n",
    "plt.xlabel('x (m)')\n",
    "plt.ylabel('y (m)')\n",
    "plt.show()"
   ]
  },
  {
   "cell_type": "markdown",
   "metadata": {},
   "source": [
    "e. Énergie potentielle et cinétique. "
   ]
  },
  {
   "cell_type": "code",
   "execution_count": 34,
   "metadata": {},
   "outputs": [],
   "source": [
    "# On reprend la même fonction que en d. \n",
    "def orbite(t_0,t_f,x0,y0,vx0,vy0):\n",
    "    xn = []\n",
    "    yn = []\n",
    "    U = []\n",
    "    K= []\n",
    "    tn = np.arange(t_0, t_f, h) #liste de temps entre t_0 et T_f avec un pas h\n",
    "    r = np.array([x0, vx0, y0, vy0])\n",
    "    #Premier pas\n",
    "    demi = 0.5 * h * f(r) \n",
    "    vxn = r[1] + demi[1] #vx(t+h/2)\n",
    "    vyn = r[3] + demi[3] #vy(t+h/2)\n",
    "    for t in tn: #Calcul pour tous les temps\n",
    "        xn.append(r[0])\n",
    "        yn.append(r[2])\n",
    "        r[0] += h * vxn\n",
    "        r[2] += h * vyn\n",
    "        k = h * f(r)\n",
    "        r[1] = vxn+ 0.5 * k[1]\n",
    "        r[3] = vyn + 0.5 * k[3]\n",
    "        demi = 0.5 * h * f(r)\n",
    "        vxn += k[1]\n",
    "        vyn+= k[3]\n",
    "        #Calcul des énergies\n",
    "        U.append(-cst.G.value * M * m / sqrt(r[0] ** 2 + r[2] ** 2))\n",
    "        K.append(0.5 * m * (r[1] ** 2 + r[3] ** 2) / (365.25 * 24 * 60 * 60) ** 2)\n",
    "    E = np.array(K) + np.array(U)\n",
    "    return xn,yn,K,U,E,tn #Valeurs d'énergies cinétiques et potentiels  \n"
   ]
  },
  {
   "cell_type": "code",
   "execution_count": 35,
   "metadata": {},
   "outputs": [
    {
     "data": {
      "image/png": "[encoded data removed]",
      "text/plain": [
       "<Figure size 432x288 with 1 Axes>"
      ]
     },
     "metadata": {},
     "output_type": "display_data"
    }
   ],
   "source": [
    "x1,y1,k1,u1,E1,t1 = orbite(0,4,p,0,0,vt)\n",
    "\n",
    "plt.plot(t1, k1,label = \"Cinétique\")\n",
    "plt.plot(t1, u1,label = \"Potentielle\")\n",
    "plt.plot(t1, E1,label = \"Totale\")\n",
    "plt.xlabel('t (ans)')\n",
    "plt.ylabel('Énergie (J)')\n",
    "plt.legend()\n",
    "plt.show()"
   ]
  },
  {
   "cell_type": "markdown",
   "metadata": {},
   "source": [
    "## Mécanique céleste - Mars"
   ]
  },
  {
   "cell_type": "code",
   "execution_count": null,
   "metadata": {},
   "outputs": [],
   "source": []
  }
 ],
 "metadata": {
  "kernelspec": {
   "display_name": "Python 3",
   "language": "python",
   "name": "python3"
  },
  "language_info": {
   "codemirror_mode": {
    "name": "ipython",
    "version": 3
   },
   "file_extension": ".py",
   "mimetype": "text/x-python",
   "name": "python",
   "nbconvert_exporter": "python",
   "pygments_lexer": "ipython3",
   "version": "3.6.3"
  }
 },
 "nbformat": 4,
 "nbformat_minor": 4
}
