{
 "cells": [
  {
   "cell_type": "markdown",
   "metadata": {},
   "source": [
    "# <u>TP3</u>\n",
    "\n",
    "## par Antoine Boissinot  - -  François Gaudreault  - -  Béatrice Lessard-Hamel\n",
    "\n",
    "## Présenté à M. Philippe Després\n",
    "\n",
    "### Date de remise : 19 mars 2021"
   ]
  },
  {
   "cell_type": "code",
   "execution_count": 1,
   "metadata": {},
   "outputs": [],
   "source": [
    "from astropy import constants as cst\n",
    "import matplotlib.pylab as plt\n",
    "import numpy as np\n",
    "from numpy import sqrt\n",
    "from matplotlib import animation, rc\n",
    "from IPython.display import HTML"
   ]
  },
  {
   "cell_type": "code",
   "execution_count": 2,
   "metadata": {},
   "outputs": [],
   "source": [
    "#Constantes utilisés\n",
    "G = cst.G.value * ( 365.25 * 24 * 60 * 60) ** 2 #m^2/kg an^2\n",
    "M = cst.M_sun.value #kg\n",
    "m = cst.M_earth.value #kg"
   ]
  },
  {
   "cell_type": "markdown",
   "metadata": {},
   "source": [
    "## Mécanique céleste - comètes"
   ]
  },
  {
   "cell_type": "markdown",
   "metadata": {},
   "source": [
    "#### a. Transformation des équations\n",
    "On a les équations suivantes à résoudre: \n",
    "$$ \\frac{d^2x}{dt^2} = -GM\\frac{x}{r^3}, \\; \\; \\; \\; \\; \\frac{d^2y}{dt^2} = -GM\\frac{y}{r^3}. $$ \n",
    "Pour résoudre numériquement on souhaite transformer ces équations sous la forme: \n",
    "$$\\frac{d\\mathbf{r}}{dt} = \\mathbf{f}(\\mathbf{r}, t). $$\n",
    "Sachant que la vitesse est la dérivée temporel de la position, on peut réécrire ces équations comme: \n",
    "$$ \\frac{dv_x}{dt} = -GM\\frac{x}{r^3}, \\; \\; \\; \\; \\; \\frac{dv_y}{dt} = -GM\\frac{y}{r^3}, \\\\ \\frac{dx}{dt} = v_x, \\; \\; \\; \\; \\; \\frac{dy}{dt} = v_y. $$ \n",
    "On peut donc exprimer $\\mathbf{r}$ et $\\mathbf{f}$ comme:\n",
    "$$\\mathbf{r} = \\begin{pmatrix}\n",
    "x \\\\\n",
    "y \\\\\n",
    "v_x \\\\ \n",
    "v_y \n",
    "\\end{pmatrix}, \\; \\; \\; \\; \\;  \\mathbf{f} = \\begin{pmatrix}\n",
    "v_x \\\\\n",
    "v_y \\\\\n",
    "-GM\\frac{x}{r^3}\\\\ \n",
    "-GM\\frac{y}{r^3}\n",
    "\\end{pmatrix}.$$\n",
    "Il ne nous reste plus qu'à solutionner numériquement!\n"
   ]
  },
  {
   "cell_type": "markdown",
   "metadata": {},
   "source": [
    "#### b. RK4 à pas constant "
   ]
  },
  {
   "cell_type": "markdown",
   "metadata": {},
   "source": [
    "On souhaite résoudre ces équations avec une les conditions initiales $x = 4 × 10^9$ km, $y = 0$, $v_x = 0$\n",
    "et $v_y = 500$ m/s. Pour ce faire la méthode Runge-Kutta d'ordre 4 va être utilisée.  "
   ]
  },
  {
   "cell_type": "code",
   "execution_count": 92,
   "metadata": {},
   "outputs": [
    {
     "data": {
      "image/png": "[encoded data removed]",
      "text/plain": [
       "<Figure size 432x288 with 1 Axes>"
      ]
     },
     "metadata": {
      "needs_background": "light"
     },
     "output_type": "display_data"
    }
   ],
   "source": [
    "def f(r): #f returns the vector of the time derivatives of each coordinates \n",
    "    x = r[0]\n",
    "    y = r[1]\n",
    "    v_x = r[2]\n",
    "    v_y = r[3]\n",
    "    dist = (x**2 + y**2)**(0.5)\n",
    "    return np.array([v_x, v_y, -G*M*x/dist**3, -G*M*y/dist**3], float) \n",
    "\n",
    "def Runge_Kutta(f, r, h):\n",
    "    \"\"\" \n",
    "    The function return the vector r of the updated coordinates using the Runge-Kutta method\n",
    "\n",
    "    param 1 f: f is a vector of function\n",
    "    param 2 r: r is the vector of the current coordinates\n",
    "    param 3 h: h is the step between each coordinates \n",
    "    return: dr the change of the coordinates vector \n",
    "    \"\"\"\n",
    "    k_1 = h*f(r)\n",
    "    k_2 = h*f(r + 0.5*k_1)\n",
    "    k_3 = h*f(r + 0.5*k_2)\n",
    "    k_4 = h*f(r + k_3)\n",
    "    dr = (k_1 + 2*k_2 + 2*k_3 + k_4)/6 \n",
    "    return dr\n",
    "    \n",
    "\n",
    "def orbit_constant_step(x, y, v_x, v_y, t, h):\n",
    "    \"\"\"\n",
    "    The function return the x and y position at time t of the orbit of a comet using the 4th order Runge-Kutta to solve Newton's law of universal\n",
    "    gravitation with constant time step h.    \n",
    "    \n",
    "    param 1 x: x is the distance in the x plane between the sun and the comet à time t = 0 [m] \n",
    "    param 2 y: y is the distance in the y plane between the sun and the comet à time t = 0 [m] \n",
    "    param 3 v_x: v_x is the speed of the comet in the x direction at time t = 0 [m/year] \n",
    "    param 4 v_y: v_y is the speed of the comet in the y direction at time t = 0 [m/year] \n",
    "    param 5 t: t is the the time duration of the simulation [year]\n",
    "    param 6 h: h is the time step between each time value \n",
    "    return: x_points, y_points and t_points, the x and y list of positions corresponding to the time of t_points   \n",
    "    \"\"\" \n",
    "    t_points = np.arange(0, t, h) #The array of time values \n",
    "    x_points = [] #The list of x positions values\n",
    "    y_points = [] #The list of y positions values\n",
    "    r = np.array([x, y, v_x, v_y]) #The vector of all coordinates  \n",
    "  \n",
    "    #We use the Runge-Kutta method\n",
    "    for t in t_points:\n",
    "        x_points.append(r[0])\n",
    "        y_points.append(r[1])   \n",
    "        r += Runge_Kutta(f, r, h) \n",
    "    \n",
    "    return x_points, y_points, t_points \n",
    "\n",
    "\n",
    "#Parameters \n",
    "\n",
    "x = 4*10**12 #[m]\n",
    "y = 0 \n",
    "v_x = 0\n",
    "v_y = 1000*(365.2422*24*60*60) # [m/year]\n",
    "t = 100 #[year]\n",
    "h = 0.0008\n",
    "\n",
    "x_points, y_points, t_points = orbit_constant_step(x, y, v_x, v_y, t, h)\n",
    "\n",
    "#Graph\n",
    "\n",
    "plt.plot(x_points, y_points, color = \"Black\", label = \"Trajectoire de la comète\")\n",
    "plt.plot(x_points[-1], y_points[-1], color = \"firebrick\", label = \"Position de la comète\", marker='8', linestyle = 'None')\n",
    "plt.plot(0, 0, color = 'darkorange', marker='*', linestyle = 'None', label = \"Position du Soleil\")\n",
    "plt.legend()\n",
    "plt.show()"
   ]
  },
  {
   "cell_type": "markdown",
   "metadata": {},
   "source": [
    "#### c. RK4 à pas variable\n",
    "Afin d'augmenter substantiellement la vitesse de calcul, il est possible de faire varier le pas de temps entre chaque itération. L'erreur maximale admise pour augmenter la vitesse est $\\delta = 1$ km. "
   ]
  },
  {
   "cell_type": "code",
   "execution_count": 103,
   "metadata": {},
   "outputs": [
    {
     "name": "stdout",
     "output_type": "stream",
     "text": [
      "167\n"
     ]
    },
    {
     "data": {
      "image/png": "[encoded data removed]",
      "text/plain": [
       "<Figure size 432x288 with 1 Axes>"
      ]
     },
     "metadata": {
      "needs_background": "light"
     },
     "output_type": "display_data"
    }
   ],
   "source": [
    "def orbit_variable_step(x, y, v_x, v_y, t, h, delta):\n",
    "    \"\"\"\n",
    "    The function return the x and y position at time t of the orbit of a comet using the 4th order Runge-Kutta to solve Newton's law of universal\n",
    "    gravitation with variable time step.    \n",
    "    \n",
    "    param 1 x: x is the distance in the x plane between the sun and the comet à time t = 0 [m] \n",
    "    param 2 y: y is the distance in the y plane between the sun and the comet à time t = 0 [m] \n",
    "    param 3 v_x: v_x is the speed of the comet in the x direction at time t = 0 [m/year] \n",
    "    param 4 v_y: v_y is the speed of the comet in the y direction at time t = 0 [m/year] \n",
    "    param 5 t: t is the the time duration of the simulation [year]\n",
    "    param 6 h: h is the time step between each time value \n",
    "    param 7 delta: delta is the maximal accepted error  \n",
    "    return: x_points, y_points and time two array of the x and y position for each time t and one of the time duration with step h  \n",
    "    \"\"\"\n",
    "    \n",
    "    t_points = [0] #The list of time values \n",
    "    x_points = [x] #The list of x positions values\n",
    "    y_points = [y] #The list of y positions values\n",
    "    r = np.array([x, y, v_x, v_y]) #The vector of all coordinates \n",
    "    current_t = 0 #The time at the step h \n",
    "    \n",
    "    while current_t < t:  \n",
    "        \n",
    "        step_1 = Runge_Kutta(f, r, h) #First step of h\n",
    "        step_2 = Runge_Kutta(f, r + step_1, h) # Second step of h \n",
    "        total_step = step_1 + step_2 # Total change of the two step of h \n",
    "        \n",
    "        double_step = Runge_Kutta(f, r, 2*h) #Change of the step of 2h \n",
    "    \n",
    "        x_error = (total_step[0] - double_step[0]) / 30 #The error value of x\n",
    "        y_error = (total_step[1] - double_step[1]) / 30 #The error value of y \n",
    "        \n",
    "        error = np.sqrt(x_error**2 + y_error**2) #The Euclidean error\n",
    "        \n",
    "        rho = 30*h*delta/(error) #Facteur permettant de déterminer la nouvelle valeur de h \n",
    "        \n",
    "        \n",
    "        \n",
    "\n",
    "        if rho > 1: #Condition permettant de savoir si h est trop grand  \n",
    "            current_t = current_t + 2*h #On ajuste le temps \n",
    "            \n",
    "            r += total_step + (total_step - double_step)/15 #Local extrapolation   \n",
    "            \n",
    "            x_points.append(r[0])\n",
    "            y_points.append(r[1])\n",
    "            t_points.append(current_t) \n",
    "            \n",
    "            h = h*rho**(1/4) #New h value \n",
    "        else:     \n",
    "            h = h*rho**(1/4) #New h value          \n",
    "        \n",
    "    return x_points, y_points, t_points \n",
    "\n",
    "#Parameters  \n",
    "delta = 1000 #[m] \n",
    "x = 4*10**12 #[m]\n",
    "y = 0 \n",
    "v_x = 0\n",
    "v_y = 1000*(365.2422*24*60*60) # [m/year]\n",
    "t = 50 #[year]\n",
    "h = 0.0008      \n",
    "   \n",
    "x_points, y_points, t_points = orbit_variable_step(x, y, v_x, v_y, t, h, delta)\n",
    "\n",
    "print(len(t_points))\n",
    "#Graph\n",
    "\n",
    "plt.plot(x_points, y_points, color = \"Black\", label = \"Trajectoire de la comète\")\n",
    "plt.plot(x_points[-1], y_points[-1], color = \"firebrick\", label = \"Position de la comète\", marker='8', linestyle = 'None')\n",
    "plt.plot(0, 0, color = 'darkorange', marker='*', linestyle = 'None', label = \"Position du Soleil\")\n",
    "plt.legend()\n",
    "plt.show()"
   ]
  },
  {
   "cell_type": "markdown",
   "metadata": {},
   "source": [
    "Afin d'aider à visualiser les pas une animation a été réalisée: "
   ]
  },
  {
   "cell_type": "code",
   "execution_count": 105,
   "metadata": {},
   "outputs": [
    {
     "data": {
      "text/html": [
       "<video width=\"432\" height=\"288\" controls autoplay loop>\n",
       "  <source type=\"video/mp4\" src=\"data:video/mp4;base64,AAAAHGZ0eXBNNFYgAAACAGlzb21pc28yYXZjMQAAAAhmcmVlAAAp+W1kYXQAAAKuBgX//6rcRem9\n",
       "5tlIt5Ys2CDZI+7veDI2NCAtIGNvcmUgMTU1IHIyOTAxIDdkMGZmMjIgLSBILjI2NC9NUEVHLTQg\n",
       "QVZDIGNvZGVjIC0gQ29weWxlZnQgMjAwMy0yMDE4IC0gaHR0cDovL3d3dy52aWRlb2xhbi5vcmcv\n",
       "eDI2NC5odG1sIC0gb3B0aW9uczogY2FiYWM9MSByZWY9MyBkZWJsb2NrPTE6MDowIGFuYWx5c2U9\n",
       "MHgzOjB4MTEzIG1lPWhleCBzdWJtZT03IHBzeT0xIHBzeV9yZD0xLjAwOjAuMDAgbWl4ZWRfcmVm\n",
       "PTEgbWVfcmFuZ2U9MTYgY2hyb21hX21lPTEgdHJlbGxpcz0xIDh4OGRjdD0xIGNxbT0wIGRlYWR6\n",
       "b25lPTIxLDExIGZhc3RfcHNraXA9MSBjaHJvbWFfcXBfb2Zmc2V0PS0yIHRocmVhZHM9OSBsb29r\n",
       "YWhlYWRfdGhyZWFkcz0xIHNsaWNlZF90aHJlYWRzPTAgbnI9MCBkZWNpbWF0ZT0xIGludGVybGFj\n",
       "ZWQ9MCBibHVyYXlfY29tcGF0PTAgY29uc3RyYWluZWRfaW50cmE9MCBiZnJhbWVzPTMgYl9weXJh\n",
       "bWlkPTIgYl9hZGFwdD0xIGJfYmlhcz0wIGRpcmVjdD0xIHdlaWdodGI9MSBvcGVuX2dvcD0wIHdl\n",
       "aWdodHA9MiBrZXlpbnQ9MjUwIGtleWludF9taW49MjAgc2NlbmVjdXQ9NDAgaW50cmFfcmVmcmVz\n",
       "aD0wIHJjX2xvb2thaGVhZD00MCByYz1jcmYgbWJ0cmVlPTEgY3JmPTIzLjAgcWNvbXA9MC42MCBx\n",
       "cG1pbj0wIHFwbWF4PTY5IHFwc3RlcD00IGlwX3JhdGlvPTEuNDAgYXE9MToxLjAwAIAAAAYZZYiE\n",
       "ADv//vdOvwKbRZdqA5JXCvbKpCZZuVJrAfKmAAADAAARsIY/wWZtYgJ4DhH48r7UPA0Jl4giOQGf\n",
       "jnUQm9f6jU6Lezx8q+qKOhHY3Olrln5MlBU2m6K8D9Xj2n35MeyQoDIq5NWeVw6IGuEcHSk+SAGr\n",
       "RU7tGgNpmKZtN7YpdSv41nwzldq5gyeMYewQqq7AfFj6rwCRpY+4lSclnNfBmg4E9z5kEmfUQdjZ\n",
       "M+9ockcD8vjHPicsJu5cG7BOJa5e+KoTT6rR8rk7LuTIjhI41Y74AAADAcPwwmPUyoemPONFUG/C\n",
       "NX2Yzhn8BewtF04bZuVc4ip/7FiuRtI6rDDxWS+0qCRsEdxoq+zntJMlU/NPLSuZb/6vJgpF2Aj1\n",
       "yyE3PXLofcm/b5n57v9s/Iv6F0eK636zoMQAAGfGdS7uCuoHTPXHcrlzC+eGCvURftIV35fy6k+A\n",
       "Eb4KpB8ziQv15FptjN0J6D+S6JxXExj9Hh+DllcpWiuE9a/DpDFl5bXPV3tHegSGHhK7Qpzt7UrX\n",
       "79zfStSMBv7Kech6Zk1ZIizgo+WSqoFaoVQTkiAu5U3Bb+lLuyCPp92ZCPBRZyA5TiDHAAKvl7ia\n",
       "VuL3Nnzaiay5qVVVF3x+cc8o/A2epLkeeo/Ljfff4kHdemrCUaUZ6N6TaHh4z6OOh+Hr8ZOCw7Qz\n",
       "5Hvedl/wApgBEJoUEAiTJmBM5aoyyYsw0X7sy5IFF6/1YGA843uxHnBii6RJlQxQk4lFHKoj6UYN\n",
       "h6cAG77Y09Qxbx3Zl9iUCol/EhKip2I3ybqYcfARskLtgElWg/g8R5lPZjyZVleobDYkCPwOrhgL\n",
       "eqL0vs7dYda2FTwFGRd/LIcQrw5dkss9U45l9S83tupBuBVUcuKpZgwSRF3b6Betx1iQEsdfVG+h\n",
       "/JXUVJzxvCU+6yH4cLHh7VDMaZH4bzQFYatLTYoJzIx3dz9aB8uMl9NJqZwGfSc6Km9WtK4FgThN\n",
       "Z4awaPVLxAI3gdUeQudNdO5rOs2HVY2CRBpUA2xt3lHxjECXWmCP75W5PSpYZ3R6tQMA081AnOTi\n",
       "0DKyBe0B9aiOkLRNTCY+cE3D4wiwy7c1Ek2cPLbuQX8+j0JbOFrI4XKwRMYug7v7Wn2BiBTB9vqZ\n",
       "OiYB6GwCKfmwYYm25tX6qINv+P7HQxu3D3TscbuDdEKeh6zCu8HtVXEAU3Qswo+OVVT39h367ae6\n",
       "nj9O1/B4mocj3nwdfbf22HBtlGnUBYLq076kLCzeHBy8AXI7f70qqfv+87nQQQM3rNsaC8ZY/YZI\n",
       "kosKPqdfl///uCDL8fKmittmcFPwo3hrMxqYjhcDGMJlNDBMCPJ/eAw+4oA5KKRKnNdYjUku8OJI\n",
       "eLBHBFIU0JvDiHHoR/5E8nO9gT/C5/UmEMVAkPcYkDO8wBrjnxbXROSo+8pRJcOmRy8zc2vpO0wG\n",
       "w/+6FnVmUS/bJd0Ux4hBM3soczLZBKdwKO1JfaOQKCvqdk7pkOzm4p0UCCDeiVkypIAbvWb/b7AW\n",
       "p/XFpSXLhgSmN/GhW0Ii4XozGhfDvbilJsGltTNbOQLQuiRbixj2+yiDstfPSNqDVjwhAB5Bep3/\n",
       "UJJQ3OqW7ffOYH7JRmSPH3zxZwXR4r6Im63LSrmPyzyYsmx11pouVXy1Py8Ijo9GhqTbz20Rgye7\n",
       "Da1y1ucYzZYzYHd+ag6UJBc9ahOLMmorG4cODZVbnR2oo2nd9wFHPF43/Zp0oRAZCaa90LLQfkj+\n",
       "sdPsEwH2Y3+wYs6WdKlSWmLUPUQCaVTRRbszzD7Nqv2YK+GWqsmpHth+JRpe6Rv+zZVDJ54S89/s\n",
       "ZnLJaZvq7p1WB/6tk1YwAGxZdJ1uJAPuvWnTl51wZbNt4M9PWadQO6QAn0LhbwB8eNUB26COvK0n\n",
       "PbSbI0+K9E5EcjpNdP3VCDWVyiyt+xWeiToNvfzK6bYdEcStuvKnXWDBtffLQjLXCbREQkvLTB2a\n",
       "Gqqe1LyIfUWtDjG6M0TCSSXkcOWX4JIrofiUO2g8/X3ntKjK0bHHbq9sVpDaAAE6ZYF/s7Kf0MX/\n",
       "V1aHYOw2T02k4mIqKW/6niLhZwAAATtBmiJsQ//+qZYBBdwS4Ak/VMSyj7aKXtVO/W9Hje8EaEL5\n",
       "IzFJ5qKM1zmfgx7z0rUJv+YfanZg+vq3yicxC3ttqmXarwmwJX5eIJ1M3NHaAIfoxaxLICTT57vo\n",
       "nArrjHuz/4L/h6fqDjSr2Q1nX/pyneV5YlmXEWTNz+H8pV8gao9Yuu2ptN+sJzzjPhAyAsa+2j3X\n",
       "fHT/cLgTKWMxgMktPSq8wHXQRtMoSP/MS5bykyAGS6jjmezRvmZlY313HW3rxdG4ZaArAYeQdXrG\n",
       "xC1iXFs30kyE1x1JjNO3FhGrtAZlI/7ytKhE81AXsWCgf4x8QWClCO93urVE6M2oKunEax7Uh0mz\n",
       "lqoH5Uw/OmvGlCofdxPCs30ou/19xXhI8ODebOGDingql4WoywbllPfy5OWRrNC0tvbhUfAAAAAr\n",
       "AZ5BeQr/AWxonI+nRXrjwAAAa3K0ZcAvJ6RhiA33m1ItyuRxwqXw3gOlgQAAAVpBmkY8IZMphDv/\n",
       "/qmWABIeVvqA65x8QBV0tKh5cAiX3q9+ut9lmBfpkqPMOoGbFGuEHM8T1A98lcGCmkjgPTVU7WcM\n",
       "nCgDuS5z7Pg4icyHFnIKgVFETGu08VWHEaNPrYxf1NI7oPCDSVB9rbb9L9xVCQmXNfI4QmHGwHAV\n",
       "Ecz2Vi93JWOUACWZ0AQa0qZeeY9mds+RL11tY7SRw1cTVcHPTPrIQFvSZzD6/LaFp5HV6xrw7oxX\n",
       "UzZjl+mbIvFnqmtneKk2ThHdyVgr+7O41zh5h3r9zBkjgg56Uc+fIr0TCHpX6wPtKnMX84uyhbWh\n",
       "5viizyHfYMoJBndGe+diNilq8N2zxChokipX8kzBFsYGwt1KRbT3jl0XixlXRTdc5QSdwz2zDcIM\n",
       "zOjoGjnoikJAoAgUuNY1UQonFKIpogZ82SNhqdaLldg99EZ+B1y3NGtLztSoIUrzs462AAAAKkGe\n",
       "ZGpTwz8AHxLB7c6y4LwgBNXrr8EIm5bLb/8U7zs2nTPJ2bWE6tqrEQAAACoBnoN0Qr8ADiw3KI8I\n",
       "7YAJx1R1wuMPtjHjetdgQ0VIBJn+xUwxMPQIA1EAAAAnAZ6FakK/ADoMpTU9iPQAlt1R1blvmpyF\n",
       "du5ld84VeW1LmqnkjulrAAAA4kGaiUmoQWiZTAh3//6plgBMeV/niDDAAIfrvSUYej9wyY24rE54\n",
       "IUq7+g3A4a9ROw+50YfwGusgI4wNd0w8VUVrKChOJy7pXGBMD44EScrz63/tgeHZAs4O9gmxy2lR\n",
       "rXVWVxaeavkzRq670G13+ElaIaB5zNAZbuMh88FJ5c6WoqqvTfowdHt6KvEg4ZmEctbXdQNv0uZO\n",
       "fM5ZaYPzD3EgCAUM8D5zQ/Iy0Lcl2gyDZ2mnnX5IY37Vo61Qg/avwaYItiv7uGL/kLFoSuw427d0\n",
       "M9d+LAPkP2S2pAf/QSAkUEEAAAAqQZ6nRREsL/8AWueXKbQM+FZAB7aoMK9Bhxr6TTZlREjylPii\n",
       "TCHE0sWAAAAAMAGeyGpCvwB5mSVjfnR3rgtT4AIrAJWkbQw24sdQBLoqpGP556+ceSU5lpyW6aIE\n",
       "2AAAANdBms1JqEFsmUwIb//+p4QAo+/RacQVNAESoDOVWg/jZtae44z09+JRx2WXx29bMK6ymrZr\n",
       "WVAiMIDngg26x3VpbtyS8VcYSZlKKn3RSArpLdRwhMSA1llD4lLMekCPIs4S9Xfx2dlLfAMaQ1s6\n",
       "2zl8RBvnCzjw//ndcbC8bI5Qlo5LAm/jjvs6VKAdwNBRHkFy3dtsDzRy5EzLnMDA9p1FHAoH6weU\n",
       "kLZVR1JR1nkZ5JxqmZ62O0jTSfecdMMlB4QcWTkNxf5UQtUVqDnB8GZwPhU0O8atLwAAAC1BnutF\n",
       "FSwz/wBJbiAWH8/gBArS6uU79mTPRpFJRsXFF/65O9SKGgQdCGMkFDAAAAAuAZ8KdEK/AH8grQUo\n",
       "dQAd9/sRNGdRUmW6zIpePAzd8VmHA78PYwWXB6xbNEG4gAAAABsBnwxqQr8AhuueqqtAIaf5oWzg\n",
       "Pbi/xma3hqEAAABKQZsPSahBbJlMFEw3//6nhACr8TkgEI95nKFq70U4NeWEqrukp8FcmJducvYh\n",
       "wuV2B5zLJ9bFlEWJouglBWGj76Mhvqag1WKsQdMAAAAgAZ8uakK/AIrrnqJWYIAH58G6/m/6INjb\n",
       "4xOoPfjtZWEAAAAsQZswSeEKUmUwIb/+p4QArCn2MwdayQBW7QhxCQnxVNnQGz9dRvCurdHQRiwA\n",
       "AAA1QZtRSeEOiZTAhv/+p4QAsRXwcHVpAJr7bGQWxKWzcvZyHcH8x7JmW34bBzZGP9zK4Dimo7oA\n",
       "AABaQZtzSeEPJlMFETw3//6nhAC17++C0LQAFh9tSC0t7Pi6q+et74QjedA4S2PsbPq7k7hjRv66\n",
       "tWQ7YwWe9+CtY+fST2VZUyqzKxoxlV1+vj4NyrP//WzWgLiBAAAAGwGfkmpCvwCS63Y0N/YpVQAP\n",
       "386qGoCsq4ATMAAAACxBm5RJ4Q8mUwId//6plgBbyjCEW4wAjeYWGHjQAnmtt7MbfWWe9oJL7DQD\n",
       "KgAAAFxBm7ZJ4Q8mUwURPDf//qeEALlieH6woAKDcl3D6hDHBRHG8JFJ/wDNl3Q2LF8SAXF44ab4\n",
       "ZNDYyElaEg1uCsADzNYZM0RMdETtAsSY6rCiX699DD/tNpKgfIyxEwAAACcBn9VqQr8AlUq+BeRF\n",
       "ACKvmHZ6uWwIK9+61k3sH1ajE/Io0X7ICFgAAAA9QZvXSeEPJlMCHf/+qZYAXdQXKtz2wBy0Ilbt\n",
       "Cx0ikvy7oSS49nmImu5QhJMf3ho008j8kA6NA3N/rIBiwQAAAFVBm/lJ4Q8mUwURPDv//qmWAGAg\n",
       "dqm+ECSnen30KCLhp+P7oO9pJ/n/AOXjZ672z04tGG91rUlo1s4QtEymSFeg/WwgFsBJCBbade/y\n",
       "HND7jfYTwGpBAAAAGQGeGGpCvwCayE8zR3JlpIAWaNF+VQQCBAwAAABMQZocSeEPJlMCG//+p4QA\n",
       "YgUH8j01QAdDGFWn/rciOYnxEIIth+hRPk4pS297JS8H8k8L3vv3xYMbhmLzo5C8y45j8Qd3vbsU\n",
       "GmAj4QAAABxBnjpFETwv/wA6CXlc2wAhOefAQ4TZJn1R5AI2AAAAEAGeW2pCvwBPk9G2CO6gA48A\n",
       "AAAqQZpdSahBaJlMCG///qeEAGHNcnS6yzuu5AHFlcveFQ89Rgfs9D7GoAf5AAAAUUGaf0nhClJl\n",
       "MFESw3/+p4QAZPXvwNQiCv95nK3TQ9fm2Y7L2E4cRqr0hDoVUXxPtLkiKSAyQuEgbcmpEAFt4g9c\n",
       "RNWA1xINuCa349vSK4DpgAAAABEBnp5qQr8AUeu5Uet/+QCmgAAAACpBmoBJ4Q6JlMCG//6nhABk\n",
       "XLVU8yBk+03gR35NKV7YZy26K1mRNsPAg4EAAAA0QZqiSeEPJlMFFTw3//6nhAAyQBYCPzb4hkgD\n",
       "drPlwY72cOZHa1N29rCfQhPsQ/X/moA+YAAAABEBnsFqQr8AKL/4vdD8CSnB3QAAACVBmsNJ4Q8m\n",
       "UwIb//6nhAAyP9eEP8XgDdJRZojvy+ARFqAK4A0YAAAAMEGa5EnhDyZTAhv//qeEADI/z5w/WuAT\n",
       "FEpnNkJThCdXwcH7wNTSfrDRlmh+agD5gQAAAERBmwZJ4Q8mUwURPDf//qeEADNuenN3sgJxZHQz\n",
       "unIBByN3/z+cjZ0c50Jww94HGiAAT/y1E3UxAKaQb0BtxVYYBuRrQwAAABABnyVqQr8AKfVwxmYy\n",
       "sgKHAAAAK0GbJ0nhDyZTAhv//qeEADOicmxEEBBKf6r9z5Ajlj4/rhIkiKuPQ1G4AzMAAABCQZtI\n",
       "SeEPJlMCG//+p4QAM6JybEQQD6u05Q3aPULJT5zXjpuPWLoQU0kqfpW2xpCq6rejiKaArLlXS5e3\n",
       "tR/9tAl4AAAAM0GbaUnhDyZTAh3//qmWABnpQtAKQhErkRDmVtHJAJylBvQq8YXU+5p4HgJLiLCg\n",
       "8PA/wAAAAClBm4tJ4Q8mUwURPDv//qmWAAz0AcBpDoAOADGCpKXTCDI1CEd/YaCygQAAAA8Bn6pq\n",
       "Qr8AFPjE8zHnDpgAAAAvQZutSeEPJlMFPDv//qmWAAz4MBBV+cQArlIirH6owMgBcee6Nq/sN90T\n",
       "yLYMAl4AAAASAZ/MakK/ABWa4fGgGof3CBOxAAAANUGbz0nhDyZTBTw///6plgAM8v6lS+fN5oAv\n",
       "yIld+BMH+qQOsn4Ti57o9l7OViAFHWV9h4KnAAAAEAGf7mpCvwAVnkiGCE5hAncAAABSQZvzSeEP\n",
       "JlMCH//+qZYADURfTs+RoA2NCPvc9LxoXt+DFlzA+xwc32uib9v4MRPzta5jkTFynE6EAQrhHWdA\n",
       "/pbeE7ayK1VtqH25dFOO/MBFNAAAABRBnhFFETwz/wALo9NrgdgoMYyR8AAAABcBnjB0Qr8AFZQ2\n",
       "COrAEyv1DwsEQ6ACzwAAABIBnjJqQr8AFZHxUbn+kZZpCvgAAAA2QZo3SahBaJlMCH///qmWAA1E\n",
       "01QBuEQgHtousrQpspn0Slrr7UzFO/zPY/jmO1Pcm+xDzWGfAAAAG0GeVUURLDP/AAXPxN0YpvgB\n",
       "KIXwfRpoNWsDUwAAABABnnR0Qr8ACsw/dcr3mQTsAAAAEAGedmpCvwAKytwl1LAAWcEAAAA2QZp7\n",
       "SahBbJlMCHf//qmWAAaoImuuOTRbgBFnA8kKUie/I9e/0M5L1mPZimueOXI3pb8awEvBAAAAE0Ge\n",
       "mUUVLDP/AAXJlQBZbMZ6E7AAAAAZAZ64dEK/AArVZ4AErqfjTkewfnUnBHAgYQAAAA8BnrpqQr8A\n",
       "CsMvMg8444AAAAA3QZq/SahBbJlMCHf//qmWAAaoWBI8PGAGmy1DbwFtGBRGUigjZPNzigSMLirs\n",
       "hgEIzaHublIEnQAAABNBnt1FFSwz/wAFzdv4ZHm08RXxAAAADwGe/HRCvwAKvhKLJ/Ui7gAAABAB\n",
       "nv5qQr8ACsREa6eYUivgAAAANUGa4UmoQWyZTBRMO//+qZYABqEy2ZJQHY/oAndCiKwh7CNUXtyG\n",
       "2IxTGdP8YBiMcb+ptoSdAAAAFQGfAGpCvwAKy7BWAEKY7T7yF2uEzAAAAChBmwVJ4QpSZTAhv/6n\n",
       "hAAGlNRCxS+rC8AVNoJkuAzHKAhSPLxh7gY9AAAAGkGfI0U0TDP/AALnmcJr2yABvTUPPJryHOOA\n",
       "AAAAFgGfQnRCvwAFiyB2N7wWgAiS1R7iAV8AAAARAZ9EakK/AAWJn3opAJ+QmYEAAAAsQZtGSahB\n",
       "aJlMCHf//qmWAANQmJ7PcRUALp4uVe+GlRnqrLicdWB8RU9zAk8AAAAvQZtnSeEKUmUwId/+qZYA\n",
       "A1RMco5mgBzAkmZpTYOO7EKmvJlacvRII+Eq//5SCTkAAAAoQZuJSeEOiZTBTRMO//6plgADVCSA\n",
       "S+gBrghhJeao4dj3Ed+5vKQScAAAAA8Bn6hqQr8ABV90IPymEPAAAAAlQZurSeEPJlMFPD///qmW\n",
       "AANUJIA2fAER5bpQysQsbpa//0qDewAAABABn8pqQr8ABV90IPydD0lfAAAAKkGbzknhDyZTAh//\n",
       "/qmWAANUJFQr+IA420LuMgU0Sw+xOT6AVKlaWVg3oAAAABNBn+xFETwv/wAD3l5tVN4c7r8hAAAA\n",
       "EgGeDWpCvwAFesxjf+LhorCHgQAAACxBmhJJqEFomUwIf//+qZYAA1Q7d9aALeRPmpPGIu0fvutb\n",
       "O8siqPxwnuqk4QAAABNBnjBFESwz/wAC87prhAeTTE0EAAAAEAGeT3RCvwAFiS2NyJ6CIeAAAAAQ\n",
       "AZ5RakK/AAWKwC0dj3i5oQAAADBBmlZJqEFsmUwIf//+qZYAAaoFALPDIANwmXymEK1HVjCiNLrG\n",
       "Okxe+cwamoYkEXAAAAAcQZ50RRUsM/8AAvzDl64HU6xIAWqz9w3ZrKn3gQAAABIBnpN0Qr8ABYkw\n",
       "uMP88T/4fkEAAAASAZ6VakK/AAWKv84MV5LAfsfkAAAAKkGamUmoQWyZTAh///6plgABqFoEii37\n",
       "yNABdHsmK22qiwJoDh4P6VDegQAAABNBnrdFFSwv/wAD+RF6T8X6azPhAAAAEQGe2GpCvwAFir/E\n",
       "I8ElAsz4AAAAK0Ga3UmoQWyZTAh///6plgABqh72uocWgCMF54TmFqojeCAAJVV70eth5SUAAAAg\n",
       "QZ77RRUsM/8AAvzDjpTQq0V7lQAPlJfEgBU4/nBW24AAAAATAZ8adEK/AAWJMCpmOcThqRhDwQAA\n",
       "ABsBnxxqQr8ABYq/NhvdswAfwzHCXAJvk+3kNt0AAAA9QZsBSahBbJlMCH///qmWAAGqTQLyNADp\n",
       "S03/6gcNFK0N8U25zPd5mXre7y372QROwSpfq6ID8mPsvGTPgAAAABdBnz9FFSwz/wAC/MOCQxDS\n",
       "F5qV8OAuaAAAABEBn150Qr8ABYkwoE4we3INtwAAABMBn0BqQr8ABYq/xF9Qt8CTuHNAAAAANEGb\n",
       "RUmoQWyZTAh///6plgAA1Egm2iDABt7Li+vtCP0ncBcTL+aoUz4Idw0OZwhuANfsPUkAAAAeQZ9j\n",
       "RRUsM/8AAvzDjpaMx7Ww1zIAIvlpxugTOIc0AAAAGwGfgnRCvwAFiTCgj2JJ1ZVTdABZFUIqyzxI\n",
       "+QAAABoBn4RqQr8ABYq/xF9B1+APBdABc4gT16xDmwAAACxBm4lJqEFsmUwId//+qZYAANUK+lFI\n",
       "OAEeHcC9aDrpulQG9Of0NMZxGjkScQAAABlBn6dFFSwz/wAC/MOOlozijQAw0Cygk8eBAAAAEgGf\n",
       "xnRCvwAFiTCgj3Nw11kj4AAAACABn8hqQr8ABYq/xF9KGk3aACZuy0CSSA+DS1frfmz4eAAAAD9B\n",
       "m81JqEFsmUwId//+qZYAANRKFoAnCKntYc77CYV2+baaWYEvcbib3+JZJgHPIdFUukdY+zyvlxUG\n",
       "8OL1lW0AAAAjQZ/rRRUsM/8AAvzDjpaM57WgAbUfTD4kMH8w+tCWceTswuAAAAAcAZ4KdEK/AAWJ\n",
       "MKCPgeCQAfxHhil/2Dx3E/a74wAAABMBngxqQr8ABYq/xF9MSsyw26NRAAAAOUGaEUmoQWyZTAhv\n",
       "//6nhAAA0tfePdXaAPHgNMYYe9b3bvB7c7BKrNUqapbalr68RfaJacRQU5ZvoQAAABdBni9FFSwz\n",
       "/wAC/MOOlo0A1ae14juouQAAACABnk50Qr8ABYkwoI+KoeQBNfPwBVgy+gGszUjQTnauqgAAABMB\n",
       "nlBqQr8ABYq/xF9VxzZ+5nqgAAAAJ0GaUkmoQWyZTAh3//6plgAAaAKxvv5xACo66wYhnihfrJnV\n",
       "5FJLwQAAAClBmnNJ4QpSZTAh3/6plgAAaAKxmRUmZoAWCkHgzEjOYDnuxpgLGflJLwAAADdBmpZJ\n",
       "4Q6JlMCHf/6plgAAaAVUafo4AFNqDGtEaUi+K9cbcomSAfbHNNlOnEQPFZiS5shcwYl4AAAAGEGe\n",
       "tEURPC//AAP41fpa/Yj88vh4UWoVwQAAABYBntVqQr8ABYq/xF9VxJSXALRvRxhXAAAAPkGa2Emo\n",
       "QWiZTBTw7/6plgAAZ8daNFqoAdK6AXj1I3tdA8ka71/da4VLLB75aWEUfjyXijr79tQdeWhMD1SB\n",
       "AAAAFQGe92pCvwAFi5Mqslby6w0xAJ20VQAAADBBmvpJ4QpSZTBSw7/+qZYAAGfH0e0+gBptw2Cp\n",
       "vkJweG4O7IuxLQNxOyVH7bWs2UAAAAAVAZ8ZakK/AAK9bl9ClbqC8Vk+oYUhAAAAQUGbHUnhDomU\n",
       "wIb//qeEAADJ8J5o9CqJ01u8B9ACfbsaPio9UQgYNvi9IvT+U7AP0Ncd06BJlMdr4yxryPhlJg1/\n",
       "AAAAHkGfO0UVPC//AAH3cqSWiKxFNXhIT1x/MLVA5IXnwQAAABIBn1xqQr8AAsVf+CstyJd+TyEA\n",
       "AAAwQZteSahBaJlMCHf//qmWAAAykIlPLSwBNDUndV7j7hPzMicpcYl4SLqCQHf/5+fMAAAAUkGb\n",
       "YknhClJlMCG//qeEAGHjw6AE+KEUTZnM3I2e1N5Nd2hB7Y7q9WI88t/8dJOpS4Zn2g+dpgY0lwYm\n",
       "fzMnrX3n1IkOvd5wZEEeSP1cNuNMryAAAAAXQZ+ARTRMM/8AAX5N/i7Bh/Xz1HBLgiMAAAARAZ+/\n",
       "dEK/AALEmG/oLQV7FG8AAAAUAZ+hakK/AALFX/fOXe/9CxVc9DEAAABJQZujSahBaJlMCG///qeE\n",
       "AANLNA+gFmYYewxukN/MpuQeBzCfMHIFpbQYJzLbClfjZrlf432YwI16Sd94wzVg6VdABzve4wiL\n",
       "oAAAAB9Bm8RJ4QpSZTAhv/6nhAAAMO5WWnxeAErHkIs/mr/BAAAAJkGb5UnhDomUwId//qmWAAAY\n",
       "qAlyka0AGq26PJCnIbrVsvZ/qaCBAAAAPkGaB0nhDyZTBRE8O//+qZYAABik1blkn7oUAQaGac/v\n",
       "065sWBXRs0wj6LrCXoGH2nyX+3jMMS+9xXiyvKaDAAAAEgGeJmpCvwACvW5elWod3MPf4QAAAEhB\n",
       "milJ4Q8mUwU8O//+qZYAABipjHADpXQC+4RW3N2yxlH9ddawn43mSu0ll+cAVnbHyYcJvQR1gZIT\n",
       "1tH0kTXKxXLMOfBjpHAAAAAXAZ5IakK/AAK9bl6WBvYhiSQdnPjspSgAAAB1QZpNSeEPJlMCHf/+\n",
       "qZYAABgFPWgDOD2jKALVjCX6QzEfMfyD+DHIRBan4whasai40u9w8rF2Yayg6sutl1W+F7ZvNNzk\n",
       "RDapB9Ljhww7QnrrnO3eb+nlkxFiQUXgWHtzV/1ZnbKIwmb7fr2BOsYnA7t3hVpBAAAAHUGea0UR\n",
       "PDP/AAF54jmoYaL4WgEI+bqNVOMBMwSAAAAAHgGeinRCvwACxJhq51iV0ClABMgY+f5UG8y8zCFC\n",
       "qAAAACQBnoxqQr8AAsVf8tbZmM9+gAXOPvystfFj9m2JpwgF8tO2HIEAAAAvQZqOSahBaJlMCHf/\n",
       "/qmWAAALuxUWv9AC3bKoOF2TX2mz8+pKaDX1aWMMS6VWJlkAAABsQZqySeEKUmUwId/+qZYAAAu6\n",
       "/z9ACtE7LKdM5RPG6ptAI2jTHSJJhliDDNpWteTUdtDZGD/U+G1EUg2k1xy+fba5pRPcmV0T3dX/\n",
       "ykPOPqo66iE2pxutXNnUYoxH13Cj0xG/efqewKrJ18etAAAAIkGe0EU0TDP/AAF+Tf3qBGOvidn7\n",
       "jABzgIZtrLX6CXuotNgAAAAiAZ7vdEK/AALEmGi6kVsAG0br5AC3BMNnfBpdKAUosn3OjAAAABYB\n",
       "nvFqQr8AAsVf8rcbZ2xcw7Kis7KhAAAAXkGa9UmoQWiZTAh3//6plgAACy0AWbfFwAsFjZIDEQBL\n",
       "ZKI5pVdJ2vRl89tqx2F84suzr6orrtoJEKR9xzwcfnUtju6WhCJaWBlqZ9md/ixlQc5mwcygWlF1\n",
       "/XdQNcAAAAAaQZ8TRREsL/8AAfyIv3b8nqpiV+dOrpOc1CAAAAAdAZ80akK/AALFX/K3G2dwbGFL\n",
       "vQkAJCfH90Xtdi8AAABYQZs4SahBbJlMCG///qeEAAAVHfPfBYN4ArVVyGXUdkFbed87ZSodBgsf\n",
       "n3pN7dzUSsBIHtXmpUsmQD6jNi3yYJimGoxtZhL3ei1yW/Ltru6nmkdXRQAzkwAAABlBn1ZFFSwv\n",
       "/wAB/Ii/dvyeqmC+SmFa5BhhAAAAGgGfd2pCvwACxV/ytxtncEOri7Y0DUN3oEY5AAAAOkGbeUmo\n",
       "QWyZTAh3//6plgAACk0VQEW5bgA4t3RaYwfoxzS+WTiX6s3JYSdFG3fJash+EAMzhqL84A4AAABn\n",
       "QZubSeEKUmUwUVLDv/6plgAACgoxKYEVx0AHELRwSsIOt6uq9eNLRmI5U73vPVq/5pZrqG/D+pT9\n",
       "+pGnn/zcAJvuJ5bd952947W2XUfBl0E2h1e663ysOBk499oEmxIVFMOOP/nnNwAAACgBn7pqQr8A\n",
       "Ar1uXoxZpfAC5jWYDpnebhK7RAG8fHPnAdQDMyRtGDD4AAAAXUGbvEnhDomUwId//qmWAAATg2mo\n",
       "AoNyxRGoK6kzhmjo3+Fv7Jq1ejP68j8+fd6tecvL5vj2MfIPh+GTrhlOebExEHe4Yyv8lgPIhBqo\n",
       "m4gSyqvmMDTMdEq8U/T7gQAAALhBm99J4Q8mUwId//6plgAAJDyv88QYYABxa71SedR8/Ia7hLk8\n",
       "IYgxZvfWkNRlXL3CVPcUJcd6UBKFjcu0dQ2UU4zC/NGX9s8CmdvSvQe/QUZUsix1uGBtpkUAEhQA\n",
       "ydPCm236prEuSGC+bqS/tz4CjeiGWyysmQH6FtZqoTjojibnU4N2Tu0+5YR1mXBPG/xea278n5J+\n",
       "WnLFWu8/8smKgIgqZfc4+jKF5S/AI0b2qPa1lf76eU/BAAAAKkGf/UURPC//AAH3cqRGlxoOGUD8\n",
       "8aQAttKEypOLRZ+rXj0IdSRozwLNvQAAACMBnh5qQr8AAsVf9UG7iS+sADoAP3VETrp6Vcw8SyBn\n",
       "D2C12AAAANJBmgNJqEFomUwIb//+p4QAAQ7kHyshnjgACHETOT4xekMCSEidq5o2rk42jijDR22O\n",
       "KuVC7gv43SEiInF3qYn3RueiNAQdwoxh9UGcak2A5KVtlj9tTWktO2ZsYQL5FVv4bcCQVHg+/elP\n",
       "Mkms0y2F04qK8hQAO8kB2oHSXPm0ndcxWB4O15pILT0ufX2B1XlJhL6DTIyiU3a3ey2N8SJ1S0fo\n",
       "UII3K8GZ9P2VRFla0QtFFZ9f9kawrBFWS0FOKW6Ipi2VoJQhjLaVYIsRsoREEsEAAAAvQZ4hRREs\n",
       "M/8AAX5hypNyZdrugA4xmH1Bm8oSexXo4AdS5bve8ho2HEyKdbFlAxYAAAAkAZ5AdEK/AALEmHOs\n",
       "tdIYKVyklhZUB1WjJvtNPMDNqo+rdBvRAAAALAGeQmpCvwACxWAIVu1aRlABMALXPT2Ip7XJOrgo\n",
       "+0wfdvGfP7XGoFG2QCVgAAAAhEGaRkmoQWyZTAhX//44QAB+vL2ACIMpx9UxahZbGIBFn00QAmlN\n",
       "w+Kos1ZQonhudVfEkTiUJdhLyKoTEcBQ3TzVn3Ubpk1qOqPFmX+tsud5rIRtIgNbACsbqGj4OUH+\n",
       "h5ZF2YErN/byUQnUIqKMHxILPg1uxB+hTfCvK5YCJxeI07mAYQAAADFBnmRFFSwv/wAFHnd506mH\n",
       "OWmzUsgBuvUnvusGwdzQTXXPGBRGkvC/XsgvcrSfPYIvAAAAHAGehWpCvwAG6dDL5qG/cI8jgDHs\n",
       "FAZ+7ee4BL0AAApybW9vdgAAAGxtdmhkAAAAAAAAAAAAAAAAAAAD6AAAIJ4AAQAAAQAAAAAAAAAA\n",
       "AAAAAAEAAAAAAAAAAAAAAAAAAAABAAAAAAAAAAAAAAAAAABAAAAAAAAAAAAAAAAAAAAAAAAAAAAA\n",
       "AAAAAAAAAAAAAgAACZx0cmFrAAAAXHRraGQAAAADAAAAAAAAAAAAAAABAAAAAAAAIJ4AAAAAAAAA\n",
       "AAAAAAAAAAAAAAEAAAAAAAAAAAAAAAAAAAABAAAAAAAAAAAAAAAAAABAAAAAAbAAAAEgAAAAAAAk\n",
       "ZWR0cwAAABxlbHN0AAAAAAAAAAEAACCeAAAEAAABAAAAAAkUbWRpYQAAACBtZGhkAAAAAAAAAAAA\n",
       "AAAAAAAoAAABTgBVxAAAAAAALWhkbHIAAAAAAAAAAHZpZGUAAAAAAAAAAAAAAABWaWRlb0hhbmRs\n",
       "ZXIAAAAIv21pbmYAAAAUdm1oZAAAAAEAAAAAAAAAAAAAACRkaW5mAAAAHGRyZWYAAAAAAAAAAQAA\n",
       "AAx1cmwgAAAAAQAACH9zdGJsAAAAs3N0c2QAAAAAAAAAAQAAAKNhdmMxAAAAAAAAAAEAAAAAAAAA\n",
       "AAAAAAAAAAAAAbABIABIAAAASAAAAAAAAAABAAAAAAAAAAAAAAAAAAAAAAAAAAAAAAAAAAAAAAAA\n",
       "AAAAGP//AAAAMWF2Y0MBZAAV/+EAGGdkABWs2UGwloQAAAMABAAAAwCgPFi2WAEABmjr48siwAAA\n",
       "ABx1dWlka2hA8l8kT8W6OaUbzwMj8wAAAAAAAAAYc3R0cwAAAAAAAAABAAAApwAAAgAAAAAUc3Rz\n",
       "cwAAAAAAAAABAAAAAQAABLhjdHRzAAAAAAAAAJUAAAABAAAEAAAAAAEAAAYAAAAAAQAAAgAAAAAB\n",
       "AAAKAAAAAAEAAAQAAAAAAQAAAAAAAAABAAACAAAAAAEAAAgAAAAAAgAAAgAAAAABAAAKAAAAAAEA\n",
       "AAQAAAAAAQAAAAAAAAABAAACAAAAAAEAAAYAAAAAAQAAAgAAAAACAAAEAAAAAAEAAAYAAAAAAQAA\n",
       "AgAAAAABAAAEAAAAAAEAAAYAAAAAAQAAAgAAAAABAAAEAAAAAAEAAAYAAAAAAQAAAgAAAAABAAAI\n",
       "AAAAAAIAAAIAAAAAAQAABAAAAAABAAAGAAAAAAEAAAIAAAAAAQAABAAAAAABAAAGAAAAAAEAAAIA\n",
       "AAAAAgAABAAAAAABAAAGAAAAAAEAAAIAAAAAAwAABAAAAAABAAAGAAAAAAEAAAIAAAAAAQAABgAA\n",
       "AAABAAACAAAAAAEAAAYAAAAAAQAAAgAAAAABAAAKAAAAAAEAAAQAAAAAAQAAAAAAAAABAAACAAAA\n",
       "AAEAAAoAAAAAAQAABAAAAAABAAAAAAAAAAEAAAIAAAAAAQAACgAAAAABAAAEAAAAAAEAAAAAAAAA\n",
       "AQAAAgAAAAABAAAKAAAAAAEAAAQAAAAAAQAAAAAAAAABAAACAAAAAAEAAAYAAAAAAQAAAgAAAAAB\n",
       "AAAKAAAAAAEAAAQAAAAAAQAAAAAAAAABAAACAAAAAAIAAAQAAAAAAQAABgAAAAABAAACAAAAAAEA\n",
       "AAYAAAAAAQAAAgAAAAABAAAIAAAAAAIAAAIAAAAAAQAACgAAAAABAAAEAAAAAAEAAAAAAAAAAQAA\n",
       "AgAAAAABAAAKAAAAAAEAAAQAAAAAAQAAAAAAAAABAAACAAAAAAEAAAgAAAAAAgAAAgAAAAABAAAK\n",
       "AAAAAAEAAAQAAAAAAQAAAAAAAAABAAACAAAAAAEAAAoAAAAAAQAABAAAAAABAAAAAAAAAAEAAAIA\n",
       "AAAAAQAACgAAAAABAAAEAAAAAAEAAAAAAAAAAQAAAgAAAAABAAAKAAAAAAEAAAQAAAAAAQAAAAAA\n",
       "AAABAAACAAAAAAEAAAoAAAAAAQAABAAAAAABAAAAAAAAAAEAAAIAAAAAAQAACgAAAAABAAAEAAAA\n",
       "AAEAAAAAAAAAAQAAAgAAAAACAAAEAAAAAAEAAAgAAAAAAgAAAgAAAAABAAAGAAAAAAEAAAIAAAAA\n",
       "AQAABgAAAAABAAACAAAAAAEAAAgAAAAAAgAAAgAAAAABAAAEAAAAAAEAAAoAAAAAAQAABAAAAAAB\n",
       "AAAAAAAAAAEAAAIAAAAAAwAABAAAAAABAAAGAAAAAAEAAAIAAAAAAQAABgAAAAABAAACAAAAAAEA\n",
       "AAoAAAAAAQAABAAAAAABAAAAAAAAAAEAAAIAAAAAAQAABAAAAAABAAAKAAAAAAEAAAQAAAAAAQAA\n",
       "AAAAAAABAAACAAAAAAEAAAgAAAAAAgAAAgAAAAABAAAIAAAAAAIAAAIAAAAAAQAABAAAAAABAAAG\n",
       "AAAAAAEAAAIAAAAAAQAABAAAAAABAAAIAAAAAAIAAAIAAAAAAQAACgAAAAABAAAEAAAAAAEAAAAA\n",
       "AAAAAQAAAgAAAAABAAAIAAAAAAIAAAIAAAAAHHN0c2MAAAAAAAAAAQAAAAEAAACnAAAAAQAAArBz\n",
       "dHN6AAAAAAAAAAAAAACnAAAIzwAAAT8AAAAvAAABXgAAAC4AAAAuAAAAKwAAAOYAAAAuAAAANAAA\n",
       "ANsAAAAxAAAAMgAAAB8AAABOAAAAJAAAADAAAAA5AAAAXgAAAB8AAAAwAAAAYAAAACsAAABBAAAA\n",
       "WQAAAB0AAABQAAAAIAAAABQAAAAuAAAAVQAAABUAAAAuAAAAOAAAABUAAAApAAAANAAAAEgAAAAU\n",
       "AAAALwAAAEYAAAA3AAAALQAAABMAAAAzAAAAFgAAADkAAAAUAAAAVgAAABgAAAAbAAAAFgAAADoA\n",
       "AAAfAAAAFAAAABQAAAA6AAAAFwAAAB0AAAATAAAAOwAAABcAAAATAAAAFAAAADkAAAAZAAAALAAA\n",
       "AB4AAAAaAAAAFQAAADAAAAAzAAAALAAAABMAAAApAAAAFAAAAC4AAAAXAAAAFgAAADAAAAAXAAAA\n",
       "FAAAABQAAAA0AAAAIAAAABYAAAAWAAAALgAAABcAAAAVAAAALwAAACQAAAAXAAAAHwAAAEEAAAAb\n",
       "AAAAFQAAABcAAAA4AAAAIgAAAB8AAAAeAAAAMAAAAB0AAAAWAAAAJAAAAEMAAAAnAAAAIAAAABcA\n",
       "AAA9AAAAGwAAACQAAAAXAAAAKwAAAC0AAAA7AAAAHAAAABoAAABCAAAAGQAAADQAAAAZAAAARQAA\n",
       "ACIAAAAWAAAANAAAAFYAAAAbAAAAFQAAABgAAABNAAAAIwAAACoAAABCAAAAFgAAAEwAAAAbAAAA\n",
       "eQAAACEAAAAiAAAAKAAAADMAAABwAAAAJgAAACYAAAAaAAAAYgAAAB4AAAAhAAAAXAAAAB0AAAAe\n",
       "AAAAPgAAAGsAAAAsAAAAYQAAALwAAAAuAAAAJwAAANYAAAAzAAAAKAAAADAAAACIAAAANQAAACAA\n",
       "AAAUc3RjbwAAAAAAAAABAAAALAAAAGJ1ZHRhAAAAWm1ldGEAAAAAAAAAIWhkbHIAAAAAAAAAAG1k\n",
       "aXJhcHBsAAAAAAAAAAAAAAAALWlsc3QAAAAlqXRvbwAAAB1kYXRhAAAAAQAAAABMYXZmNTcuODMu\n",
       "MTAw\n",
       "\">\n",
       "  Your browser does not support the video tag.\n",
       "</video>"
      ],
      "text/plain": [
       "<IPython.core.display.HTML object>"
      ]
     },
     "execution_count": 105,
     "metadata": {},
     "output_type": "execute_result"
    },
    {
     "data": {
      "image/png": "[encoded data removed]",
      "text/plain": [
       "<Figure size 432x288 with 1 Axes>"
      ]
     },
     "metadata": {
      "needs_background": "light"
     },
     "output_type": "display_data"
    }
   ],
   "source": [
    "############## To run this you need to install ffmpeg ############## \n",
    "#Easiest way to install is to write in the Anaconda Prompt: \"conda install -c conda-forge ffmpeg\"\n",
    "\n",
    "%matplotlib inline\n",
    "x_data = []\n",
    "y_data = []\n",
    "\n",
    "fig, ax = plt.subplots()\n",
    "\n",
    "ax.set_xlim(( -0.5e12, 4.3e12))\n",
    "ax.set_ylim((-6e11,6e11))\n",
    "\n",
    "line, = ax.plot([], [], lw=2, color =\"black\")\n",
    "\n",
    "def init():\n",
    "    line.set_data([], [])\n",
    "    return (line,)\n",
    "\n",
    "# animation function. \n",
    "def animate(i):\n",
    "    x = x_points[i] \n",
    "    y = y_points[i]\n",
    "    x_data.append(x)\n",
    "    y_data.append(y)\n",
    "    line.set_data(x_data, y_data)\n",
    "    return (line,)\n",
    "# call the animator. blit=True means only re-draw the parts that have changed.\n",
    "anim = animation.FuncAnimation(fig, animate, init_func=init,\n",
    "                               frames=len(t_points), interval= 50, blit=True)\n",
    "HTML(anim.to_html5_video())"
   ]
  },
  {
   "cell_type": "markdown",
   "metadata": {},
   "source": [
    "On se rend immédiatement compte que les pas de temps sont beaucoup plus plus petits aux bout de l'ellipse. Toutefois, on peut ajuster l'erreur delta pour avoir une erreur moins considérable. "
   ]
  },
  {
   "cell_type": "markdown",
   "metadata": {},
   "source": [
    "## Mécanique céleste - la Terre"
   ]
  },
  {
   "cell_type": "markdown",
   "metadata": {},
   "source": [
    "#### d. Calcul de l'orbite de la Terre autour du soleil"
   ]
  },
  {
   "cell_type": "code",
   "execution_count": 8,
   "metadata": {},
   "outputs": [],
   "source": [
    "#Constantes\n",
    "h = 1 / (365.25 * 24) # year\n",
    "G = cst.G.value * ( 365.25 * 24 * 60 * 60) ** 2 #m^2/kg year^2\n",
    "M = cst.M_sun.value #kg\n",
    "m = cst.M_earth.value #kg"
   ]
  },
  {
   "cell_type": "code",
   "execution_count": 9,
   "metadata": {},
   "outputs": [],
   "source": [
    "#Fonction dépendante de r selon l'équation 9 décrivant le mouvement\n",
    "def f(r):\n",
    "    x = r[0]\n",
    "    vx = r[1]\n",
    "    y = r[2]\n",
    "    vy = r[3]\n",
    "    R = sqrt(x ** 2 + y ** 2)\n",
    "    return np.array([ vx, -G * M * x / R ** 3, vy, -G * M * y / R ** 3 ])\n"
   ]
  },
  {
   "cell_type": "code",
   "execution_count": 10,
   "metadata": {},
   "outputs": [],
   "source": [
    "#Méthode de Verlet pour rajouter la dépendance temporelle\n",
    "\n",
    "def orbite(t_0,t_f,x0,y0,vx0,vy0):\n",
    "    xn = []\n",
    "    yn = []\n",
    "    tn = np.arange(t_0, t_f, h) #liste de temps entre t_0 et T_f avec un pas h\n",
    "    r = np.array([x0, vx0, y0, vy0])\n",
    "    #Premier pas\n",
    "    demi = 0.5 * h * f(r) \n",
    "    vxn = r[1] + demi[1] #vx(t+h/2)\n",
    "    vyn = r[3] + demi[3] #vy(t+h/2)\n",
    "    for t in tn: #Calcul pour tous les temps\n",
    "        xn.append(r[0])\n",
    "        yn.append(r[2])\n",
    "        r[0] += h * vxn\n",
    "        r[2] += h * vyn\n",
    "        k = h * f(r)\n",
    "        r[1] = vxn+ 0.5 * k[1]\n",
    "        r[3] = vyn + 0.5 * k[3]\n",
    "        demi = 0.5 * h * f(r)\n",
    "        vxn += k[1]\n",
    "        vyn+= k[3]\n",
    "    return xn,yn #Valeurs de positions en x et y pour tous les temps "
   ]
  },
  {
   "cell_type": "code",
   "execution_count": 11,
   "metadata": {},
   "outputs": [],
   "source": [
    "# Valeurs initiales \n",
    "\n",
    "p = 1.4710 * 10 ** 11 #m\n",
    "vt = 3.0287 * 10 ** 4 * 365.25 * 24 * 60 * 60 #m/an\n",
    "theta = np.array([np.pi/4,np.pi/3,np.pi/2]) # On a choisi quelques valeurs d'angles pour varier la position initiale\n",
    "x0 = p*np.cos(theta) #Position initiale x\n",
    "y0 = p*np.sin(theta) #Position initiale y\n",
    "vx0 = vt*np.cos(np.pi/2+theta) #Vitesse initiale x\n",
    "vy0 = vt*np.sin(np.pi/2+theta) #Vitesse initiale y\n",
    "\n",
    "# 5 orbites à des positions initiales différentes \n",
    "x1,y1 = orbite(0,2,p,0,0,vt)\n",
    "x2,y2 = orbite(0,2,x0[0],y0[0],vx0[0],vy0[0])\n",
    "x3,y3 = orbite(0,2,x0[1],y0[1],vx0[1],vy0[1])\n",
    "x4,y4 = orbite(0,2,x0[2],y0[2],vx0[2],vy0[2])\n",
    "x5,y5 = orbite(0,2,0,p,vt,0)"
   ]
  },
  {
   "cell_type": "code",
   "execution_count": 12,
   "metadata": {},
   "outputs": [
    {
     "data": {
      "image/png": "[encoded data removed]",
      "text/plain": [
       "<Figure size 432x288 with 1 Axes>"
      ]
     },
     "metadata": {},
     "output_type": "display_data"
    }
   ],
   "source": [
    "# Plot orbites\n",
    "plt.plot(x1,y1,label = '$\\\\theta$ = 0')\n",
    "plt.plot(x2,y2,label = '$\\\\theta = \\pi/4$')\n",
    "plt.plot(x3,y3,label = '$\\\\theta = \\pi/3$')\n",
    "plt.plot(x4,y4,label = '$\\\\theta = \\pi/2$')\n",
    "plt.plot(x5,y5,label = '$\\\\theta = \\pi$')\n",
    "\n",
    "plt.legend()\n",
    "plt.xlabel('x (m)')\n",
    "plt.ylabel('y (m)')\n",
    "plt.show()"
   ]
  },
  {
   "cell_type": "markdown",
   "metadata": {},
   "source": [
    "#### e. Énergie potentielle et cinétique. "
   ]
  },
  {
   "cell_type": "code",
   "execution_count": 34,
   "metadata": {},
   "outputs": [],
   "source": [
    "# On reprend la même fonction que en d. \n",
    "def orbite(t_0,t_f,x0,y0,vx0,vy0):\n",
    "    xn = []\n",
    "    yn = []\n",
    "    U = []\n",
    "    K= []\n",
    "    tn = np.arange(t_0, t_f, h) #liste de temps entre t_0 et T_f avec un pas h\n",
    "    r = np.array([x0, vx0, y0, vy0])\n",
    "    #Premier pas\n",
    "    demi = 0.5 * h * f(r) \n",
    "    vxn = r[1] + demi[1] #vx(t+h/2)\n",
    "    vyn = r[3] + demi[3] #vy(t+h/2)\n",
    "    for t in tn: #Calcul pour tous les temps\n",
    "        xn.append(r[0])\n",
    "        yn.append(r[2])\n",
    "        r[0] += h * vxn\n",
    "        r[2] += h * vyn\n",
    "        k = h * f(r)\n",
    "        r[1] = vxn+ 0.5 * k[1]\n",
    "        r[3] = vyn + 0.5 * k[3]\n",
    "        demi = 0.5 * h * f(r)\n",
    "        vxn += k[1]\n",
    "        vyn+= k[3]\n",
    "        #Calcul des énergies\n",
    "        U.append(-cst.G.value * M * m / sqrt(r[0] ** 2 + r[2] ** 2))\n",
    "        K.append(0.5 * m * (r[1] ** 2 + r[3] ** 2) / (365.25 * 24 * 60 * 60) ** 2)\n",
    "    E = np.array(K) + np.array(U)\n",
    "    return xn,yn,K,U,E,tn #Valeurs d'énergies cinétiques et potentiels  \n"
   ]
  },
  {
   "cell_type": "code",
   "execution_count": 35,
   "metadata": {},
   "outputs": [
    {
     "data": {
      "image/png": "[encoded data removed]",
      "text/plain": [
       "<Figure size 432x288 with 1 Axes>"
      ]
     },
     "metadata": {},
     "output_type": "display_data"
    }
   ],
   "source": [
    "x1,y1,k1,u1,E1,t1 = orbite(0,4,p,0,0,vt)\n",
    "\n",
    "plt.plot(t1, k1,label = \"Cinétique\")\n",
    "plt.plot(t1, u1,label = \"Potentielle\")\n",
    "plt.plot(t1, E1,label = \"Totale\")\n",
    "plt.xlabel('t (ans)')\n",
    "plt.ylabel('Énergie (J)')\n",
    "plt.legend()\n",
    "plt.show()"
   ]
  },
  {
   "cell_type": "markdown",
   "metadata": {},
   "source": [
    "#### f. RK2 pour calcul de l'orbite"
   ]
  },
  {
   "cell_type": "markdown",
   "metadata": {},
   "source": [
    "## Mécanique céleste - Mars"
   ]
  },
  {
   "cell_type": "code",
   "execution_count": null,
   "metadata": {},
   "outputs": [],
   "source": []
  }
 ],
 "metadata": {
  "kernelspec": {
   "display_name": "Python 3",
   "language": "python",
   "name": "python3"
  },
  "language_info": {
   "codemirror_mode": {
    "name": "ipython",
    "version": 3
   },
   "file_extension": ".py",
   "mimetype": "text/x-python",
   "name": "python",
   "nbconvert_exporter": "python",
   "pygments_lexer": "ipython3",
   "version": "3.8.5"
  }
 },
 "nbformat": 4,
 "nbformat_minor": 4
}
