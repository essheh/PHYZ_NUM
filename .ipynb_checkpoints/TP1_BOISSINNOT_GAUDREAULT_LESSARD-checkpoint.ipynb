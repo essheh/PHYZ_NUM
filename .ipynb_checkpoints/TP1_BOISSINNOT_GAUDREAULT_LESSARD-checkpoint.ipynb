{
 "cells": [
  {
   "cell_type": "markdown",
   "metadata": {},
   "source": [
    "# TP1 \n",
    "\n",
    "## Numéro 1  \n",
    "\n",
    "La densité électronique, $n_e$, d'un milieu peut être calculée, selon la formule suivante: $$n_e=\\frac{N_{A}\\cdot Z \\cdot \\rho}{M},$$ où $N_A$ est le nombre d'Avogadro, $Z$ est le numéro atomique, $M$ est la masse molaire du milieu ($M = A \\cdot M_u$), $A$ est la masse atomique relative et $M_{u}$ la constante de masse molaire ($M_{u} = 1 g/cm^3$). \n",
    "\n",
    "Les propriétés des [milieux](https://www.physics.nist.gov/cgi-bin/Star/compos.pl?ap) et des [éléments](https://www.ptable.com) les composants sont obtenues à l'aide du site du NSIT et du site Ptable respectivement."
   ]
  },
  {
   "cell_type": "code",
   "execution_count": 1,
   "metadata": {},
   "outputs": [],
   "source": [
    "# Propriétés des milieux (eau et os) sous forme de dictionnaire \n",
    "import timeit\n",
    "import numpy as np\n",
    "import scipy \n",
    "                        # Densité [g/cm^3]\n",
    "eau_liq = {\"Densité\" : 1.00000E+00,\n",
    "                       # Mean Excitation Energy [MeV]\n",
    "           \"MEE\" : 75.000000E-06,\n",
    "                               # numéro atomique\n",
    "           \"Composition\" : np.array([[1, 8], \n",
    "                                     # proportion dans le milieu\n",
    "                                     [0.111894, 0.888106], \n",
    "                                     # masse molaire [g/mol] (source ptable.com)\n",
    "                                     [1.008, 15.999]])} \n",
    "\n",
    "\n",
    "\n",
    "                        # Densité [g/cm^3]\n",
    "os_compact = {\"Densité\" : 1.85000E+00, \n",
    "                      # Mean Excitation Energy [MeV]\n",
    "              \"MEE\" : 91.900000E-06,\n",
    "                                              # numéro atomique\n",
    "              \"Composition\" : np.array([[1, 6, 7, 8, 12, 15, 16, 20], \n",
    "                                                # proportion dans le milieu\n",
    "                                        [0.063984, 0.278000, 0.027000, 0.410016, 0.002000, 0.070000, 0.002000, 0.147000],\n",
    "                                                        # masse molaire [g/mol] (source ptable.com)\n",
    "                                        [1.008, 12.011, 14.007, 15.999, 24.305, 30.738, 32.065, 40.078]])} \n"
   ]
  },
  {
   "cell_type": "code",
   "execution_count": 2,
   "metadata": {},
   "outputs": [],
   "source": [
    "# fonction de la densité électronique selon les propriétés du milieu\n",
    "\n",
    "import scipy.constants as cst\n",
    "\n",
    "def n_e(num_ato, proportion, mass_mol, densité):\n",
    "    return cst.Avogadro * densité * np.sum(proportion * num_ato / mass_mol) "
   ]
  },
  {
   "cell_type": "code",
   "execution_count": 3,
   "metadata": {},
   "outputs": [
    {
     "name": "stdout",
     "output_type": "stream",
     "text": [
      "Valeur de la densité électronique selon la formule de Bethe \n",
      "   Eau liquide : 3.34E+23 [électrons/cm^3]\n",
      "   Os compact : 5.91E+23 [électrons/cm^3]\n"
     ]
    }
   ],
   "source": [
    "# n_e pour l'eau et un os compact\n",
    "\n",
    "eau_liq[\"n_e\"] = n_e(num_ato = eau_liq[\"Composition\"][0], proportion = eau_liq[\"Composition\"][1], \n",
    "                     mass_mol = eau_liq[\"Composition\"][2], densité = eau_liq[\"Densité\"])\n",
    "\n",
    "os_compact[\"n_e\"] = n_e(num_ato = os_compact[\"Composition\"][0], proportion = os_compact[\"Composition\"][1], \n",
    "                        mass_mol = os_compact[\"Composition\"][2], densité = os_compact[\"Densité\"])\n",
    "\n",
    "print(\"Valeur de la densité électronique selon la formule de Bethe \\n   Eau liquide : {:.2E} [électrons/cm^3]\\n   Os compact : {:.2E} [électrons/cm^3]\".format(eau_liq[\"n_e\"], os_compact[\"n_e\"]))"
   ]
  },
  {
   "cell_type": "markdown",
   "metadata": {},
   "source": [
    "Comme l'application de la protonthérapie produit des faisceaux de particules dans la gamme 70-250 MeV, soit des protons de plus de 3 MeV, il est possible d'obtenir le pouvoir d'arrêt collisionnel selon l'énergie d'un proton comme suit : \n",
    "\n",
    "$$S_{col}(T) = 2\\pi r_e^2 m_e c^2 n_e \\frac{1}{\\beta^2}\\left[\\ln\\left(\\frac{2m_e c^2 \\beta^2 \\gamma^2 T_e^{max}}{I^2}\\right)-2\\beta^2\\right],$$\n",
    "\n",
    "\n",
    "où $r_e$ est le rayon d'un électron classique, $m_e$ est la masse d'un électron, $c$ est la vitesse de la lumière, $T_e^{max}$ est l'énergie maximale transférable à un électron par le proton, $I$ est l'énergie moyenne d'excitation du matériau et $\\beta$ et $\\gamma$ sont les facteurs de Lorentz."
   ]
  },
  {
   "cell_type": "code",
   "execution_count": 4,
   "metadata": {},
   "outputs": [],
   "source": [
    "# Constantes des protons et électrons\n",
    "\n",
    "from numpy import sqrt, pi, log\n",
    "\n",
    "# rayon classique d'un électron [m]\n",
    "r_e = 2.8179403227E-13     \n",
    "\n",
    "# énergie de masse d'un électron/c^2 [MeV/(m/s)^2]\n",
    "m_e_c2 = 0.51099895000\n",
    "\n",
    "# énergie de masse d'un proton/c^2 [MeV/(m/s)^2]\n",
    "m_p_c2 = 938.27208816  \n",
    "\n",
    "\n",
    "# facteur de Lorentz selon l'énergie du proton\n",
    "\n",
    "def gamma(T):\n",
    "    return (T/(m_p_c2)) + 1\n",
    "\n",
    "def beta(T):\n",
    "    beta = sqrt((gamma(T)**2 - 1) / gamma(T)**2)\n",
    "    return beta\n",
    "\n",
    "# Décomposition de Te_max comme les équations (6) de la page 4 de l'énoncé\n",
    "\n",
    "a = 2 * m_e_c2\n",
    "b = 1 + (m_e_c2 / m_p_c2)**2\n",
    "d = 2*(m_e_c2 / m_p_c2)\n",
    "\n",
    "\n",
    "def Te_max(T):\n",
    "    return a*(gamma(T)**2 - 1) / (b + d * gamma(T))"
   ]
  },
  {
   "cell_type": "code",
   "execution_count": 5,
   "metadata": {},
   "outputs": [],
   "source": [
    "# fonction de l'arrêt collisionnel massive pour un proton de plus de 3 MeV\n",
    "# Pour faciliter la lecture, l'équation Scol est décomposée en variable t1 et t2\n",
    "\n",
    "\n",
    "def t1(T):\n",
    "    return 2 * pi * r_e**2 *m_e_c2 / (beta(T)**2)\n",
    "def t2(T):\n",
    "    return 2 * m_e_c2 * beta(T)**2 * gamma(T)**2\n",
    "\n",
    "# Scol varie selon le milieu (eau ou os), en n_e et I. Il varie aussi selon l'énergie du proton T\n",
    "\n",
    "def Scol(n_e, T, I):\n",
    "    return t1(T) * n_e * (log(t2(T)*Te_max(T) / I**2) - 2*beta(T)**2)\n"
   ]
  },
  {
   "cell_type": "code",
   "execution_count": 6,
   "metadata": {},
   "outputs": [],
   "source": [
    "# valeurs théorique de l'eau\n",
    "\n",
    "data_water_NSIT = np.loadtxt(\"Scol_water_NSIT.txt\",float)\n",
    "data_water_NSIT_x = data_water_NSIT[:,0]\n",
    "data_water_NSIT_y = data_water_NSIT[:,1]\n",
    "\n",
    "# valeurs théorique de l'os compact\n",
    "\n",
    "data_bone_NSIT = np.loadtxt(\"Scol_bone_NSIT.txt\",float)\n",
    "data_bone_NSIT_x = data_bone_NSIT[:,0]\n",
    "data_bone_NSIT_y = data_bone_NSIT[:,1]\n"
   ]
  },
  {
   "cell_type": "code",
   "execution_count": 7,
   "metadata": {},
   "outputs": [
    {
     "data": {
      "image/png": "[encoded data removed]",
      "text/plain": [
       "<Figure size 432x288 with 1 Axes>"
      ]
     },
     "metadata": {},
     "output_type": "display_data"
    },
    {
     "data": {
      "image/png": "[encoded data removed]",
      "text/plain": [
       "<Figure size 432x288 with 1 Axes>"
      ]
     },
     "metadata": {},
     "output_type": "display_data"
    }
   ],
   "source": [
    "# Présentation des courbes\n",
    "\n",
    "from numpy import linspace, loadtxt\n",
    "from math import exp\n",
    "import matplotlib.pylab as plt\n",
    "\n",
    "##### eau liquide #####\n",
    " \n",
    "\n",
    "xpoints_w = linspace(0.3, 10000, 1000)\n",
    "ypoints_w = []\n",
    "\n",
    "#Les propriétés sont reprises dans les dictionnaires du premier block.\n",
    "# les valeurs de la fonction Scol() sont divisées par la densité pour obtenir le pouvoir d'arrêt collisionnel\n",
    "\n",
    "for T in xpoints_w:\n",
    "    ypoints_w.append(Scol(eau_liq[\"n_e\"], T, eau_liq[\"MEE\"]) / eau_liq[\"Densité\"])\n",
    "\n",
    "plt.plot(data_water_NSIT[:,0], data_water_NSIT[:,1], \"k--\", label=\"Valeurs théoriques du NSIT\")\n",
    "plt.plot(xpoints_w, ypoints_w,\"b\", label=\"Valeurs numérique de l'eau liquide\")\n",
    "plt.xscale(\"log\")\n",
    "plt.yscale(\"log\")\n",
    "plt.xlabel(\"Énergie du proton [MeV]\")\n",
    "plt.ylabel(\"Pouvoir d'arrêt collsionnel [MeV cm^2/g]\")\n",
    "plt.legend()\n",
    "plt.show()\n",
    "\n",
    "\n",
    "##### os compact ######\n",
    "\n",
    "\n",
    "xpoints_b = linspace(0.3, 10000, 1000)\n",
    "ypoints_b = []\n",
    "\n",
    "for T in xpoints_b:\n",
    "    ypoints_b.append(Scol(os_compact[\"n_e\"], T, os_compact[\"MEE\"]) / os_compact[\"Densité\"])\n",
    "\n",
    "\n",
    "plt.plot(data_bone_NSIT[:,0], data_bone_NSIT[:,1], \"k--\", label=\"Valeurs théoriques du NSIT\")\n",
    "plt.plot(xpoints_b, ypoints_b,\"b\", label=\"Valeurs numérique d'un os compact\")\n",
    "plt.xscale(\"log\")\n",
    "plt.yscale(\"log\")\n",
    "plt.xlabel(\"Énergie du proton [MeV]\")\n",
    "plt.ylabel(\"Pouvoir d'arrêt collsionnel [MeV cm^2/g]\")\n",
    "plt.legend()\n",
    "plt.show()\n",
    "\n"
   ]
  },
  {
   "cell_type": "markdown",
   "metadata": {},
   "source": [
    "# Numéro 2\n",
    "\n",
    "L'homogénéité dimensionnelle peut être vérifiée lorsque de deux grandeurs s'expriment dans la même unité. On souhaite vérifier l'homogénéité de $R_{CSDA}$ qui est définie par l'équation suivante: $$R_{C S D A}=\\int_{0}^{T_{i}} \\frac{\\mathrm{dT}^{\\prime}}{\\frac{S_{c o l}}{\\rho}}.$$ Sachant que $R_{C S D A}$ représente la porté des protons dans un milieu, elle doit donc être exprimée en unité longueur. On souhaite donc que le côté gauche de l'équation soit réductible à une unité de longueur. L'énergie $T$ est exprimée en $[M L^2 T^{-2}]$, $S_{col}$, en $[M L T^{-2}]$ et finalement, $\\rho$, en $[M L^{-3}]$. En remplaçant dans l'équation, on obtient: $$\\frac{[M L^2 T^{-2}][M L^{-3}]}{[M L T^{-2}]} = \\left[\\frac{M}{L^2}\\right].$$ Le côté droit de l'équation de départ n'est pas exprimé dans la même unité que le côté gauche, cela réfute l'homogénité dimensionnelle de $R_{CSDA}$. Pour régler le problème d'homogénité il suffit de diviser le côté droit par $\\rho$. Lorsqu'on applique ce changement on obtient: $$ R_{C S D A}=\\int_{0}^{T_{i}} \\frac{\\mathrm{dT}^{\\prime}}{S_{c o l}}.$$ La dimension est $[L]$ de chaque côté de l'équation lorsque le changement est appliqué.\n"
   ]
  },
  {
   "cell_type": "markdown",
   "metadata": {},
   "source": [
    "# Numéro 3\n",
    "Le pouvoir d’arrêt total est bien approximé par le pouvoir d’arrêt collisionnel aux énergies de la protonthérapie. En effet, lorsqu'on compare les valeurs du pouvoir d'arrêt total du NSIT avec le pouvoir d'arrêt collisionnel de 70 à 250 MeV sur le graphique de la question 1 on voit rapidement que les deux courbes sont très près l'une de l'autre. De façon un peu plus quantitative il est possible d'utiliser l'erreur quadratique moyenne pour comparer les deux courbes:"
   ]
  },
  {
   "cell_type": "code",
   "execution_count": 8,
   "metadata": {},
   "outputs": [
    {
     "name": "stdout",
     "output_type": "stream",
     "text": [
      "L'erreur quadratique moyenne pour l'eau est: 0.18963548461816188\n",
      "L'erreur quadratique moyenne pour l'os est: 0.23719006436818366\n"
     ]
    }
   ],
   "source": [
    "#Valeurs de 70-250 MeV des courbes théoriques \n",
    "T = np.array(data_water_NSIT_x[71:105])\n",
    "\n",
    "#Valeurs du pouvoir collisionnel de l'eau du NSIT de 70-250 MeV\n",
    "Scol_eau_NSIT = np.array(data_water_NSIT_y[71:105])\n",
    "\n",
    "#Valeurs du pouvoir collisionnel de l'eau calculée  de 70-250 MeV\n",
    "Scol_eau_calculee = Scol(eau_liq[\"n_e\"], T, eau_liq[\"MEE\"]) / eau_liq[\"Densité\"]\n",
    "\n",
    "#Valeurs du pouvoir collisionnel de l'os du NSIT de 70-250 MeV\n",
    "Scol_os_NSIT = np.array(data_bone_NSIT_y[71:105])\n",
    "\n",
    "#Valeurs du pouvoir collisionnel de l'os calculée de 70-250 MeV\n",
    "Scol_os_calculee = Scol(os_compact[\"n_e\"], T, os_compact[\"MEE\"]) / os_compact[\"Densité\"]\n",
    "\n",
    "# Root mean square error \n",
    "def rmse(y_1,y_2):\n",
    "    return np.sqrt(((y_1 - y_2) ** 2).mean())\n",
    "\n",
    "rmse_val_eau = rmse(Scol_eau_calculee, Scol_eau_NSIT)\n",
    "rmse_val_os = rmse(Scol_os_calculee, Scol_os_NSIT)\n",
    "\n",
    "print(\"L\\'erreur quadratique moyenne pour l\\'eau est: \" + str(rmse_val_eau))\n",
    "print(\"L\\'erreur quadratique moyenne pour l\\'os est: \" + str(rmse_val_os))"
   ]
  },
  {
   "cell_type": "markdown",
   "metadata": {},
   "source": [
    "Comme on peut le constater l'erreur quadratique moyenne est plutôt faible pour des valeurs allant de 7 à 250. Il est à noter que les valeurs théoriques du NSIT prennent en compte les pouvoir d'arrêt électronnique et nucléaire alors que le pouvoir d'arrêt calculée ne comprend que le pouvoir d'arrêt électronnique. On comprend donc que le pouvoir d'arrêt nucléaire n'a pas énormément d'impact sur le résultat sur cette plage de valeur. En effet, le pouvoir d'arrêt nucléaire est souvent négligeable sauf pour des ions de très faible énergie comme on peut le voir sur le graphique suivant (l'eau a été choisie, car l'effet était plus important que pour l'os):   "
   ]
  },
  {
   "cell_type": "code",
   "execution_count": 9,
   "metadata": {},
   "outputs": [
    {
     "data": {
      "image/png": "[encoded data removed]",
      "text/plain": [
       "<Figure size 432x288 with 1 Axes>"
      ]
     },
     "metadata": {},
     "output_type": "display_data"
    }
   ],
   "source": [
    "fichier = \"All_water_data_NSIT.txt\"\n",
    "data = np.loadtxt(fichier, skiprows = 8)\n",
    "\n",
    "\n",
    "plt.plot(data[:,0], data[:,1], \"b\", label=\"Pouvoir d'arrêt électronnique\")\n",
    "plt.plot(data[:,0], data[:,2],\"g\", label=\"Pouvoir d'arrêt nucléaire\")\n",
    "plt.plot(data[:,0], data[:,3],\"k--\", label=\"Pouvoir d'arrêt total\")\n",
    "plt.xscale(\"log\")\n",
    "plt.yscale(\"log\")\n",
    "plt.xlabel(\"Énergie du proton incident [MeV]\")\n",
    "plt.ylabel(\"Pouvoir d'arrêt [MeV cm^2/g]\")\n",
    "plt.legend()\n",
    "plt.title(\"Comparaison entre le pouvoir d'arrêt nucléaire \\n et le pouvoir d'arrêt électronnique pour l'eau\")\n",
    "plt.show()"
   ]
  },
  {
   "cell_type": "markdown",
   "metadata": {},
   "source": [
    "L'autre pouvoir d'arrêt qui a été négligé est le pouvoir d'arrêt radiatif qui apparait lorsque le rayonnement de freinage du proton doit être considéré. Pour qu'il soit considéré le proton doit avoir une énergie bien plus élevé que dans le cadre de la protonthérapie."
   ]
  },
  {
   "cell_type": "markdown",
   "metadata": {},
   "source": [
    "\n",
    "# Numéro 4\n",
    "Une raison qui justifie l'emploi de méthodes numériquse pour intégrer est la complexité importante de la fonction à intégrer soit: $1/S_{col}(T)$ En effet, afin de simplifier la fonction $S_col$, comme présentée au numéro 1, on peut paramétriser celle-ci avec $\\gamma$, on obtient alors la fonction suivante (en utilisant la même notation que sur l'énoncé pour les constantes): $$ S_{col}(\\gamma(T)) = U \\left[ \\frac{\\gamma^2}{(\\gamma^2 -1)} ln\\left(\\frac{ka \\cdot (\\gamma^2-1)^2}{b+\\delta \\gamma} \\right) -2 \\right]$$\n",
    "Sous cette forme, en effectuant un petit changement de variable et modifiant les bornes d'intégration, sachant: $$\\gamma(T) =\\frac{T}{m_{p} c^{2}}+1,$$ il est possible d'intégrer l'inverse de cette fonction par rapport à gamma. Toutefois, en inspectant rapidement l'equation on s'aperçoit rapidement que celle-ci semble extrêmement ardue à évaluer à la main. \n",
    "\n",
    "Néanmoins, il est possible d'utiliser un algorithme ayant pour but de vérifier si la solution de l'intégrale est formée de fonctions élementaires ce qui nous permettrait d'avoir une fonction analytique et il nous resterait plus qu'à évaluer la valeur de cette fonction aux bornes. Un exemple de ce genre d'algorithme est l'algorithme de Risch. Toutefois, celui-ci ne done aucune une solution. \n",
    "\n",
    "Finalement, une dernière approche analytique pourrait être d'utiliser les premiers termes de la série de Maclaurin et d'intégrer ces termes. Cependant, les dérivés de cette fonction bien que calculables (comme nous allons le voir pour la dérivée première au numéro 5) elles sont assez complexes. Il est donc plus simple d'évaluer l'intégrale numériquement.  \n",
    "\n"
   ]
  },
  {
   "cell_type": "markdown",
   "metadata": {},
   "source": [
    "# Numéro 5\n",
    "Intégration par la méthode des trapèzes et par Simpson"
   ]
  },
  {
   "cell_type": "code",
   "execution_count": 10,
   "metadata": {},
   "outputs": [],
   "source": [
    "def trapeze(func,a,b,N):\n",
    "    #--Calcul d'intégration par méthode des trapèzes\n",
    "\n",
    "    #--Paramètres:\n",
    "    #   func: Fonction à intégrer\n",
    "    #   a,b: Borne inférieure(a) et suppérieure(b) de l'intérale\n",
    "    #   N: Nombre de tranches\n",
    "\n",
    "    #--Retourne la solution à l'intégration\n",
    "\n",
    "    h = abs(b - a) / N  # Largeur des tranches\n",
    "    x= np.linspace(a,b,N+1) #N+1 points dans l'intervale [a,b]\n",
    "    y=func(x)\n",
    "    return h*(0.5*y[0]+0.5*y[-1]+np.sum(y[1:-1])) #Aire de l'ensemble des segments\n",
    "\n",
    "def simpson(func,a,b,N):\n",
    "    #--Calcul d'intégration par méthode de Simpson\n",
    "\n",
    "    #--Paramètres:\n",
    "    #   func: Fonction à intégrer\n",
    "    #   a,b: Borne inférieure(a) et suppérieure(b) de l'intérale\n",
    "    #   N: Nombre de tranches\n",
    "\n",
    "    #--Retourne la solution à l'intégration\n",
    "    \n",
    "    h = abs(b - a) / N  # Largeur des tranches\n",
    "    x= np.linspace(a,b,N+1) #N+1 points dans l'intervale [a,b]\n",
    "    y=func(x)\n",
    "    yimp = y[1:-1:2] #Somme sur les impairs\n",
    "    s1 = np.sum(yimp)\n",
    "    ypair = y[2:-2:2] #Somme sur les pairs\n",
    "    s2 = np.sum(ypair)\n",
    "    return h/3*(y[0] + y[-1] + s1*4+s2*2) #Aire de l'ensemble des segments"
   ]
  },
  {
   "cell_type": "markdown",
   "metadata": {},
   "source": [
    "Algorithme d'intégration pour calculer la portée des protons et pour obtenir Nmax de l'erreur machine."
   ]
  },
  {
   "cell_type": "code",
   "execution_count": 11,
   "metadata": {},
   "outputs": [],
   "source": [
    "def error(func,a,b,N0,precision,type):\n",
    "    #--Intégration à l'aide de la méthode de Simpson ou de trapèzes avec un nombre de\n",
    "    #tranches maximale permetant de se raprocher d'une certaine précision\n",
    "\n",
    "    #--Paramètres:\n",
    "    #   func: Fonction à intégrer\n",
    "    #   a,b: Borne inférieure(a) et suppérieure(b)\n",
    "    #   N0: Nombre initial de tranches \n",
    "    #   precision: Précision recherchée\n",
    "    #   type: 'Simpson' ou 'Trapèzes'\n",
    "    #\n",
    "    #--Retourne la solution à l'intégrale selon la méthode avec un nombre de tranche \n",
    "    #maximale permis par la précision recherchée.\n",
    "    #   iN: Valeurs de l'intégrale calculée à Nmax tranches.\n",
    "    #   Nombre de tranches maximales pour atteindre la précision recherchée.\n",
    "    #   err[-1] Valeur de l'erreur sur le calcul l'intégrale\n",
    "    #\n",
    "    #Initialisation des listes de solutions et d'erreurs'intérale\n",
    "    s = []\n",
    "    err = []\n",
    "    #Première itération\n",
    "    i0 = trapeze(func,a,b,N0)\n",
    "    s.append(i0)\n",
    "    \n",
    "    #Deuxième itération avec 2*N0\n",
    "    N = 2 * N0\n",
    "    if type == 'Trapèzes':\n",
    "        iN = trapeze(func,a,b,N)\n",
    "        s.append(iN)\n",
    "        err.append(abs(iN-i0)/3) #Erreur d'approximation sur l'évaluation avec 2N tranches Trapèzes\n",
    "        \n",
    "        #Itérations pour trouvées Nmax qui est atteint lorsque l'erreur est supérieur à la précision recherchée en doublant le nombre de tranches.\n",
    "        while err[-1] >= precision: #Cherche l'erreur se raprochant d ela précision désirée\n",
    "            i = iN\n",
    "            N = 2 * N\n",
    "            iN = trapeze(func,a,b,N)\n",
    "            s.append(iN)\n",
    "            err.append(abs((iN - i) / 3)) #Calcul d'erreur pour la méthode de trapèzes\n",
    "    if type == 'Simpson':\n",
    "        iN = simpson(func,a,b,N)\n",
    "        s.append(iN)\n",
    "        err.append(abs(iN-i0)/15) #Erreur d'approximation sur l'évaluation avec 2N tranches Simpson\n",
    "        \n",
    "        #Itérations pour trouvées Nmax qui est atteint lorsque l'erreur est supérieur à la précision recherchée en doublant le nombre de tranches.\n",
    "        while err[-1] >= precision:\n",
    "            i = iN\n",
    "            N = 2 * N\n",
    "            iN = simpson(func,a,b,N)\n",
    "            s.append(iN)\n",
    "            err.append(abs((iN - i) / 15)) #Calcul d'erreur pour la méthode de Simpson\n",
    "    return iN,N,err\n",
    "    if type != 'Simpson' and type!='Trapèzes':\n",
    "        print(\"Méthode d'intégration invalide. Type = 'Simpson' ou 'Trapèzes'\")\n",
    "\n",
    "def Rcsda(Tp, n_e, I, rho,type):\n",
    "    #Calcul de la portée de proton par CSDA à laide d'une méthode d'intégration.\n",
    "\n",
    "    #Paramètres:\n",
    "    #   Tp: Énergie du proton\n",
    "    #   n_e: Densité électronique\n",
    "    #   I: Énergie moyenne d'excitation\n",
    "    #   rho: Masse volumique\n",
    "    #   type: 'Simpson' ou 'Trapèzes'\n",
    "\n",
    "    #Retourne la portée des proton dans le matériaux\n",
    "    func = lambda T:1/ Scol(n_e,T, I) #Fonction à intégrée par rapport à l'énergie\n",
    "    portee = 0\n",
    "    if type == 'Trapèzes':\n",
    "        portee = error(func, a=0.1, b=Tp, N0=1,precision=1e-13,type=type)\n",
    "    if type == 'Simpson':\n",
    "        portee = error(func, a=0.1, b=Tp, N0=1,precision=1e-13,type=type)\n",
    "    if type != 'Simpson' and type!='Trapèzes':\n",
    "        print(\"Méthode d'intégration invalide. Type = 'Simpson' ou 'Trapèzes'\")\n",
    "    return portee"
   ]
  },
  {
   "cell_type": "markdown",
   "metadata": {},
   "source": [
    "Calcul de la portée des protons dans l'eau et dans l'os compact à l'aide de la méthode par trapèze et avec la méthode de Simpson. "
   ]
  },
  {
   "cell_type": "code",
   "execution_count": 12,
   "metadata": {},
   "outputs": [
    {
     "name": "stdout",
     "output_type": "stream",
     "text": [
      "On obtient une portée de 15.76724777659209 cm dans l'eau avec l'algorithme d'intégrale par la \n",
      " méthode des trapezes avec une précision de 5.6e-14 cm pour un maximum de 2097152 tranches.\n",
      "On obtient une portée de 15.76724777659208 cm dans l'eau avec l'algorithme d'intégrale par la \n",
      " méthode de Simpson avec une précision de 4.5e-14 cm pour un maximum de 131072 tranches.\n",
      "On obtient une portée de 9.16355963410864 cm dans l'os compact avec l'algorithme d'intégrale par \n",
      " la méthode des trapezes avec une précision de 4.9e-14 cm pour un maximum de 8388608 tranches.\n",
      "On obtient une portée de 9.16355963410865 cm dans l'os compact avec l'algorithme d'intégrale par \n",
      " la méthode des Simpson avec une précision de 6.4e-14 cm pour un maximum de 131072 tranches.\n"
     ]
    }
   ],
   "source": [
    "#Portée dans l'eau avec la méthode d'intégration par trapèzes\n",
    "portee_eau_t, Nmax_eau_t, err_eau_t = Rcsda(150, eau_liq[\"n_e\"],eau_liq[\"MEE\"], eau_liq[\"Densité\"],'Trapèzes')\n",
    "print(\"On obtient une portée de {:.14f} cm dans l'eau avec l'algorithme d'intégrale par la \\n méthode des trapezes avec une précision de {:.2} cm pour un maximum de {} tranches.\".format(portee_eau_t, err_eau_t[-1], Nmax_eau_t ))\n",
    "#Portée dans l'eau avec la méthode d'intégration par Simpson\n",
    "portee_eau_s, Nmax_eau_s, err_eau_s = Rcsda(150, eau_liq[\"n_e\"],eau_liq[\"MEE\"], eau_liq[\"Densité\"],'Simpson')\n",
    "print(\"On obtient une portée de {:.14f} cm dans l'eau avec l'algorithme d'intégrale par la \\n méthode de Simpson avec une précision de {:.2} cm pour un maximum de {} tranches.\".format(portee_eau_s, err_eau_s[-1], Nmax_eau_s ))\n",
    "#Portée dans l'os compact avec la méthode par trapèzes\n",
    "portee_os_t, Nmax_os_t, err_os_t = Rcsda(150, os_compact[\"n_e\"],os_compact[\"MEE\"], os_compact[\"Densité\"],'Trapèzes')\n",
    "print(\"On obtient une portée de {:.14f} cm dans l'os compact avec l'algorithme d'intégrale par \\n la méthode des trapezes avec une précision de {:.2} cm pour un maximum de {} tranches.\".format(portee_os_t, err_os_t[-1], Nmax_os_t ))\n",
    "#Portée dans l'os compact avec la méthode par Simpson\n",
    "portee_os_s, Nmax_os_s, err_os_s = Rcsda(150, os_compact[\"n_e\"],os_compact[\"MEE\"], os_compact[\"Densité\"],'Simpson')\n",
    "print(\"On obtient une portée de {:.14f} cm dans l'os compact avec l'algorithme d'intégrale par \\n la méthode des Simpson avec une précision de {:.2} cm pour un maximum de {} tranches.\".format(portee_os_s, err_os_s[-1], Nmax_os_s ))\n"
   ]
  },
  {
   "cell_type": "markdown",
   "metadata": {},
   "source": [
    "Maintenant que nous connaissons Nmax, on s'intéresse à la portée calculée en fonction du nombre de tranches pour chaque méthodes. Nous avons choisi de faire une fonction permettant de calculer le nombre de tranches en doublant pour se rendre à ce Nmax qui permet de calculer la portée selon les deux méthode. Notre fonction calcul aussi la différence logarithmique avec la valeur trouvée précédement pour mettre en évidence le comportement des algorithmes. "
   ]
  },
  {
   "cell_type": "code",
   "execution_count": 13,
   "metadata": {},
   "outputs": [],
   "source": [
    "\n",
    "def npoint(Nmax):\n",
    "    return log(Nmax)/log(2) #Nombres de points pour doubler le nombre de tranches jusqu'à Nmax\n",
    "\n",
    "def dif(materiaux,type):\n",
    "    #--Calcul de la portée Rcsda avec un intégration selon la méthode de Simpson ou des trapèzes\n",
    "    #pour un matériaux donné.\n",
    "    #--Paramètres:\n",
    "    #   matériaux: 'eau_liq' ou 'os_compact'\n",
    "    #   type: 'Simpson' ou 'Trapèzes'\n",
    "    #\n",
    "    #--Retourne une liste du nombre de tranches, des valeurs calculées de Rcsda et de la\n",
    "    #différence logarithmique avec la valeur calculée à Nmax.\n",
    "\n",
    "    #Initialisation des listes\n",
    "    Nmax = 0\n",
    "    N =[]\n",
    "    Rcsda = []\n",
    "    differ = []\n",
    "    \n",
    "    #Nombres de points N et définition de la fonction selon le matériaux et la méthode\n",
    "    if materiaux == 'eau_liq':\n",
    "        func = lambda T: 1 / Scol(eau_liq[\"n_e\"], T, eau_liq[\"MEE\"])\n",
    "        if type == 'Trapèzes':\n",
    "            Nmax = Nmax_eau_t\n",
    "        if type == 'Simpson':\n",
    "            Nmax =Nmax_eau_s\n",
    "    if materiaux == 'os_compact':\n",
    "        func = lambda T: 1/ Scol(os_compact[\"n_e\"],T, os_compact[\"MEE\"])\n",
    "        if type == 'Trapèzes':\n",
    "            Nmax = Nmax_os_t\n",
    "        if type == 'Simpson':\n",
    "            Nmax =Nmax_os_s\n",
    "    #Calcul de Rcsda selon la méthode d'intégration\n",
    "    if type == 'Trapèzes':\n",
    "        k = npoint(Nmax)\n",
    "        for i in range(int(k + 1)):\n",
    "            N.append(2 ** i)\n",
    "        for i in range(len(N)):\n",
    "            s = trapeze(func, 0.1, 150, N[i])\n",
    "            Rcsda.append(s)\n",
    "    differ = [np.log10(abs(s- x)) for x in Rcsda] #différence logarithmique\n",
    "    if type == 'Simpson':\n",
    "        k = npoint(Nmax)\n",
    "        for i in range(int(k + 1)):\n",
    "            N.append(2 ** i)\n",
    "        for i in range(len(N)):\n",
    "            s = simpson(func, 0.1, 150, N[i])\n",
    "            Rcsda.append(s)\n",
    "    differ = [np.log10(abs(s- x)) for x in Rcsda] #différence logarithmique\n",
    "    return N,Rcsda,differ"
   ]
  },
  {
   "cell_type": "code",
   "execution_count": 14,
   "metadata": {},
   "outputs": [
    {
     "name": "stderr",
     "output_type": "stream",
     "text": [
      "/Users/beatricelessard-hamel/anaconda3/lib/python3.6/site-packages/ipykernel_launcher.py:42: RuntimeWarning: divide by zero encountered in log10\n",
      "/Users/beatricelessard-hamel/anaconda3/lib/python3.6/site-packages/ipykernel_launcher.py:50: RuntimeWarning: divide by zero encountered in log10\n"
     ]
    }
   ],
   "source": [
    "N_eau_t,Rcsda_eau_t,Dif_eau_t = dif('eau_liq','Trapèzes')\n",
    "N_eau_s,Rcsda_eau_s,Dif_eau_s = dif('eau_liq','Simpson')\n",
    "N_os_t,Rcsda_os_t,Dif_os_t = dif('os_compact','Trapèzes')\n",
    "N_os_s,Rcsda_os_s,Dif_os_s = dif('os_compact','Simpson')"
   ]
  },
  {
   "cell_type": "markdown",
   "metadata": {},
   "source": [
    "L'erreur de division par 0 est causé par le dernier point puisque la différence est de 0."
   ]
  },
  {
   "cell_type": "code",
   "execution_count": 15,
   "metadata": {},
   "outputs": [
    {
     "data": {
      "image/png": "[encoded data removed]",
      "text/plain": [
       "<Figure size 432x288 with 1 Axes>"
      ]
     },
     "metadata": {},
     "output_type": "display_data"
    }
   ],
   "source": [
    "plt.plot(N_eau_t,Rcsda_eau_t,'-',marker='.',label=\"Portée dans l'eau. Intégration par trapèzes\")\n",
    "plt.plot(N_eau_s,Rcsda_eau_s,'-',marker='.',label=\"Portée dans l'eau. Intégration par Simpson\")\n",
    "plt.plot(N_os_t,Rcsda_os_t,'--',marker='.',label=\"Portée dans l'os. Intégration par trapèzes\")\n",
    "plt.plot(N_os_s,Rcsda_os_s,'--',marker='.',label=\"Portée dans l'os. Intégration par Simpson\")\n",
    "\n",
    "plt.ylabel(\"Portée [cm]\")\n",
    "plt.xlabel(\"Nombre de tranches\")\n",
    "plt.legend()\n",
    "plt.xscale(\"log\")\n",
    "plt.show()"
   ]
  },
  {
   "cell_type": "markdown",
   "metadata": {},
   "source": [
    "On voit que la méthode d'intégration par Simpson atteint plus rapidement la valeur attendue. Par contre, on remarque que c'est difficile d'observer le comportement de l'algorithme apres plus de 100 tranches. En effet, les différences sont dans les décimales. C'est pourquoi nous avons choisi de représenter la différence logarithmique entre la valeur la plus précise et la valeur obtenue pour un nombre de tranche. La différence logarithmique permet d'observer la différence dans les décimales."
   ]
  },
  {
   "cell_type": "code",
   "execution_count": 16,
   "metadata": {},
   "outputs": [
    {
     "data": {
      "image/png": "[encoded data removed]",
      "text/plain": [
       "<Figure size 432x288 with 1 Axes>"
      ]
     },
     "metadata": {},
     "output_type": "display_data"
    }
   ],
   "source": [
    "plt.plot(N_eau_t,Dif_eau_t,'-',marker='.',label=\"Portée dans l'eau. Intégration par trapèzes\")\n",
    "plt.plot(N_eau_s,Dif_eau_s,'--',marker='.',label=\"Portée dans l'eau. Intégration par Simpson\")\n",
    "plt.plot(N_os_t,Dif_os_t,'-',marker='.',label=\"Portée dans l'os. Intégration par trapèzes\")\n",
    "plt.plot(N_os_s,Dif_os_s,'--',marker='.',label=\"Portée dans l'os. Intégration par Simpson\")\n",
    "\n",
    "plt.legend()\n",
    "plt.ylabel(\"Différence logarithmique\")\n",
    "plt.xlabel(\"Nombre de tranches\")\n",
    "plt.xscale(\"log\")\n",
    "plt.show()"
   ]
  },
  {
   "cell_type": "markdown",
   "metadata": {},
   "source": [
    "On peut voir que dans les premières 200 tranches, l'algorithme de Simpson est meilleur. Après jusqu'à 10 000 tranches les deux algorithmes sont plutôt semblables. Finalement Simpson atteint la meilleure précision environ 1 000 000 tranches avant la méthode par trapèzes."
   ]
  },
  {
   "cell_type": "markdown",
   "metadata": {},
   "source": [
    "# Numéro 6\n",
    "L'objet de ce numéro est d'établir l’expression analytique du pouvoir d'arrêt en fonction de $T$. Pour ce faire, il serait particulièrement dommage de ne pas utiliser l'expression de $S_{col}(\\gamma)$ utilisé au numéro 4. Pour s'en servir il suffit d'utiliser la règle de dérivation en chaîne, dans ce cas: $$\\frac{dS_{col}(T)}{dT} = \\frac{dS_{col}(\\gamma)}{d\\gamma} \\frac{d\\gamma(T)}{dT}. $$ \n",
    "En utilisant Wolfram|Alpha on obtient l'équation suivante: \n",
    "$$ \\frac{dS_{col}(\\gamma)}{d\\gamma} = -\\dfrac{U{\\gamma}\\left(\\left(2{\\delta}{\\gamma}+2b\\right)\\ln\\left(\\frac{ak\\left({\\gamma}^2-1\\right)^2}{{\\delta}{\\gamma}+b}\\right)-3{\\delta}{\\gamma}^3-4b{\\gamma}^2-{\\delta}{\\gamma}\\right)}{\\left({\\delta}{\\gamma}+b\\right)\\left({\\gamma}^2-1\\right)^2}.$$ \n",
    "On obtient facilement: $$\\frac{d\\gamma(T)}{dT} = \\frac{1}{m_pc^2}.$$\n",
    "Donc, $$\\frac{dS_{col}(T)}{dT} = -\\frac{U}{m_pc^2}\\left[ \\dfrac{{\\gamma}\\left(\\left(2{\\delta}{\\gamma}+2b\\right)\\ln\\left(\\frac{ak\\left({\\gamma}^2-1\\right)^2}{{\\delta}{\\gamma}+b}\\right)-3{\\delta}{\\gamma}^3-4b{\\gamma}^2-{\\delta}{\\gamma}\\right)}{\\left({\\delta}{\\gamma}+b\\right)\\left({\\gamma}^2-1\\right)^2} \\right].$$\n",
    "On peut tracer cette fonction de la dérivée du pouvoir d'arrêt en fonction de l'énergie du proton incident: \n"
   ]
  },
  {
   "cell_type": "code",
   "execution_count": 17,
   "metadata": {},
   "outputs": [
    {
     "data": {
      "image/png": "[encoded data removed]",
      "text/plain": [
       "<Figure size 432x288 with 1 Axes>"
      ]
     },
     "metadata": {},
     "output_type": "display_data"
    }
   ],
   "source": [
    "# Rappel des différentes paramètres de la fonctions \n",
    "a = 2 * m_e_c2\n",
    "b = 1 + (m_e_c2 / m_p_c2)**2\n",
    "d = 2*(m_e_c2 / m_p_c2)\n",
    "U = 2 * pi * r_e**2 *m_e_c2 \n",
    "T = np.linspace(3, 250, 1000)\n",
    "\n",
    "def Scol_derivative(T, n_e, I): \n",
    "    return -U*n_e/m_p_c2*(((gamma(T)*(2*d*gamma(T)+2*b)*np.log((a*a/I**2*(gamma(T)**2-1)**2)/(d*gamma(T)+b)))- 3*d*gamma(T)**3 \\\n",
    "                           -4*b*gamma(T)**2 -d*gamma(T))/((d*gamma(T)+b)*(gamma(T)**2-1)**2))\n",
    "\n",
    "\n",
    "\n",
    "plt.plot(T, Scol_derivative(T, eau_liq[\"n_e\"], eau_liq[\"MEE\"]),\"k--\", label=\"Pouvoir d'arrêt total\")\n",
    "plt.xscale(\"log\")\n",
    "plt.xlabel(\"Énergie du proton incident [MeV]\")\n",
    "plt.ylabel(\"Dérivée du pouvoir d'arrêt [cm$^{-1}$]\")\n",
    "plt.legend()\n",
    "plt.title(\"Graphique de la dérivée du pouvoir d'arrêt\")\n",
    "plt.show() "
   ]
  },
  {
   "cell_type": "markdown",
   "metadata": {},
   "source": [
    "# Numéro 7"
   ]
  },
  {
   "cell_type": "markdown",
   "metadata": {},
   "source": [
    "On reprend les données calculées d'erreurs d'approximations de façon pratique et d'intégrales pour chaque nombre de tranches calculées precedement au numéro 5. Pour ce qui est de l'erreur d'approximation pour la méthode de trapèzes, on reprend l'équation de la dérivée trouvée précedement. "
   ]
  },
  {
   "cell_type": "code",
   "execution_count": 18,
   "metadata": {},
   "outputs": [],
   "source": [
    "err_approx_eau = []\n",
    "err_approx_os = []\n",
    "def err_approx(a,b,N,materiaux):\n",
    "    h = abs(b - a) / N\n",
    "    if materiaux == 'eau_liq':\n",
    "        funcderiv = lambda T: Scol_derivative(T, eau_liq[\"n_e\"], eau_liq[\"MEE\"])\n",
    "    if materiaux == 'os_compact':\n",
    "        funcderiv = lambda T: Scol_derivative(T, os_compact[\"n_e\"], os_compact[\"MEE\"])\n",
    "    return abs(1/12 *h**2 *(funcderiv(a)-funcderiv(b)))\n",
    "\n",
    "for i in range(len(N_eau_s)):\n",
    "    s = err_approx(0.1,150,N_eau_t[i],'eau_liq')\n",
    "    err_approx_eau.append(s)\n",
    "for i in range(len(N_eau_s)):\n",
    "    s = err_approx(0.1,150,N_os_t[i],'os_compact')\n",
    "    err_approx_os.append(s)"
   ]
  },
  {
   "cell_type": "code",
   "execution_count": 19,
   "metadata": {},
   "outputs": [
    {
     "data": {
      "text/html": [
       "<div>\n",
       "<style scoped>\n",
       "    .dataframe tbody tr th:only-of-type {\n",
       "        vertical-align: middle;\n",
       "    }\n",
       "\n",
       "    .dataframe tbody tr th {\n",
       "        vertical-align: top;\n",
       "    }\n",
       "\n",
       "    .dataframe thead th {\n",
       "        text-align: right;\n",
       "    }\n",
       "</style>\n",
       "<table border=\"1\" class=\"dataframe\">\n",
       "  <thead>\n",
       "    <tr style=\"text-align: right;\">\n",
       "      <th></th>\n",
       "      <th>Nombre de tranches</th>\n",
       "      <th>Portée calculée Trapèzes [cm]</th>\n",
       "      <th>Portée calculée Simpson [cm]</th>\n",
       "      <th>Erreur pratique Trapèzes</th>\n",
       "      <th>Erreur pratique Simpson</th>\n",
       "      <th>Erreur approximation Trapèzes</th>\n",
       "    </tr>\n",
       "  </thead>\n",
       "  <tbody>\n",
       "    <tr>\n",
       "      <th>0</th>\n",
       "      <td>2</td>\n",
       "      <td>15.197602</td>\n",
       "      <td>9.235192</td>\n",
       "      <td>4.482712e-01</td>\n",
       "      <td>1.195390e-01</td>\n",
       "      <td>909882.880825</td>\n",
       "    </tr>\n",
       "    <tr>\n",
       "      <th>1</th>\n",
       "      <td>4</td>\n",
       "      <td>15.599656</td>\n",
       "      <td>15.645873</td>\n",
       "      <td>1.340182e-01</td>\n",
       "      <td>5.853431e-03</td>\n",
       "      <td>227470.720206</td>\n",
       "    </tr>\n",
       "    <tr>\n",
       "      <th>2</th>\n",
       "      <td>8</td>\n",
       "      <td>15.718621</td>\n",
       "      <td>15.733674</td>\n",
       "      <td>3.965504e-02</td>\n",
       "      <td>1.640133e-03</td>\n",
       "      <td>56867.680052</td>\n",
       "    </tr>\n",
       "    <tr>\n",
       "      <th>3</th>\n",
       "      <td>16</td>\n",
       "      <td>15.753432</td>\n",
       "      <td>15.758276</td>\n",
       "      <td>1.160363e-02</td>\n",
       "      <td>4.506334e-04</td>\n",
       "      <td>14216.920013</td>\n",
       "    </tr>\n",
       "    <tr>\n",
       "      <th>4</th>\n",
       "      <td>32</td>\n",
       "      <td>15.763453</td>\n",
       "      <td>15.765036</td>\n",
       "      <td>3.340259e-03</td>\n",
       "      <td>1.171601e-04</td>\n",
       "      <td>3554.230003</td>\n",
       "    </tr>\n",
       "    <tr>\n",
       "      <th>5</th>\n",
       "      <td>64</td>\n",
       "      <td>15.766261</td>\n",
       "      <td>15.766793</td>\n",
       "      <td>9.358860e-04</td>\n",
       "      <td>2.688568e-05</td>\n",
       "      <td>888.557501</td>\n",
       "    </tr>\n",
       "    <tr>\n",
       "      <th>6</th>\n",
       "      <td>128</td>\n",
       "      <td>15.767012</td>\n",
       "      <td>15.767197</td>\n",
       "      <td>2.505219e-04</td>\n",
       "      <td>4.413443e-06</td>\n",
       "      <td>222.139375</td>\n",
       "    </tr>\n",
       "    <tr>\n",
       "      <th>7</th>\n",
       "      <td>256</td>\n",
       "      <td>15.767199</td>\n",
       "      <td>15.767263</td>\n",
       "      <td>6.212928e-05</td>\n",
       "      <td>1.336528e-07</td>\n",
       "      <td>55.534844</td>\n",
       "    </tr>\n",
       "    <tr>\n",
       "      <th>8</th>\n",
       "      <td>512</td>\n",
       "      <td>15.767239</td>\n",
       "      <td>15.767261</td>\n",
       "      <td>1.359277e-05</td>\n",
       "      <td>5.172131e-07</td>\n",
       "      <td>13.883711</td>\n",
       "    </tr>\n",
       "    <tr>\n",
       "      <th>9</th>\n",
       "      <td>1024</td>\n",
       "      <td>15.767247</td>\n",
       "      <td>15.767253</td>\n",
       "      <td>2.436991e-06</td>\n",
       "      <td>2.563205e-07</td>\n",
       "      <td>3.470928</td>\n",
       "    </tr>\n",
       "    <tr>\n",
       "      <th>10</th>\n",
       "      <td>2048</td>\n",
       "      <td>15.767248</td>\n",
       "      <td>15.767249</td>\n",
       "      <td>3.223950e-07</td>\n",
       "      <td>7.649406e-08</td>\n",
       "      <td>0.867732</td>\n",
       "    </tr>\n",
       "    <tr>\n",
       "      <th>11</th>\n",
       "      <td>4096</td>\n",
       "      <td>15.767248</td>\n",
       "      <td>15.767248</td>\n",
       "      <td>2.585912e-08</td>\n",
       "      <td>1.459724e-08</td>\n",
       "      <td>0.216933</td>\n",
       "    </tr>\n",
       "    <tr>\n",
       "      <th>12</th>\n",
       "      <td>8192</td>\n",
       "      <td>15.767248</td>\n",
       "      <td>15.767248</td>\n",
       "      <td>2.825580e-10</td>\n",
       "      <td>1.799290e-09</td>\n",
       "      <td>0.054233</td>\n",
       "    </tr>\n",
       "    <tr>\n",
       "      <th>13</th>\n",
       "      <td>16384</td>\n",
       "      <td>15.767248</td>\n",
       "      <td>15.767248</td>\n",
       "      <td>6.542553e-10</td>\n",
       "      <td>1.556308e-10</td>\n",
       "      <td>0.013558</td>\n",
       "    </tr>\n",
       "    <tr>\n",
       "      <th>14</th>\n",
       "      <td>32768</td>\n",
       "      <td>15.767248</td>\n",
       "      <td>15.767248</td>\n",
       "      <td>2.046180e-10</td>\n",
       "      <td>1.094781e-11</td>\n",
       "      <td>0.003390</td>\n",
       "    </tr>\n",
       "    <tr>\n",
       "      <th>15</th>\n",
       "      <td>65536</td>\n",
       "      <td>15.767248</td>\n",
       "      <td>15.767248</td>\n",
       "      <td>5.381177e-11</td>\n",
       "      <td>7.082927e-13</td>\n",
       "      <td>0.000847</td>\n",
       "    </tr>\n",
       "    <tr>\n",
       "      <th>16</th>\n",
       "      <td>131072</td>\n",
       "      <td>15.767248</td>\n",
       "      <td>15.767248</td>\n",
       "      <td>1.361992e-11</td>\n",
       "      <td>4.476419e-14</td>\n",
       "      <td>0.000212</td>\n",
       "    </tr>\n",
       "  </tbody>\n",
       "</table>\n",
       "</div>"
      ],
      "text/plain": [
       "    Nombre de tranches  Portée calculée Trapèzes [cm]  \\\n",
       "0                    2                      15.197602   \n",
       "1                    4                      15.599656   \n",
       "2                    8                      15.718621   \n",
       "3                   16                      15.753432   \n",
       "4                   32                      15.763453   \n",
       "5                   64                      15.766261   \n",
       "6                  128                      15.767012   \n",
       "7                  256                      15.767199   \n",
       "8                  512                      15.767239   \n",
       "9                 1024                      15.767247   \n",
       "10                2048                      15.767248   \n",
       "11                4096                      15.767248   \n",
       "12                8192                      15.767248   \n",
       "13               16384                      15.767248   \n",
       "14               32768                      15.767248   \n",
       "15               65536                      15.767248   \n",
       "16              131072                      15.767248   \n",
       "\n",
       "    Portée calculée Simpson [cm]  Erreur pratique Trapèzes  \\\n",
       "0                       9.235192              4.482712e-01   \n",
       "1                      15.645873              1.340182e-01   \n",
       "2                      15.733674              3.965504e-02   \n",
       "3                      15.758276              1.160363e-02   \n",
       "4                      15.765036              3.340259e-03   \n",
       "5                      15.766793              9.358860e-04   \n",
       "6                      15.767197              2.505219e-04   \n",
       "7                      15.767263              6.212928e-05   \n",
       "8                      15.767261              1.359277e-05   \n",
       "9                      15.767253              2.436991e-06   \n",
       "10                     15.767249              3.223950e-07   \n",
       "11                     15.767248              2.585912e-08   \n",
       "12                     15.767248              2.825580e-10   \n",
       "13                     15.767248              6.542553e-10   \n",
       "14                     15.767248              2.046180e-10   \n",
       "15                     15.767248              5.381177e-11   \n",
       "16                     15.767248              1.361992e-11   \n",
       "\n",
       "    Erreur pratique Simpson  Erreur approximation Trapèzes  \n",
       "0              1.195390e-01                  909882.880825  \n",
       "1              5.853431e-03                  227470.720206  \n",
       "2              1.640133e-03                   56867.680052  \n",
       "3              4.506334e-04                   14216.920013  \n",
       "4              1.171601e-04                    3554.230003  \n",
       "5              2.688568e-05                     888.557501  \n",
       "6              4.413443e-06                     222.139375  \n",
       "7              1.336528e-07                      55.534844  \n",
       "8              5.172131e-07                      13.883711  \n",
       "9              2.563205e-07                       3.470928  \n",
       "10             7.649406e-08                       0.867732  \n",
       "11             1.459724e-08                       0.216933  \n",
       "12             1.799290e-09                       0.054233  \n",
       "13             1.556308e-10                       0.013558  \n",
       "14             1.094781e-11                       0.003390  \n",
       "15             7.082927e-13                       0.000847  \n",
       "16             4.476419e-14                       0.000212  "
      ]
     },
     "execution_count": 19,
     "metadata": {},
     "output_type": "execute_result"
    }
   ],
   "source": [
    "import pandas as pd\n",
    "data = {'Nombre de tranches': N_eau_s[1:], 'Portée calculée Trapèzes [cm]': Rcsda_eau_t[1:-4],\n",
    "        \"Portée calculée Simpson [cm]\": Rcsda_eau_s[:-1], \"Erreur pratique Trapèzes\":err_eau_t[:-4],\n",
    "        \"Erreur pratique Simpson\":err_eau_s,\"Erreur approximation Trapèzes\":err_approx_os[1:]}\n",
    "pd.DataFrame(data)\n"
   ]
  },
  {
   "cell_type": "markdown",
   "metadata": {},
   "source": [
    "Le tableau ne permet pas d'afficher plus de 6 décimales. Par contre, on remarque le comportement observé dans la figure de la différence logarithmique. "
   ]
  },
  {
   "cell_type": "markdown",
   "metadata": {},
   "source": [
    "# Numéro 8\n",
    "10 000 valeurs d'énergies du protons incidents ont été simulées avec la distribution moyal avec son maximum à 150 MeV:"
   ]
  },
  {
   "cell_type": "code",
   "execution_count": 20,
   "metadata": {},
   "outputs": [
    {
     "data": {
      "image/png": "[encoded data removed]",
      "text/plain": [
       "<Figure size 432x288 with 1 Axes>"
      ]
     },
     "metadata": {},
     "output_type": "display_data"
    }
   ],
   "source": [
    "from scipy.stats import moyal\n",
    "import matplotlib.pyplot as plt \n",
    "import numpy as np\n",
    "\n",
    "#Densité de probabilité moyal avec maximum à 150\n",
    "moyal_150 = moyal(loc=150, scale=4)\n",
    "\n",
    "#Énergie du proton incident\n",
    "E = np.linspace(moyal_150.ppf(0.01), moyal_150.ppf(0.99), 10000)\n",
    "\n",
    "#Densité de probabilité de l'énergie\n",
    "p = moyal_150.pdf(E)\n",
    "\n",
    "#10 000 valeurs d'énergie suivant la densité de probabilité moyal\n",
    "T = moyal_150.rvs(size=10000)\n",
    "\n",
    "\n",
    "plt.plot(E, p, \"k--\", label=\"Densité de probabilité moyal\")\n",
    "plt.hist(T, density=True, bins = 100, label=\"Variables aléatoires d'énergies générées\")\n",
    "plt.xlabel(\"Énergie du proton incident [MeV]\")\n",
    "plt.ylabel(\"Densité de probabilité [-]\")\n",
    "plt.legend()\n",
    "plt.title(\"Variables aléatoires générées suivant \\n la distribution moyal\")\n",
    "plt.show()\n"
   ]
  },
  {
   "cell_type": "markdown",
   "metadata": {},
   "source": [
    "# Numéro 9"
   ]
  },
  {
   "cell_type": "code",
   "execution_count": 21,
   "metadata": {},
   "outputs": [],
   "source": [
    "#Fonction à intégrer tout au long du numéro \n",
    "def to_integrate(T):\n",
    "    return 1/(Scol(eau_liq[\"n_e\"], T, eau_liq[\"MEE\"]))"
   ]
  },
  {
   "cell_type": "code",
   "execution_count": 22,
   "metadata": {},
   "outputs": [
    {
     "ename": "KeyboardInterrupt",
     "evalue": "",
     "output_type": "error",
     "traceback": [
      "\u001b[0;31m---------------------------------------------------------------------------\u001b[0m",
      "\u001b[0;31mKeyboardInterrupt\u001b[0m                         Traceback (most recent call last)",
      "\u001b[0;32m<ipython-input-22-39f939f17c54>\u001b[0m in \u001b[0;36m<module>\u001b[0;34m()\u001b[0m\n\u001b[1;32m     23\u001b[0m \u001b[0;34m\u001b[0m\u001b[0m\n\u001b[1;32m     24\u001b[0m \u001b[0;31m#Mesure du temps d'exécution avec timeit\u001b[0m\u001b[0;34m\u001b[0m\u001b[0;34m\u001b[0m\u001b[0m\n\u001b[0;32m---> 25\u001b[0;31m \u001b[0mtemps_scipy_quad\u001b[0m \u001b[0;34m=\u001b[0m \u001b[0mtimeit\u001b[0m\u001b[0;34m.\u001b[0m\u001b[0mtimeit\u001b[0m\u001b[0;34m(\u001b[0m\u001b[0;34m'[integrate_scipy_quad(T)]'\u001b[0m\u001b[0;34m,\u001b[0m \u001b[0mnumber\u001b[0m \u001b[0;34m=\u001b[0m \u001b[0;36m1\u001b[0m\u001b[0;34m,\u001b[0m \u001b[0mglobals\u001b[0m\u001b[0;34m=\u001b[0m\u001b[0mglobals\u001b[0m\u001b[0;34m(\u001b[0m\u001b[0;34m)\u001b[0m\u001b[0;34m)\u001b[0m\u001b[0;34m\u001b[0m\u001b[0m\n\u001b[0m\u001b[1;32m     26\u001b[0m \u001b[0mtemps_trap\u001b[0m \u001b[0;34m=\u001b[0m \u001b[0mtimeit\u001b[0m\u001b[0;34m.\u001b[0m\u001b[0mtimeit\u001b[0m\u001b[0;34m(\u001b[0m\u001b[0;34m'[integrate_trap(T)]'\u001b[0m\u001b[0;34m,\u001b[0m \u001b[0mnumber\u001b[0m \u001b[0;34m=\u001b[0m \u001b[0;36m1\u001b[0m\u001b[0;34m,\u001b[0m \u001b[0mglobals\u001b[0m\u001b[0;34m=\u001b[0m\u001b[0mglobals\u001b[0m\u001b[0;34m(\u001b[0m\u001b[0;34m)\u001b[0m\u001b[0;34m)\u001b[0m\u001b[0;34m\u001b[0m\u001b[0m\n\u001b[1;32m     27\u001b[0m \u001b[0mtemps_simps\u001b[0m \u001b[0;34m=\u001b[0m \u001b[0mtimeit\u001b[0m\u001b[0;34m.\u001b[0m\u001b[0mtimeit\u001b[0m\u001b[0;34m(\u001b[0m\u001b[0;34m'[integrate_simps(T)]'\u001b[0m\u001b[0;34m,\u001b[0m \u001b[0mnumber\u001b[0m \u001b[0;34m=\u001b[0m \u001b[0;36m1\u001b[0m\u001b[0;34m,\u001b[0m \u001b[0mglobals\u001b[0m\u001b[0;34m=\u001b[0m\u001b[0mglobals\u001b[0m\u001b[0;34m(\u001b[0m\u001b[0;34m)\u001b[0m\u001b[0;34m)\u001b[0m\u001b[0;34m\u001b[0m\u001b[0m\n",
      "\u001b[0;32m~/anaconda3/lib/python3.6/timeit.py\u001b[0m in \u001b[0;36mtimeit\u001b[0;34m(stmt, setup, timer, number, globals)\u001b[0m\n\u001b[1;32m    231\u001b[0m            number=default_number, globals=None):\n\u001b[1;32m    232\u001b[0m     \u001b[0;34m\"\"\"Convenience function to create Timer object and call timeit method.\"\"\"\u001b[0m\u001b[0;34m\u001b[0m\u001b[0m\n\u001b[0;32m--> 233\u001b[0;31m     \u001b[0;32mreturn\u001b[0m \u001b[0mTimer\u001b[0m\u001b[0;34m(\u001b[0m\u001b[0mstmt\u001b[0m\u001b[0;34m,\u001b[0m \u001b[0msetup\u001b[0m\u001b[0;34m,\u001b[0m \u001b[0mtimer\u001b[0m\u001b[0;34m,\u001b[0m \u001b[0mglobals\u001b[0m\u001b[0;34m)\u001b[0m\u001b[0;34m.\u001b[0m\u001b[0mtimeit\u001b[0m\u001b[0;34m(\u001b[0m\u001b[0mnumber\u001b[0m\u001b[0;34m)\u001b[0m\u001b[0;34m\u001b[0m\u001b[0m\n\u001b[0m\u001b[1;32m    234\u001b[0m \u001b[0;34m\u001b[0m\u001b[0m\n\u001b[1;32m    235\u001b[0m def repeat(stmt=\"pass\", setup=\"pass\", timer=default_timer,\n",
      "\u001b[0;32m~/anaconda3/lib/python3.6/timeit.py\u001b[0m in \u001b[0;36mtimeit\u001b[0;34m(self, number)\u001b[0m\n\u001b[1;32m    176\u001b[0m         \u001b[0mgc\u001b[0m\u001b[0;34m.\u001b[0m\u001b[0mdisable\u001b[0m\u001b[0;34m(\u001b[0m\u001b[0;34m)\u001b[0m\u001b[0;34m\u001b[0m\u001b[0m\n\u001b[1;32m    177\u001b[0m         \u001b[0;32mtry\u001b[0m\u001b[0;34m:\u001b[0m\u001b[0;34m\u001b[0m\u001b[0m\n\u001b[0;32m--> 178\u001b[0;31m             \u001b[0mtiming\u001b[0m \u001b[0;34m=\u001b[0m \u001b[0mself\u001b[0m\u001b[0;34m.\u001b[0m\u001b[0minner\u001b[0m\u001b[0;34m(\u001b[0m\u001b[0mit\u001b[0m\u001b[0;34m,\u001b[0m \u001b[0mself\u001b[0m\u001b[0;34m.\u001b[0m\u001b[0mtimer\u001b[0m\u001b[0;34m)\u001b[0m\u001b[0;34m\u001b[0m\u001b[0m\n\u001b[0m\u001b[1;32m    179\u001b[0m         \u001b[0;32mfinally\u001b[0m\u001b[0;34m:\u001b[0m\u001b[0;34m\u001b[0m\u001b[0m\n\u001b[1;32m    180\u001b[0m             \u001b[0;32mif\u001b[0m \u001b[0mgcold\u001b[0m\u001b[0;34m:\u001b[0m\u001b[0;34m\u001b[0m\u001b[0m\n",
      "\u001b[0;32m<timeit-src>\u001b[0m in \u001b[0;36minner\u001b[0;34m(_it, _timer)\u001b[0m\n",
      "\u001b[0;32m<ipython-input-22-39f939f17c54>\u001b[0m in \u001b[0;36mintegrate_scipy_quad\u001b[0;34m(T)\u001b[0m\n\u001b[1;32m      5\u001b[0m     \u001b[0mdistances\u001b[0m \u001b[0;34m=\u001b[0m \u001b[0mnp\u001b[0m\u001b[0;34m.\u001b[0m\u001b[0mzeros\u001b[0m\u001b[0;34m(\u001b[0m\u001b[0;36m10000\u001b[0m\u001b[0;34m)\u001b[0m\u001b[0;34m\u001b[0m\u001b[0m\n\u001b[1;32m      6\u001b[0m     \u001b[0;32mfor\u001b[0m \u001b[0mi\u001b[0m\u001b[0;34m,\u001b[0m \u001b[0mvalue\u001b[0m \u001b[0;32min\u001b[0m \u001b[0menumerate\u001b[0m\u001b[0;34m(\u001b[0m\u001b[0mT\u001b[0m\u001b[0;34m)\u001b[0m\u001b[0;34m:\u001b[0m\u001b[0;34m\u001b[0m\u001b[0m\n\u001b[0;32m----> 7\u001b[0;31m          \u001b[0mdistances\u001b[0m\u001b[0;34m[\u001b[0m\u001b[0mi\u001b[0m\u001b[0;34m]\u001b[0m \u001b[0;34m=\u001b[0m \u001b[0mscipy\u001b[0m\u001b[0;34m.\u001b[0m\u001b[0mintegrate\u001b[0m\u001b[0;34m.\u001b[0m\u001b[0mquad\u001b[0m\u001b[0;34m(\u001b[0m\u001b[0mto_integrate\u001b[0m\u001b[0;34m,\u001b[0m \u001b[0ma\u001b[0m \u001b[0;34m=\u001b[0m \u001b[0;36m3\u001b[0m\u001b[0;34m,\u001b[0m \u001b[0mb\u001b[0m \u001b[0;34m=\u001b[0m \u001b[0mvalue\u001b[0m\u001b[0;34m,\u001b[0m \u001b[0mlimit\u001b[0m \u001b[0;34m=\u001b[0m \u001b[0;36m20\u001b[0m\u001b[0;34m,\u001b[0m \u001b[0mepsabs\u001b[0m \u001b[0;34m=\u001b[0m \u001b[0;36m10\u001b[0m\u001b[0;34m**\u001b[0m\u001b[0;34m-\u001b[0m\u001b[0;36m9\u001b[0m\u001b[0;34m)\u001b[0m\u001b[0;34m[\u001b[0m\u001b[0;36m0\u001b[0m\u001b[0;34m]\u001b[0m\u001b[0;34m\u001b[0m\u001b[0m\n\u001b[0m\u001b[1;32m      8\u001b[0m     \u001b[0;32mreturn\u001b[0m \u001b[0mdistances\u001b[0m\u001b[0;34m\u001b[0m\u001b[0m\n\u001b[1;32m      9\u001b[0m \u001b[0;34m\u001b[0m\u001b[0m\n",
      "\u001b[0;32m~/anaconda3/lib/python3.6/site-packages/scipy/integrate/quadpack.py\u001b[0m in \u001b[0;36mquad\u001b[0;34m(func, a, b, args, full_output, epsabs, epsrel, limit, points, weight, wvar, wopts, maxp1, limlst)\u001b[0m\n\u001b[1;32m    350\u001b[0m     \u001b[0;32mif\u001b[0m \u001b[0mweight\u001b[0m \u001b[0;32mis\u001b[0m \u001b[0;32mNone\u001b[0m\u001b[0;34m:\u001b[0m\u001b[0;34m\u001b[0m\u001b[0m\n\u001b[1;32m    351\u001b[0m         retval = _quad(func, a, b, args, full_output, epsabs, epsrel, limit,\n\u001b[0;32m--> 352\u001b[0;31m                        points)\n\u001b[0m\u001b[1;32m    353\u001b[0m     \u001b[0;32melse\u001b[0m\u001b[0;34m:\u001b[0m\u001b[0;34m\u001b[0m\u001b[0m\n\u001b[1;32m    354\u001b[0m         \u001b[0;32mif\u001b[0m \u001b[0mpoints\u001b[0m \u001b[0;32mis\u001b[0m \u001b[0;32mnot\u001b[0m \u001b[0;32mNone\u001b[0m\u001b[0;34m:\u001b[0m\u001b[0;34m\u001b[0m\u001b[0m\n",
      "\u001b[0;32m~/anaconda3/lib/python3.6/site-packages/scipy/integrate/quadpack.py\u001b[0m in \u001b[0;36m_quad\u001b[0;34m(func, a, b, args, full_output, epsabs, epsrel, limit, points)\u001b[0m\n\u001b[1;32m    461\u001b[0m     \u001b[0;32mif\u001b[0m \u001b[0mpoints\u001b[0m \u001b[0;32mis\u001b[0m \u001b[0;32mNone\u001b[0m\u001b[0;34m:\u001b[0m\u001b[0;34m\u001b[0m\u001b[0m\n\u001b[1;32m    462\u001b[0m         \u001b[0;32mif\u001b[0m \u001b[0minfbounds\u001b[0m \u001b[0;34m==\u001b[0m \u001b[0;36m0\u001b[0m\u001b[0;34m:\u001b[0m\u001b[0;34m\u001b[0m\u001b[0m\n\u001b[0;32m--> 463\u001b[0;31m             \u001b[0;32mreturn\u001b[0m \u001b[0m_quadpack\u001b[0m\u001b[0;34m.\u001b[0m\u001b[0m_qagse\u001b[0m\u001b[0;34m(\u001b[0m\u001b[0mfunc\u001b[0m\u001b[0;34m,\u001b[0m\u001b[0ma\u001b[0m\u001b[0;34m,\u001b[0m\u001b[0mb\u001b[0m\u001b[0;34m,\u001b[0m\u001b[0margs\u001b[0m\u001b[0;34m,\u001b[0m\u001b[0mfull_output\u001b[0m\u001b[0;34m,\u001b[0m\u001b[0mepsabs\u001b[0m\u001b[0;34m,\u001b[0m\u001b[0mepsrel\u001b[0m\u001b[0;34m,\u001b[0m\u001b[0mlimit\u001b[0m\u001b[0;34m)\u001b[0m\u001b[0;34m\u001b[0m\u001b[0m\n\u001b[0m\u001b[1;32m    464\u001b[0m         \u001b[0;32melse\u001b[0m\u001b[0;34m:\u001b[0m\u001b[0;34m\u001b[0m\u001b[0m\n\u001b[1;32m    465\u001b[0m             \u001b[0;32mreturn\u001b[0m \u001b[0m_quadpack\u001b[0m\u001b[0;34m.\u001b[0m\u001b[0m_qagie\u001b[0m\u001b[0;34m(\u001b[0m\u001b[0mfunc\u001b[0m\u001b[0;34m,\u001b[0m\u001b[0mbound\u001b[0m\u001b[0;34m,\u001b[0m\u001b[0minfbounds\u001b[0m\u001b[0;34m,\u001b[0m\u001b[0margs\u001b[0m\u001b[0;34m,\u001b[0m\u001b[0mfull_output\u001b[0m\u001b[0;34m,\u001b[0m\u001b[0mepsabs\u001b[0m\u001b[0;34m,\u001b[0m\u001b[0mepsrel\u001b[0m\u001b[0;34m,\u001b[0m\u001b[0mlimit\u001b[0m\u001b[0;34m)\u001b[0m\u001b[0;34m\u001b[0m\u001b[0m\n",
      "\u001b[0;32m<ipython-input-21-836e35a65b28>\u001b[0m in \u001b[0;36mto_integrate\u001b[0;34m(T)\u001b[0m\n\u001b[1;32m      1\u001b[0m \u001b[0;31m#Fonction à intégrer tout au long du numéro\u001b[0m\u001b[0;34m\u001b[0m\u001b[0;34m\u001b[0m\u001b[0m\n\u001b[1;32m      2\u001b[0m \u001b[0;32mdef\u001b[0m \u001b[0mto_integrate\u001b[0m\u001b[0;34m(\u001b[0m\u001b[0mT\u001b[0m\u001b[0;34m)\u001b[0m\u001b[0;34m:\u001b[0m\u001b[0;34m\u001b[0m\u001b[0m\n\u001b[0;32m----> 3\u001b[0;31m     \u001b[0;32mreturn\u001b[0m \u001b[0;36m1\u001b[0m\u001b[0;34m/\u001b[0m\u001b[0;34m(\u001b[0m\u001b[0mScol\u001b[0m\u001b[0;34m(\u001b[0m\u001b[0meau_liq\u001b[0m\u001b[0;34m[\u001b[0m\u001b[0;34m\"n_e\"\u001b[0m\u001b[0;34m]\u001b[0m\u001b[0;34m,\u001b[0m \u001b[0mT\u001b[0m\u001b[0;34m,\u001b[0m \u001b[0meau_liq\u001b[0m\u001b[0;34m[\u001b[0m\u001b[0;34m\"MEE\"\u001b[0m\u001b[0;34m]\u001b[0m\u001b[0;34m)\u001b[0m\u001b[0;34m)\u001b[0m\u001b[0;34m\u001b[0m\u001b[0m\n\u001b[0m",
      "\u001b[0;32m<ipython-input-5-3ff52a517cce>\u001b[0m in \u001b[0;36mScol\u001b[0;34m(n_e, T, I)\u001b[0m\n\u001b[1;32m     11\u001b[0m \u001b[0;34m\u001b[0m\u001b[0m\n\u001b[1;32m     12\u001b[0m \u001b[0;32mdef\u001b[0m \u001b[0mScol\u001b[0m\u001b[0;34m(\u001b[0m\u001b[0mn_e\u001b[0m\u001b[0;34m,\u001b[0m \u001b[0mT\u001b[0m\u001b[0;34m,\u001b[0m \u001b[0mI\u001b[0m\u001b[0;34m)\u001b[0m\u001b[0;34m:\u001b[0m\u001b[0;34m\u001b[0m\u001b[0m\n\u001b[0;32m---> 13\u001b[0;31m     \u001b[0;32mreturn\u001b[0m \u001b[0mt1\u001b[0m\u001b[0;34m(\u001b[0m\u001b[0mT\u001b[0m\u001b[0;34m)\u001b[0m \u001b[0;34m*\u001b[0m \u001b[0mn_e\u001b[0m \u001b[0;34m*\u001b[0m \u001b[0;34m(\u001b[0m\u001b[0mlog\u001b[0m\u001b[0;34m(\u001b[0m\u001b[0mt2\u001b[0m\u001b[0;34m(\u001b[0m\u001b[0mT\u001b[0m\u001b[0;34m)\u001b[0m\u001b[0;34m*\u001b[0m\u001b[0mTe_max\u001b[0m\u001b[0;34m(\u001b[0m\u001b[0mT\u001b[0m\u001b[0;34m)\u001b[0m \u001b[0;34m/\u001b[0m \u001b[0mI\u001b[0m\u001b[0;34m**\u001b[0m\u001b[0;36m2\u001b[0m\u001b[0;34m)\u001b[0m \u001b[0;34m-\u001b[0m \u001b[0;36m2\u001b[0m\u001b[0;34m*\u001b[0m\u001b[0mbeta\u001b[0m\u001b[0;34m(\u001b[0m\u001b[0mT\u001b[0m\u001b[0;34m)\u001b[0m\u001b[0;34m**\u001b[0m\u001b[0;36m2\u001b[0m\u001b[0;34m)\u001b[0m\u001b[0;34m\u001b[0m\u001b[0m\n\u001b[0m",
      "\u001b[0;32m<ipython-input-5-3ff52a517cce>\u001b[0m in \u001b[0;36mt2\u001b[0;34m(T)\u001b[0m\n\u001b[1;32m      6\u001b[0m     \u001b[0;32mreturn\u001b[0m \u001b[0;36m2\u001b[0m \u001b[0;34m*\u001b[0m \u001b[0mpi\u001b[0m \u001b[0;34m*\u001b[0m \u001b[0mr_e\u001b[0m\u001b[0;34m**\u001b[0m\u001b[0;36m2\u001b[0m \u001b[0;34m*\u001b[0m\u001b[0mm_e_c2\u001b[0m \u001b[0;34m/\u001b[0m \u001b[0;34m(\u001b[0m\u001b[0mbeta\u001b[0m\u001b[0;34m(\u001b[0m\u001b[0mT\u001b[0m\u001b[0;34m)\u001b[0m\u001b[0;34m**\u001b[0m\u001b[0;36m2\u001b[0m\u001b[0;34m)\u001b[0m\u001b[0;34m\u001b[0m\u001b[0m\n\u001b[1;32m      7\u001b[0m \u001b[0;32mdef\u001b[0m \u001b[0mt2\u001b[0m\u001b[0;34m(\u001b[0m\u001b[0mT\u001b[0m\u001b[0;34m)\u001b[0m\u001b[0;34m:\u001b[0m\u001b[0;34m\u001b[0m\u001b[0m\n\u001b[0;32m----> 8\u001b[0;31m     \u001b[0;32mreturn\u001b[0m \u001b[0;36m2\u001b[0m \u001b[0;34m*\u001b[0m \u001b[0mm_e_c2\u001b[0m \u001b[0;34m*\u001b[0m \u001b[0mbeta\u001b[0m\u001b[0;34m(\u001b[0m\u001b[0mT\u001b[0m\u001b[0;34m)\u001b[0m\u001b[0;34m**\u001b[0m\u001b[0;36m2\u001b[0m \u001b[0;34m*\u001b[0m \u001b[0mgamma\u001b[0m\u001b[0;34m(\u001b[0m\u001b[0mT\u001b[0m\u001b[0;34m)\u001b[0m\u001b[0;34m**\u001b[0m\u001b[0;36m2\u001b[0m\u001b[0;34m\u001b[0m\u001b[0m\n\u001b[0m\u001b[1;32m      9\u001b[0m \u001b[0;34m\u001b[0m\u001b[0m\n\u001b[1;32m     10\u001b[0m \u001b[0;31m# Scol varie selon le milieu (eau ou os), en n_e et I. Il varie aussi selon l'énergie du proton T\u001b[0m\u001b[0;34m\u001b[0m\u001b[0;34m\u001b[0m\u001b[0m\n",
      "\u001b[0;31mKeyboardInterrupt\u001b[0m: "
     ]
    }
   ],
   "source": [
    "#Estimation du nombre de protons par seconde pouvant être évalués par Scipy.integrate.quad\n",
    "#Intégration de la fonction pour 10 000 valeurs de protons, on commence à intégrer à partir de 3 MeV, car la fonction se comporte mal avant\n",
    "\n",
    "def integrate_scipy_quad(T):\n",
    "    distances = np.zeros(10000)\n",
    "    for i, value in enumerate(T):\n",
    "         distances[i] = scipy.integrate.quad(to_integrate, a = 3, b = value, limit = 20, epsabs = 10**-9)[0]\n",
    "    return distances\n",
    "\n",
    "#Estimation du nombre de protons par seconde pouvant être évalués par la mèthode des trapèzes\n",
    "def integrate_trap(T):\n",
    "    distances = np.zeros(10000)\n",
    "    for i, value in enumerate(T):\n",
    "         distances[i] = trapeze(to_integrate, a = 3, b = value, N=1000)\n",
    "    return distances\n",
    "\n",
    "#Estimation du nombre de protons par seconde pouvant être évalués par la mèthode de Simpson\n",
    "def integrate_simps(T):\n",
    "    distances = np.zeros(10000)\n",
    "    for i, value in enumerate(T):\n",
    "         distances[i] = simpson(to_integrate, a = 3, b = value, N=1000)\n",
    "    return distances\n",
    "\n",
    "#Mesure du temps d'exécution avec timeit\n",
    "temps_scipy_quad = timeit.timeit('[integrate_scipy_quad(T)]', number = 1, globals=globals())\n",
    "temps_trap = timeit.timeit('[integrate_trap(T)]', number = 1, globals=globals())\n",
    "temps_simps = timeit.timeit('[integrate_simps(T)]', number = 1, globals=globals())\n",
    "print(\"Il est possible d'évaluer environ {:.0f} portées de protons par seconde avec la méthode scipy.integrate.quad.\".format(10000/temps_scipy_quad))\n",
    "print(\"Il est possible d'évaluer environ {:.0f} portées de protons par seconde avec la méthode trapèzes.\".format(10000/temps_trap))\n",
    "print(\"Il est possible d'évaluer environ {:.0f} portées de protons par seconde avec la méthode Simpson.\".format(10000/temps_simps))"
   ]
  },
  {
   "cell_type": "code",
   "execution_count": null,
   "metadata": {},
   "outputs": [],
   "source": []
  },
  {
   "cell_type": "markdown",
   "metadata": {},
   "source": [
    "Brièvement commenter les temps d'intégrations"
   ]
  },
  {
   "cell_type": "code",
   "execution_count": null,
   "metadata": {},
   "outputs": [],
   "source": [
    "distances = integrate_scipy_quad(T) "
   ]
  },
  {
   "cell_type": "markdown",
   "metadata": {},
   "source": [
    "# Numéro 10\n",
    "L'histogramme des portées des différents protons à cet allure: "
   ]
  },
  {
   "cell_type": "code",
   "execution_count": null,
   "metadata": {},
   "outputs": [],
   "source": [
    "#Histogrammes des portées \n",
    "plt.hist(distances, bins = 70, color = \"darkorange\")\n",
    "plt.title(\"Histogramme en fréquence des distances parcourues \\n par les protons dans l'eau\")\n",
    "plt.ylabel(\"Nombre de protons\")\n",
    "plt.xlabel(\"Portée dans l'eau [cm]\")\n",
    "plt.show()"
   ]
  },
  {
   "cell_type": "markdown",
   "metadata": {},
   "source": [
    "On voit que l'histogramme des distances des protons est très similaire à celui des énergies de protons générés suivant la distribution moyal. On peut encore mieux constater ce fait lorsqu'on trace une courbe de la distribution moyal centrée à environ 16 cm:"
   ]
  },
  {
   "cell_type": "code",
   "execution_count": null,
   "metadata": {},
   "outputs": [],
   "source": [
    "#Densité de probabilité moyal avec maximum à 16\n",
    "moyal_16 = moyal(15.7, scale = 0.75)\n",
    "\n",
    "#Valeurs en x de 0.01% à 99% de la distributions\n",
    "x = np.linspace(moyal_16.ppf(0.01), moyal_16.ppf(0.99), 1000)\n",
    "\n",
    "\n",
    "plt.plot(x, moyal_16.pdf(x), \"k--\", label=\"Densité de probabilité moyal\")\n",
    "plt.hist(distances, bins = 60, density = True, color = \"darkorange\")\n",
    "plt.title(\"Histogramme de densité des distances parcourues \\n par les protons dans l'eau\")\n",
    "plt.ylabel(\"Nombre de protons\")\n",
    "plt.xlabel(\"Portée dans l'eau [cm]\")\n",
    "plt.legend()\n",
    "plt.show()"
   ]
  },
  {
   "cell_type": "markdown",
   "metadata": {},
   "source": [
    "Cela n'a rien d'étonnant, car selon notre code la trajectoire est entièrememnt déterministique selon l'énergie initial du proton. Les énergies des protons suivent une densité de probabilité moyale, donc les trajectoires aussi. "
   ]
  },
  {
   "cell_type": "markdown",
   "metadata": {},
   "source": [
    "# Numéro 11"
   ]
  },
  {
   "cell_type": "code",
   "execution_count": null,
   "metadata": {},
   "outputs": [],
   "source": [
    "def proton_transport(T_i, T_f, n_e, I, N):\n",
    "     #--Paramètres:\n",
    "    #   T_i: Énergie initiale du proton [MeV]\n",
    "    #   T_f: Énergie finale du proton [MeV]\n",
    "    #   N: Nombre de division de l'énergie entre T_i et T_f\n",
    "    #\n",
    "    #--Retourne un vecteur de la profondeur parcourue [cm] ainsi qu'un vecteur de valeur d'énergie déposée par cm pour ces distances [MeV/cm]\n",
    "    #--Le calcul est effectué suivant l'approximation d'une une décélération continue du proton incident. \n",
    "     \n",
    "    \n",
    "    T_step = np.linspace(T_f, T_i, N) #Sépration de l'énergie en pas constant\n",
    "    s = np.zeros(len(T_step)-1) #Init vecteur distance parcourue à chaque pas d'énergie\n",
    "    profondeur = np.zeros(len(T_step)) #Init vecteur de la pronfondeur parcourue\n",
    "    func = lambda z: 1/Scol(n_e, z, I) #Fonction à intégrer \n",
    "    #Distance s parcourue à chacune des intégrales de T_step[i] à T_step[i+1]\n",
    "    for i in range(len(T_step) - 1):\n",
    "        s[i] =  simpson(func, a = T_step[i], b = T_step[i+1], N = 30000)\n",
    "    \n",
    "    #Profondeur en fonction du total des distances s parcourues \n",
    "    for i in range(len(T_step) - 1):\n",
    "        profondeur[i+1] = np.sum(s[:(i+1)])\n",
    "    \n",
    "    \n",
    "    T_deposit = T_i - T_step \n",
    "    x_divisions = max(profondeur)*10//1 + 1 #On divise en mm, cela cause une petit erreur d'arrondissement \n",
    "    profondeur_cst_step = np.linspace(0, max(profondeur), int(x_divisions)) #Division de la profondeur en pas constant\n",
    "    \n",
    "    #Interpolation linéaire pour que T_deposit ait la même longueur que la profondeur \n",
    "    T_deposit = np.interp(profondeur_cst_step, profondeur, T_deposit)  \n",
    "    \n",
    "     \n",
    "    deltaT = np.zeros(len(T_deposit)) #Énergie déposé à chaque pas de profondeur\n",
    "    for i in range(len(T_deposit)-1):\n",
    "        deltaT[i+1] = T_deposit[i] - T_deposit[i+1]\n",
    "    return profondeur_cst_step, np.flip(deltaT)*10\n",
    "\n",
    "\n",
    "x_eau, transport_eau = proton_transport(150, 0.1, eau_liq[\"n_e\"], eau_liq[\"MEE\"], 1000)\n",
    "x_os, transport_os = proton_transport(150, 0.1, os_compact[\"n_e\"], os_compact[\"MEE\"], 1000)     \n",
    "\n",
    "plt.plot(x_eau, transport_eau,\"r-\", label = \"faisceau de 150 MeV\")\n",
    "plt.title(\"Énergie déposée par cm en fonction de la distance parcourue \\n par le proton dans l'eau\")\n",
    "plt.xlabel(\"Distance parcourue [cm]\")\n",
    "plt.ylabel(\"Énergie déposée [MeV/cm]\")\n",
    "plt.legend()\n",
    "plt.show() \n",
    "\n",
    "plt.plot(x_os, transport_os,\"b-\", label = \"faisceau de 150 MeV\")\n",
    "plt.title(\"Énergie déposée par cm en fonction de la distance parcourue \\n par le proton dans l'os\")\n",
    "plt.xlabel(\"Distance parcourue [cm]\")\n",
    "plt.ylabel(\"Énergie déposée [MeV/cm]\")\n",
    "plt.legend()\n",
    "plt.show() "
   ]
  },
  {
   "cell_type": "markdown",
   "metadata": {},
   "source": [
    "En intégrant l'aire sous la courbe, il est possible d'obtenir la précision la précision de notre méthode, car celle-ci devrait correspond à l'énergie cinétique totale du proton initiale:"
   ]
  },
  {
   "cell_type": "code",
   "execution_count": null,
   "metadata": {},
   "outputs": [],
   "source": [
    "#Intégrale de la courbe d'énergie déposée par cm \n",
    "Total_energy_water = np.trapz(y = transport_eau, x = x_eau)\n",
    "Total_energy_bone = np.trapz(y = transport_os, x = x_os)\n",
    "\n",
    "print(\"L'énergie totale déposée par le proton dans l'eau calculée en intégrant est: {:.2f}, \".format(Total_energy_water) \\\n",
    "        +\"ce qui correspond \\nà une erreur relative de {:.2f} %.\".format((Total_energy_water-149.9)/149.9*100))\n",
    "print(\"L'énergie totale déposée par le proton dans l'os calculée en intégrant est: {:.2f}, \".format(Total_energy_bone) \\\n",
    "        +\"ce qui correspond\\nà une erreur relative de {:.2f} %.\".format((Total_energy_bone-149.9)/149.1*100))\n",
    "        "
   ]
  },
  {
   "cell_type": "markdown",
   "metadata": {},
   "source": [
    "Il est possible d'obtenir la portée maximale du proton en sachant à quel moment l'énergie déposé est égale à 0, soit le dernier:"
   ]
  },
  {
   "cell_type": "code",
   "execution_count": null,
   "metadata": {},
   "outputs": [],
   "source": [
    "#Portées maximales \n",
    "P_max_eau = x_eau[len(x_eau)-1]\n",
    "P_max_os = x_os[len(x_os)-1]\n",
    "print(\"On obtient une portée maximale de: {} cm pour un proton de 150 MeV dans l'eau.\".format(P_max_eau))\n",
    "print(\"On obtient une portée maximale de: {} cm pour pour un proton de 150 MeV dans l'os.\".format(P_max_os))"
   ]
  },
  {
   "cell_type": "markdown",
   "metadata": {},
   "source": [
    "Sans surprise, ces valeurs sont très près de celles obtenues lors du numéro 4. Cette forme de présentation des données permet de voir facilement que la portée est très dépendante de l'énergie initiale du proton: "
   ]
  },
  {
   "cell_type": "code",
   "execution_count": null,
   "metadata": {},
   "outputs": [],
   "source": [
    "#Portées pour différentes valeurs d'énergies initiales \n",
    "x_eau_150, transport_eau_150 = proton_transport(150, 0.1, eau_liq[\"n_e\"], eau_liq[\"MEE\"], 1000)   \n",
    "x_eau_125, transport_eau_125 = proton_transport(125, 0.1, eau_liq[\"n_e\"], eau_liq[\"MEE\"], 1000)   \n",
    "x_eau_100, transport_eau_100 = proton_transport(100, 0.1, eau_liq[\"n_e\"], eau_liq[\"MEE\"], 1000) \n",
    "\n",
    "plt.plot(x_eau_150, transport_eau_150,\"r-\", label = \"faisceau de 150 MeV\")\n",
    "plt.plot(x_eau_125, transport_eau_125,\"y-\", label = \"faisceau de 100 MeV\")\n",
    "plt.plot(x_eau_100, transport_eau_100,\"g-\", label = \"faisceau de 50 MeV\")\n",
    "plt.title(\"Énergie déposée par cm en fonction de la distance parcourue \\n par le proton dans l'eau\")\n",
    "plt.xlabel(\"Distance parcourue [cm]\")\n",
    "plt.ylabel(\"Énergie déposée [MeV/cm]\")\n",
    "plt.legend()\n",
    "plt.show() "
   ]
  },
  {
   "cell_type": "markdown",
   "metadata": {},
   "source": [
    "# Numéro 12 \n",
    "Le pic de Bragg est très important en radiothérapie, car le but de cette procédure est de :\"de détruire\n",
    "des cellules pathologiques (cancer par exemple) tout en épargnant les tissus sains environnants.\" En connaissant le pic de Bragg de la courbe de Bragg, il est possible de connaître à quel profondeur le proton (ou n'importe quel autre rayonnement ionisant) dépose le plus d'énergie, ce qui permet de déposer un maximum d'énergie à la profondeur à laquelle les cellules pathologiques sont situées. Dans notre cas, cette profondeur peut être déterminée avec l'énergie initiale du proton incident, c'est d'ailleurs cette profondeur qui va tentée d'être trouvée au prochain numéro. "
   ]
  },
  {
   "cell_type": "markdown",
   "metadata": {},
   "source": [
    "# Numéro 13"
   ]
  },
  {
   "cell_type": "markdown",
   "metadata": {},
   "source": [
    "# Numéro 14"
   ]
  },
  {
   "cell_type": "markdown",
   "metadata": {},
   "source": [
    "# Numéro 15\n",
    "Non, cette approximation n'est pas réaliste. Effectivement lorsqu'un proton se déplace dans la matière celui-ci va être légèrement dévié de sa trajectoire, car... \n",
    "\n",
    "Il faudrait rajouter...."
   ]
  },
  {
   "cell_type": "code",
   "execution_count": null,
   "metadata": {},
   "outputs": [],
   "source": []
  }
 ],
 "metadata": {
  "kernelspec": {
   "display_name": "Python 3",
   "language": "python",
   "name": "python3"
  },
  "language_info": {
   "codemirror_mode": {
    "name": "ipython",
    "version": 3
   },
   "file_extension": ".py",
   "mimetype": "text/x-python",
   "name": "python",
   "nbconvert_exporter": "python",
   "pygments_lexer": "ipython3",
   "version": "3.6.3"
  }
 },
 "nbformat": 4,
 "nbformat_minor": 4
}
