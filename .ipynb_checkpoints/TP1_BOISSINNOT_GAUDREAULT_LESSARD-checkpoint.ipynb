{
 "cells": [
  {
   "cell_type": "markdown",
   "metadata": {},
   "source": [
    "# TP1 \n",
    "\n",
    "## Question 1\n",
    "La densité électronnique, $n_e$, d'un matériau peut être calculée ainsi: $$n_e=\\frac{N_{A}Z_{eff} \\cdot \\rho}{A_{eff}},$$ où $N_A$ est le nombre d'Avogadro, $A$ est la masse atomique relative et $M_{u}$ la constante de masse molaire. \n",
    "\n"
   ]
  },
  {
   "cell_type": "code",
   "execution_count": 1,
   "metadata": {},
   "outputs": [
    {
     "ename": "SyntaxError",
     "evalue": "invalid syntax (<ipython-input-1-9317279b6f9f>, line 9)",
     "output_type": "error",
     "traceback": [
      "\u001b[1;36m  File \u001b[1;32m\"<ipython-input-1-9317279b6f9f>\"\u001b[1;36m, line \u001b[1;32m9\u001b[0m\n\u001b[1;33m    return Z_eff*cst.Avogadro*\u001b[0m\n\u001b[1;37m                              ^\u001b[0m\n\u001b[1;31mSyntaxError\u001b[0m\u001b[1;31m:\u001b[0m invalid syntax\n"
     ]
    }
   ],
   "source": [
    "import scipy.constants as cst\n",
    "#Masse volumique de l'eau [g/cm^3]\n",
    "rho_eau = 1.00\n",
    "\n",
    "rho_os_compact = 1.85 \n",
    "#Masse volumique d'un os  [g/cm^3]\n",
    "\n",
    "def n(Z_eff, A_eff, rho):\n",
    "    return Z_eff*cst.Avogadro*"
   ]
  },
  {
   "cell_type": "markdown",
   "metadata": {},
   "source": [
    "# TP1 \n",
    "\n",
    "## Question 1\n",
    "La densité électronique, $n_e$, d'un milieu peut être calculée ainsi: $$n_e=\\frac{N_{A}Z \\cdot \\rho}{M},$$ où $N_A$ est le nombre d'Avogadro, $Z$ est la charge d'une particule ($Z = 1$ pour les protons), $M$ est la masse molaire du milieu ($M = A \\cdot M_u$), $A$ est la masse atomique relative et $M_{u}$ la constante de masse molaire ($M_{u} = 1 g/cm^3$). \n"
   ]
  },
  {
   "cell_type": "code",
   "execution_count": 2,
   "metadata": {},
   "outputs": [],
   "source": [
    "import scipy.constants as cst\n",
    "\n",
    "def n(M, rho):\n",
    "    return (cst.Avogadro*Z*rho)/(M)"
   ]
  },
  {
   "cell_type": "code",
   "execution_count": 3,
   "metadata": {},
   "outputs": [],
   "source": [
    "from numpy import sqrt, pi, log\n",
    "\n",
    "#Pour trouver la masse molaire totale : calculer le total à partir de la fraction massique \n",
    "#de l'élément le plus lourd de la liste de composition\n",
    "\n",
    "rho_eau = 1.00000E+00          #Masse volumique de l'eau [g/cm^3]\n",
    "M_eau = 15.999/0.888106  # M_O/w_O%\n",
    "I_eau = 75.000000 #eV\n",
    "\n",
    "rho_os_compact = 1.85000E+00   #Masse volumique d'un os  [g/cm^3]\n",
    "M_os_compact = 40.079/0.147000  # M_C/w_C%\n",
    "I_os_compact = 91.900000 #eV\n",
    "\n",
    "Z = 1\n",
    "\n",
    "r_e = 2.8179403227E-15 #m\n",
    "m_e = 0.51099895000 # MeV\n",
    "m_p = 938.27208816 # MeV\n",
    "c = 299792458 # m/s\n",
    "#v = ???\n",
    "#beta = v/c\n",
    "#fac_lo = 1/sqrt(1-beta**2)\n",
    "\n",
    "#T_e_max = (2*m_e*c**2*(fac_lo**2-1))/(1+2*fac_lo*(m_e/m_p)+(m_e/m_p)**2)"
   ]
  },
  {
   "cell_type": "code",
   "execution_count": 4,
   "metadata": {},
   "outputs": [],
   "source": [
    "# Comme m_p > 3 MeV\n",
    "\n",
    "def S_col(T_e_max, I):\n",
    "    return 2*pi*(r_e)**2*m_e*(c**2)*n_e*(beta**(-2))(log((2*m_e*c**2*beta**2*fac_lo**2*T_e_max)/I**2)-2*beta**2)"
   ]
  },
  {
   "cell_type": "code",
   "execution_count": null,
   "metadata": {},
   "outputs": [],
   "source": [
    "allo"
   ]
  }
 ],
 "metadata": {
  "kernelspec": {
   "display_name": "Python 3",
   "language": "python",
   "name": "python3"
  },
  "language_info": {
   "codemirror_mode": {
    "name": "ipython",
    "version": 3
   },
   "file_extension": ".py",
   "mimetype": "text/x-python",
   "name": "python",
   "nbconvert_exporter": "python",
   "pygments_lexer": "ipython3",
   "version": "3.6.3"
  }
 },
 "nbformat": 4,
 "nbformat_minor": 4
}
