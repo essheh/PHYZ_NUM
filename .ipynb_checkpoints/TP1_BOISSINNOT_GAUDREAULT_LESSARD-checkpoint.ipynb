{
 "cells": [
  {
   "cell_type": "markdown",
   "metadata": {},
   "source": [
    "# TP1 \n",
    "\n",
    "## Question 1\n",
    "La densité électronnique, $n_e$, d'un matériau peut être calculée ainsi: $$n_e=\\frac{N_{A}Z_{eff} \\cdot \\rho}{A_{eff}},$$ où $N_A$ est le nombre d'Avogadro, $A$ est la masse atomique relative et $M_{u}$ la constante de masse molaire. \n",
    "\n"
   ]
  },
  {
   "cell_type": "code",
   "execution_count": 3,
   "metadata": {},
   "outputs": [
    {
     "ename": "SyntaxError",
     "evalue": "invalid syntax (<ipython-input-3-9317279b6f9f>, line 9)",
     "output_type": "error",
     "traceback": [
      "\u001b[1;36m  File \u001b[1;32m\"<ipython-input-3-9317279b6f9f>\"\u001b[1;36m, line \u001b[1;32m9\u001b[0m\n\u001b[1;33m    return Z_eff*cst.Avogadro*\u001b[0m\n\u001b[1;37m                              ^\u001b[0m\n\u001b[1;31mSyntaxError\u001b[0m\u001b[1;31m:\u001b[0m invalid syntax\n"
     ]
    }
   ],
   "source": [
    "import scipy.constants as cst\n",
    "#Masse volumique de l'eau [g/cm^3]\n",
    "rho_eau = 1.00\n",
    "\n",
    "rho_os_compact = 1.85 \n",
    "#Masse volumique d'un os  [g/cm^3]\n",
    "\n",
    "def n(Z_eff, A_eff, rho):\n",
    "    return Z_eff*cst.Avogadro*"
   ]
  },
  {
   "cell_type": "code",
   "execution_count": null,
   "metadata": {},
   "outputs": [],
   "source": []
  }
 ],
 "metadata": {
  "kernelspec": {
   "display_name": "Python 3",
   "language": "python",
   "name": "python3"
  },
  "language_info": {
   "codemirror_mode": {
    "name": "ipython",
    "version": 3
   },
   "file_extension": ".py",
   "mimetype": "text/x-python",
   "name": "python",
   "nbconvert_exporter": "python",
   "pygments_lexer": "ipython3",
   "version": "3.8.5"
  }
 },
 "nbformat": 4,
 "nbformat_minor": 4
}
