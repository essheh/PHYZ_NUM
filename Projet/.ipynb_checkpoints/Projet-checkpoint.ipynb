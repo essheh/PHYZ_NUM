{
 "cells": [
  {
   "cell_type": "markdown",
   "metadata": {},
   "source": [
    "# Projet Transformée de Fourier-Bessel (-Hankel) et l'algorthme $\\varepsilon$\n",
    "## Par Antoine Boissinot - - François Gaudreault - - Béatrice Lessard-Hamel\n",
    "### Présenté à M. Philippe Després\n",
    "\n",
    "#### Date de remise : 16 avril 2021"
   ]
  },
  {
   "cell_type": "code",
   "execution_count": 1,
   "metadata": {},
   "outputs": [],
   "source": [
    "#Module\n",
    "import matplotlib.pyplot as plt\n",
    "import scipy.special as sp"
   ]
  },
  {
   "cell_type": "code",
   "execution_count": 2,
   "metadata": {},
   "outputs": [],
   "source": [
    "# Function to compute zeros of integer-order Bessel functions Jn and Jn’\n",
    "\n",
    "# sp.jnjnp_zeros(nt)"
   ]
  },
  {
   "cell_type": "code",
   "execution_count": 3,
   "metadata": {},
   "outputs": [
    {
     "name": "stdout",
     "output_type": "stream",
     "text": [
      "Enter number of terms: 10000\n",
      "Pi =  3.1414926535900345\n"
     ]
    }
   ],
   "source": [
    "# Calculation of PI using Leibniz formula\n",
    "\n",
    "# Function to calcultae PI using Leibniz\n",
    "def leibniz(n):\n",
    "    t_sum = 0\n",
    "    for i in range(n):\n",
    "        term = (-1) ** i /(2*i+1)\n",
    "        t_sum = t_sum + term\n",
    "    \n",
    "    return t_sum * 4\n",
    "\n",
    "# Reading number of terms to be considered in Leibniz formula\n",
    "terms = int(input(\"Enter number of terms: \"))\n",
    "\n",
    "# Function call\n",
    "pi = leibniz(terms)\n",
    "\n",
    "# Displaying result\n",
    "print(\"Pi = \", pi)"
   ]
  },
  {
   "cell_type": "code",
   "execution_count": null,
   "metadata": {},
   "outputs": [],
   "source": []
  }
 ],
 "metadata": {
  "kernelspec": {
   "display_name": "Python 3",
   "language": "python",
   "name": "python3"
  },
  "language_info": {
   "codemirror_mode": {
    "name": "ipython",
    "version": 3
   },
   "file_extension": ".py",
   "mimetype": "text/x-python",
   "name": "python",
   "nbconvert_exporter": "python",
   "pygments_lexer": "ipython3",
   "version": "3.8.5"
  }
 },
 "nbformat": 4,
 "nbformat_minor": 4
}
