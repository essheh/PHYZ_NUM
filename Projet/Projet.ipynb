{
 "cells": [
  {
   "cell_type": "markdown",
   "metadata": {},
   "source": [
    "# Projet Transformée de Fourier-Bessel (-Hankel) et l'algorthme $\\varepsilon$\n",
    "## Par Antoine Boissinot - - François Gaudreault - - Béatrice Lessard-Hamel\n",
    "### Présenté à M. Philippe Després\n",
    "\n",
    "#### Date de remise : 16 avril 2021"
   ]
  },
  {
   "cell_type": "code",
   "execution_count": 31,
   "metadata": {},
   "outputs": [],
   "source": [
    "#Module\n",
    "import numpy as np\n",
    "import scipy.special as sp\n",
    "import matplotlib.pyplot as plt"
   ]
  },
  {
   "cell_type": "code",
   "execution_count": 32,
   "metadata": {},
   "outputs": [],
   "source": [
    "# Function to compute zeros of integer-order Bessel functions Jn and Jn’\n",
    "\n",
    "# sp.jnjnp_zeros(nt)"
   ]
  },
  {
   "cell_type": "code",
   "execution_count": 33,
   "metadata": {},
   "outputs": [],
   "source": [
    "def leibniz(n):\n",
    "    terms_leibniz = []\n",
    "    t_sum = 0\n",
    "    for i in range(n):\n",
    "        term = (-1) ** i * 4/(2*i+1)\n",
    "        terms_leibniz.append(term)\n",
    "        t_sum = t_sum + term\n",
    "        part_sum_leibniz = t_sum\n",
    "        \n",
    "# Erreur relative en pourcentage (pct) selon la valeur de pi de numpy\n",
    "    err_pi_pct = 100*abs(np.pi - part_sum_leibniz) / np.pi    \n",
    "    \n",
    "    return terms_leibniz, part_sum_leibniz, err_pi_pct"
   ]
  },
  {
   "cell_type": "code",
   "execution_count": 34,
   "metadata": {},
   "outputs": [],
   "source": [
    "n = 100\n",
    "\n",
    "terms_leibniz, part_sum_leibniz, err_pi = leibniz(n)"
   ]
  },
  {
   "cell_type": "code",
   "execution_count": 35,
   "metadata": {},
   "outputs": [
    {
     "name": "stdout",
     "output_type": "stream",
     "text": [
      "Somme partielle de la série de Leibniz à 100 termes : 3.1315929036\n",
      "Erreur relative avec la valeur de numpy : 0.3183019294 %\n"
     ]
    }
   ],
   "source": [
    "#print(terms_leibniz)\n",
    "#print(part_sum_leibniz)\n",
    "#print(err_leibniz)\n",
    "print(\"Somme partielle de la série de Leibniz à {:} termes : {:.10f}\".format(n,part_sum_leibniz))\n",
    "print(\"Erreur relative avec la valeur de numpy : {:.10f} %\".format(err_pi))"
   ]
  },
  {
   "cell_type": "code",
   "execution_count": 36,
   "metadata": {},
   "outputs": [],
   "source": [
    "def ln3(n):\n",
    "    terms_ln3 = []\n",
    "    t_sum = 0\n",
    "    for i in range(n):\n",
    "        term = ((-1)**(i)) * 2**(i+1) / (i+1)\n",
    "        terms_ln3.append(term)\n",
    "        t_sum = t_sum + term\n",
    "        part_sum_ln3 = t_sum\n",
    "        \n",
    "# Erreur relative en pourcentage (pct) selon la valeur de pi de numpy\n",
    "    err_ln3_pct = 100*abs(np.log(3) - part_sum_ln3) / np.log(3)    \n",
    "    \n",
    "    return terms_ln3, part_sum_ln3, err_ln3_pct"
   ]
  },
  {
   "cell_type": "code",
   "execution_count": 37,
   "metadata": {},
   "outputs": [],
   "source": [
    "n = 3\n",
    "\n",
    "terms_ln3, part_sum_ln3, err_ln3 = ln3(n)"
   ]
  },
  {
   "cell_type": "code",
   "execution_count": 38,
   "metadata": {},
   "outputs": [
    {
     "name": "stdout",
     "output_type": "stream",
     "text": [
      "Somme partielle de $ln3$ à 3 termes : 2.6666666667\n",
      "Erreur relative avec la fonction de numpy : 142.7304604338 %\n"
     ]
    }
   ],
   "source": [
    "#print(terms_ln3)\n",
    "#print(part_sum_ln3)\n",
    "#print(err_ln3)\n",
    "print(\"Somme partielle de $ln3$ à {:} termes : {:.10f}\".format(n,part_sum_ln3))\n",
    "print(\"Erreur relative avec la fonction de numpy : {:.10f} %\".format(err_ln3))"
   ]
  },
  {
   "cell_type": "code",
   "execution_count": 47,
   "metadata": {},
   "outputs": [],
   "source": [
    "def epsilon(partial,n):\n",
    "    \"\"\"\n",
    "    The function returns the Sum of n terms of a serie with the epsilon algorithm.\n",
    "    param 1 S: array of terms of a serie with the size n. \n",
    "    return: sum, Sum of the serie.   \n",
    "    \"\"\"\n",
    "    e = np.zeros((n + 1, n + 1))\n",
    "\n",
    "    for i in range(1, n + 1):\n",
    "        e[i, 1] = partial[i - 1]\n",
    "\n",
    "    for i in range(3, n + 2):\n",
    "        for j in range(3, i + 1):\n",
    "            e[i - 1, j - 1] = e[i - 2, j - 3] + 1 / (e[i - 1, j - 2] - e[i - 2, j - 2])\n",
    "\n",
    "    sumation = e[:, 1:n + 1:2]\n",
    "    return sumation[-1,-1]\n"
   ]
  },
  {
   "cell_type": "code",
   "execution_count": 62,
   "metadata": {},
   "outputs": [
    {
     "name": "stdout",
     "output_type": "stream",
     "text": [
      "8.410485248495526e-14\n"
     ]
    }
   ],
   "source": [
    "def simpson(func, a, b, N):\n",
    "    \"\"\"\n",
    "    Integration by Simpson method\n",
    "    param 1 func: func is the function to integrate \n",
    "    param 2 a: a is the lower boundary of the integral \n",
    "    param 3 b: b is the upper boundary of the integral  \n",
    "    param 4 N: N is the number of slic\n",
    "    return: I, the integration of the function   \n",
    "    \"\"\"\n",
    "    h = abs(b - a) / N  # Size of the slices \n",
    "    x = np.linspace(a, b, N+1) #N+1 points in the interval [a,b]\n",
    "    y = func(x)\n",
    "    \n",
    "    y_odd = y[1:-1:2] #Sum of odd \n",
    "    s1 = np.sum(y_odd)\n",
    "    \n",
    "    y_even = y[2:-2:2] #Sum of even\n",
    "    s2 = np.sum(y_even)\n",
    "    \n",
    "    I = h/3*(y[0] + y[-1] + s1*4+s2*2) #Area under the curve \n",
    "    \n",
    "    return I \n",
    "    \n",
    "def Hankel_transform(func, p, n, L):\n",
    "    \"\"\"\n",
    "    Parameters\n",
    "    ----------\n",
    "    g : function that receives one argument and returns one \n",
    "        g the function to transform\n",
    "    p :The p value in the Fourrier-Bessel space \n",
    "    n : integer\n",
    "        The order of the Bessel function of the first kind.\n",
    "    L : The number of term for the partial sum \n",
    "    Returns\n",
    "    -------\n",
    "    The partial sum L of the hankel transform of the function func \n",
    "    \"\"\"\n",
    "    zeros = sp.jn_zeros(n, L+1) # array of the L+1 first zeros of bessel order n  \n",
    "    value = 0 #Initialize the value \n",
    "    partial_sums = []\n",
    "    #function to integrate\n",
    "    def f(x):\n",
    "        return x*func(x/p)/p**2 * sp.jv(n, x) \n",
    "    \n",
    "    for i in range(L):\n",
    "       I = simpson(f, zeros[i], zeros[i+1], 1000)\n",
    "       value += I\n",
    "       partial_sums.append(I)\n",
    "    test = epsilon(partial_sums,L)\n",
    "    return value, partial_sums,test\n",
    "\n",
    "def f1(x): \n",
    "    return x\n",
    "p = 1\n",
    "n = 0 \n",
    "L = 20\n",
    "\n",
    "p_value, partial_sums, test = Hankel_transform(f1, p, n, L)\n",
    "print(test)\n",
    "# x = np.arange(1, len(partial_sums)+1)\n",
    "# plt.plot(x, partial_sums)\n",
    "# plt.show()"
   ]
  },
  {
   "cell_type": "code",
   "execution_count": 40,
   "metadata": {},
   "outputs": [
    {
     "name": "stdout",
     "output_type": "stream",
     "text": [
      "1.0986122886598162\n"
     ]
    }
   ],
   "source": [
    "leibnizS = lambda i: (-1) ** i * 4/(2*i+1)\n",
    "ln3S = lambda i: ((-1)**(i)) * 2**(i+1) / (i+1)\n",
    "\n",
    "print(epsilon(ln3S,20))\n",
    "# leibniz_epsi = np.zeros(49)\n",
    "\n",
    "# for n in  range(2,50):\n",
    "#     print(n)\n",
    "#     leibniz_epsi[n-1] = epsilon(leibnizS,n)\n",
    "    \n",
    "# N = range(1,50)\n",
    "    \n",
    "# print(leibniz_epsi,n)"
   ]
  },
  {
   "cell_type": "code",
   "execution_count": null,
   "metadata": {},
   "outputs": [],
   "source": []
  }
 ],
 "metadata": {
  "kernelspec": {
   "display_name": "Python 3",
   "language": "python",
   "name": "python3"
  },
  "language_info": {
   "codemirror_mode": {
    "name": "ipython",
    "version": 3
   },
   "file_extension": ".py",
   "mimetype": "text/x-python",
   "name": "python",
   "nbconvert_exporter": "python",
   "pygments_lexer": "ipython3",
   "version": "3.6.3"
  }
 },
 "nbformat": 4,
 "nbformat_minor": 4
}
