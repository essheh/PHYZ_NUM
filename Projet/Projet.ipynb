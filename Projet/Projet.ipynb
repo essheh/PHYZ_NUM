{
 "cells": [
  {
   "cell_type": "markdown",
   "metadata": {},
   "source": [
    "# Projet Transformée de Fourier-Bessel (-Hankel) et l'algorthme $\\varepsilon$\n",
    "## Par Antoine Boissinot - - François Gaudreault - - Béatrice Lessard-Hamel\n",
    "### Présenté à M. Philippe Després\n",
    "\n",
    "#### Date de remise : 16 avril 2021"
   ]
  },
  {
   "cell_type": "code",
   "execution_count": 1,
   "metadata": {},
   "outputs": [],
   "source": [
    "#Module\n",
    "import numpy as np\n",
    "import scipy.special as sp"
   ]
  },
  {
   "cell_type": "code",
   "execution_count": 2,
   "metadata": {},
   "outputs": [],
   "source": [
    "# Function to compute zeros of integer-order Bessel functions Jn and Jn’\n",
    "\n",
    "# sp.jnjnp_zeros(nt)"
   ]
  },
  {
   "cell_type": "code",
   "execution_count": 3,
   "metadata": {},
   "outputs": [],
   "source": [
    "def leibniz(n):\n",
    "    terms_leibniz = []\n",
    "    t_sum = 0\n",
    "    for i in range(n):\n",
    "        term = (-1) ** i * 4/(2*i+1)\n",
    "        terms_leibniz.append(term)\n",
    "        t_sum = t_sum + term\n",
    "        part_sum_leibniz = t_sum\n",
    "        \n",
    "# Erreur relative en pourcentage (pct) selon la valeur de pi de numpy\n",
    "    err_pi_pct = 100*abs(np.pi - part_sum_leibniz) / np.pi    \n",
    "    \n",
    "    return terms_leibniz, part_sum_leibniz, err_pi_pct"
   ]
  },
  {
   "cell_type": "code",
   "execution_count": 4,
   "metadata": {},
   "outputs": [],
   "source": [
    "n = 100\n",
    "\n",
    "terms_leibniz, part_sum_leibniz, err_pi = leibniz(n)"
   ]
  },
  {
   "cell_type": "code",
   "execution_count": 5,
   "metadata": {},
   "outputs": [
    {
     "name": "stdout",
     "output_type": "stream",
     "text": [
      "Somme partielle de la série de Leibniz à 100 termes : 3.1315929036\n",
      "Erreur relative avec la valeur de numpy : 0.3183019294 %\n"
     ]
    }
   ],
   "source": [
    "#print(terms_leibniz)\n",
    "#print(part_sum_leibniz)\n",
    "#print(err_leibniz)\n",
    "print(\"Somme partielle de la série de Leibniz à {:} termes : {:.10f}\".format(n,part_sum_leibniz))\n",
    "print(\"Erreur relative avec la valeur de numpy : {:.10f} %\".format(err_pi))"
   ]
  },
  {
   "cell_type": "code",
   "execution_count": 6,
   "metadata": {},
   "outputs": [],
   "source": [
    "def ln3(n):\n",
    "    terms_ln3 = []\n",
    "    t_sum = 0\n",
    "    for i in range(n):\n",
    "        term = ((-1)**(i)) * 2**(i+1) / (i+1)\n",
    "        terms_ln3.append(term)\n",
    "        t_sum = t_sum + term\n",
    "        part_sum_ln3 = t_sum\n",
    "        \n",
    "# Erreur relative en pourcentage (pct) selon la valeur de pi de numpy\n",
    "    err_ln3_pct = 100*abs(np.log(3) - part_sum_ln3) / np.log(3)    \n",
    "    \n",
    "    return terms_ln3, part_sum_ln3, err_ln3_pct"
   ]
  },
  {
   "cell_type": "code",
   "execution_count": 7,
   "metadata": {},
   "outputs": [],
   "source": [
    "n = 3\n",
    "\n",
    "terms_ln3, part_sum_ln3, err_ln3 = ln3(n)"
   ]
  },
  {
   "cell_type": "code",
   "execution_count": 8,
   "metadata": {},
   "outputs": [
    {
     "name": "stdout",
     "output_type": "stream",
     "text": [
      "Somme partielle de $ln3$ à 3 termes : 2.6666666667\n",
      "Erreur relative avec la fonction de numpy : 142.7304604338 %\n"
     ]
    }
   ],
   "source": [
    "#print(terms_ln3)\n",
    "#print(part_sum_ln3)\n",
    "#print(err_ln3)\n",
    "print(\"Somme partielle de $ln3$ à {:} termes : {:.10f}\".format(n,part_sum_ln3))\n",
    "print(\"Erreur relative avec la fonction de numpy : {:.10f} %\".format(err_ln3))"
   ]
  },
  {
   "cell_type": "code",
   "execution_count": null,
   "metadata": {},
   "outputs": [],
   "source": []
  }
 ],
 "metadata": {
  "kernelspec": {
   "display_name": "Python 3",
   "language": "python",
   "name": "python3"
  },
  "language_info": {
   "codemirror_mode": {
    "name": "ipython",
    "version": 3
   },
   "file_extension": ".py",
   "mimetype": "text/x-python",
   "name": "python",
   "nbconvert_exporter": "python",
   "pygments_lexer": "ipython3",
   "version": "3.8.5"
  }
 },
 "nbformat": 4,
 "nbformat_minor": 4
}
